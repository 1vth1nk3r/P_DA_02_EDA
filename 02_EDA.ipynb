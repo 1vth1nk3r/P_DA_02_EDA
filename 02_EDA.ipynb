{
 "cells": [
  {
   "cell_type": "markdown",
   "metadata": {},
   "source": [
    "# Research on car sales ads\n",
    "\n",
    "Here we have a dataset of free vehicles advertisements, and our goal is to determine which factors influence the price of a vehicle. \n",
    "\n",
    "First, we should do some data preprocessing: fill in the missing values, clean spelling errors, and change data types. Also, we need to add some new columns to help our analysis. After doing so, we could explore our data and see if we could make any predictions.\n",
    "\n",
    "First, we should do some data preprocessing: fill in the missing values that we could, clean spelling errors, and change data types.  Also, we need to add some new columns that will help in our analysis.  After doing so, we could explore our data and look if we could make any predictions."
   ]
  },
  {
   "cell_type": "markdown",
   "metadata": {},
   "source": [
    "## Open the data file and study the general information. "
   ]
  },
  {
   "cell_type": "code",
   "execution_count": 1,
   "metadata": {},
   "outputs": [],
   "source": [
    "import pandas as pd\n",
    "import numpy as np\n",
    "import matplotlib.pyplot as plt \n",
    "from scipy import stats\n",
    "import seaborn as sn"
   ]
  },
  {
   "cell_type": "code",
   "execution_count": 2,
   "metadata": {},
   "outputs": [
    {
     "name": "stdout",
     "output_type": "stream",
     "text": [
      "<class 'pandas.core.frame.DataFrame'>\n",
      "RangeIndex: 51525 entries, 0 to 51524\n",
      "Data columns (total 13 columns):\n",
      " #   Column        Non-Null Count  Dtype  \n",
      "---  ------        --------------  -----  \n",
      " 0   price         51525 non-null  int64  \n",
      " 1   model_year    47906 non-null  float64\n",
      " 2   model         51525 non-null  object \n",
      " 3   condition     51525 non-null  object \n",
      " 4   cylinders     46265 non-null  float64\n",
      " 5   fuel          51525 non-null  object \n",
      " 6   odometer      43633 non-null  float64\n",
      " 7   transmission  51525 non-null  object \n",
      " 8   type          51525 non-null  object \n",
      " 9   paint_color   42258 non-null  object \n",
      " 10  is_4wd        25572 non-null  float64\n",
      " 11  date_posted   51525 non-null  object \n",
      " 12  days_listed   51525 non-null  int64  \n",
      "dtypes: float64(4), int64(2), object(7)\n",
      "memory usage: 5.1+ MB\n"
     ]
    }
   ],
   "source": [
    "cars = pd.read_csv('../datasets/vehicles_us.csv')\n",
    "cars.info()"
   ]
  },
  {
   "cell_type": "code",
   "execution_count": 3,
   "metadata": {},
   "outputs": [
    {
     "data": {
      "text/html": [
       "<div>\n",
       "<style scoped>\n",
       "    .dataframe tbody tr th:only-of-type {\n",
       "        vertical-align: middle;\n",
       "    }\n",
       "\n",
       "    .dataframe tbody tr th {\n",
       "        vertical-align: top;\n",
       "    }\n",
       "\n",
       "    .dataframe thead th {\n",
       "        text-align: right;\n",
       "    }\n",
       "</style>\n",
       "<table border=\"1\" class=\"dataframe\">\n",
       "  <thead>\n",
       "    <tr style=\"text-align: right;\">\n",
       "      <th></th>\n",
       "      <th>price</th>\n",
       "      <th>model_year</th>\n",
       "      <th>model</th>\n",
       "      <th>condition</th>\n",
       "      <th>cylinders</th>\n",
       "      <th>fuel</th>\n",
       "      <th>odometer</th>\n",
       "      <th>transmission</th>\n",
       "      <th>type</th>\n",
       "      <th>paint_color</th>\n",
       "      <th>is_4wd</th>\n",
       "      <th>date_posted</th>\n",
       "      <th>days_listed</th>\n",
       "    </tr>\n",
       "  </thead>\n",
       "  <tbody>\n",
       "    <tr>\n",
       "      <th>0</th>\n",
       "      <td>9400</td>\n",
       "      <td>2011.0</td>\n",
       "      <td>bmw x5</td>\n",
       "      <td>good</td>\n",
       "      <td>6.0</td>\n",
       "      <td>gas</td>\n",
       "      <td>145000.0</td>\n",
       "      <td>automatic</td>\n",
       "      <td>SUV</td>\n",
       "      <td>NaN</td>\n",
       "      <td>1.0</td>\n",
       "      <td>2018-06-23</td>\n",
       "      <td>19</td>\n",
       "    </tr>\n",
       "    <tr>\n",
       "      <th>1</th>\n",
       "      <td>25500</td>\n",
       "      <td>NaN</td>\n",
       "      <td>ford f-150</td>\n",
       "      <td>good</td>\n",
       "      <td>6.0</td>\n",
       "      <td>gas</td>\n",
       "      <td>88705.0</td>\n",
       "      <td>automatic</td>\n",
       "      <td>pickup</td>\n",
       "      <td>white</td>\n",
       "      <td>1.0</td>\n",
       "      <td>2018-10-19</td>\n",
       "      <td>50</td>\n",
       "    </tr>\n",
       "    <tr>\n",
       "      <th>2</th>\n",
       "      <td>5500</td>\n",
       "      <td>2013.0</td>\n",
       "      <td>hyundai sonata</td>\n",
       "      <td>like new</td>\n",
       "      <td>4.0</td>\n",
       "      <td>gas</td>\n",
       "      <td>110000.0</td>\n",
       "      <td>automatic</td>\n",
       "      <td>sedan</td>\n",
       "      <td>red</td>\n",
       "      <td>NaN</td>\n",
       "      <td>2019-02-07</td>\n",
       "      <td>79</td>\n",
       "    </tr>\n",
       "    <tr>\n",
       "      <th>3</th>\n",
       "      <td>1500</td>\n",
       "      <td>2003.0</td>\n",
       "      <td>ford f-150</td>\n",
       "      <td>fair</td>\n",
       "      <td>8.0</td>\n",
       "      <td>gas</td>\n",
       "      <td>NaN</td>\n",
       "      <td>automatic</td>\n",
       "      <td>pickup</td>\n",
       "      <td>NaN</td>\n",
       "      <td>NaN</td>\n",
       "      <td>2019-03-22</td>\n",
       "      <td>9</td>\n",
       "    </tr>\n",
       "    <tr>\n",
       "      <th>4</th>\n",
       "      <td>14900</td>\n",
       "      <td>2017.0</td>\n",
       "      <td>chrysler 200</td>\n",
       "      <td>excellent</td>\n",
       "      <td>4.0</td>\n",
       "      <td>gas</td>\n",
       "      <td>80903.0</td>\n",
       "      <td>automatic</td>\n",
       "      <td>sedan</td>\n",
       "      <td>black</td>\n",
       "      <td>NaN</td>\n",
       "      <td>2019-04-02</td>\n",
       "      <td>28</td>\n",
       "    </tr>\n",
       "  </tbody>\n",
       "</table>\n",
       "</div>"
      ],
      "text/plain": [
       "   price  model_year           model  condition  cylinders fuel  odometer  \\\n",
       "0   9400      2011.0          bmw x5       good        6.0  gas  145000.0   \n",
       "1  25500         NaN      ford f-150       good        6.0  gas   88705.0   \n",
       "2   5500      2013.0  hyundai sonata   like new        4.0  gas  110000.0   \n",
       "3   1500      2003.0      ford f-150       fair        8.0  gas       NaN   \n",
       "4  14900      2017.0    chrysler 200  excellent        4.0  gas   80903.0   \n",
       "\n",
       "  transmission    type paint_color  is_4wd date_posted  days_listed  \n",
       "0    automatic     SUV         NaN     1.0  2018-06-23           19  \n",
       "1    automatic  pickup       white     1.0  2018-10-19           50  \n",
       "2    automatic   sedan         red     NaN  2019-02-07           79  \n",
       "3    automatic  pickup         NaN     NaN  2019-03-22            9  \n",
       "4    automatic   sedan       black     NaN  2019-04-02           28  "
      ]
     },
     "metadata": {},
     "output_type": "display_data"
    }
   ],
   "source": [
    "display(cars.head())"
   ]
  },
  {
   "cell_type": "code",
   "execution_count": 4,
   "metadata": {},
   "outputs": [
    {
     "data": {
      "text/html": [
       "<div>\n",
       "<style scoped>\n",
       "    .dataframe tbody tr th:only-of-type {\n",
       "        vertical-align: middle;\n",
       "    }\n",
       "\n",
       "    .dataframe tbody tr th {\n",
       "        vertical-align: top;\n",
       "    }\n",
       "\n",
       "    .dataframe thead th {\n",
       "        text-align: right;\n",
       "    }\n",
       "</style>\n",
       "<table border=\"1\" class=\"dataframe\">\n",
       "  <thead>\n",
       "    <tr style=\"text-align: right;\">\n",
       "      <th></th>\n",
       "      <th>price</th>\n",
       "      <th>model_year</th>\n",
       "      <th>model</th>\n",
       "      <th>condition</th>\n",
       "      <th>cylinders</th>\n",
       "      <th>fuel</th>\n",
       "      <th>odometer</th>\n",
       "      <th>transmission</th>\n",
       "      <th>type</th>\n",
       "      <th>paint_color</th>\n",
       "      <th>is_4wd</th>\n",
       "      <th>date_posted</th>\n",
       "      <th>days_listed</th>\n",
       "    </tr>\n",
       "  </thead>\n",
       "  <tbody>\n",
       "    <tr>\n",
       "      <th>count</th>\n",
       "      <td>51525.000000</td>\n",
       "      <td>47906.000000</td>\n",
       "      <td>51525</td>\n",
       "      <td>51525</td>\n",
       "      <td>46265.000000</td>\n",
       "      <td>51525</td>\n",
       "      <td>43633.000000</td>\n",
       "      <td>51525</td>\n",
       "      <td>51525</td>\n",
       "      <td>42258</td>\n",
       "      <td>25572.0</td>\n",
       "      <td>51525</td>\n",
       "      <td>51525.00000</td>\n",
       "    </tr>\n",
       "    <tr>\n",
       "      <th>unique</th>\n",
       "      <td>NaN</td>\n",
       "      <td>NaN</td>\n",
       "      <td>100</td>\n",
       "      <td>6</td>\n",
       "      <td>NaN</td>\n",
       "      <td>5</td>\n",
       "      <td>NaN</td>\n",
       "      <td>3</td>\n",
       "      <td>13</td>\n",
       "      <td>12</td>\n",
       "      <td>NaN</td>\n",
       "      <td>354</td>\n",
       "      <td>NaN</td>\n",
       "    </tr>\n",
       "    <tr>\n",
       "      <th>top</th>\n",
       "      <td>NaN</td>\n",
       "      <td>NaN</td>\n",
       "      <td>ford f-150</td>\n",
       "      <td>excellent</td>\n",
       "      <td>NaN</td>\n",
       "      <td>gas</td>\n",
       "      <td>NaN</td>\n",
       "      <td>automatic</td>\n",
       "      <td>SUV</td>\n",
       "      <td>white</td>\n",
       "      <td>NaN</td>\n",
       "      <td>2019-03-17</td>\n",
       "      <td>NaN</td>\n",
       "    </tr>\n",
       "    <tr>\n",
       "      <th>freq</th>\n",
       "      <td>NaN</td>\n",
       "      <td>NaN</td>\n",
       "      <td>2796</td>\n",
       "      <td>24773</td>\n",
       "      <td>NaN</td>\n",
       "      <td>47288</td>\n",
       "      <td>NaN</td>\n",
       "      <td>46902</td>\n",
       "      <td>12405</td>\n",
       "      <td>10029</td>\n",
       "      <td>NaN</td>\n",
       "      <td>186</td>\n",
       "      <td>NaN</td>\n",
       "    </tr>\n",
       "    <tr>\n",
       "      <th>mean</th>\n",
       "      <td>12132.464920</td>\n",
       "      <td>2009.750470</td>\n",
       "      <td>NaN</td>\n",
       "      <td>NaN</td>\n",
       "      <td>6.125235</td>\n",
       "      <td>NaN</td>\n",
       "      <td>115553.461738</td>\n",
       "      <td>NaN</td>\n",
       "      <td>NaN</td>\n",
       "      <td>NaN</td>\n",
       "      <td>1.0</td>\n",
       "      <td>NaN</td>\n",
       "      <td>39.55476</td>\n",
       "    </tr>\n",
       "    <tr>\n",
       "      <th>std</th>\n",
       "      <td>10040.803015</td>\n",
       "      <td>6.282065</td>\n",
       "      <td>NaN</td>\n",
       "      <td>NaN</td>\n",
       "      <td>1.660360</td>\n",
       "      <td>NaN</td>\n",
       "      <td>65094.611341</td>\n",
       "      <td>NaN</td>\n",
       "      <td>NaN</td>\n",
       "      <td>NaN</td>\n",
       "      <td>0.0</td>\n",
       "      <td>NaN</td>\n",
       "      <td>28.20427</td>\n",
       "    </tr>\n",
       "    <tr>\n",
       "      <th>min</th>\n",
       "      <td>1.000000</td>\n",
       "      <td>1908.000000</td>\n",
       "      <td>NaN</td>\n",
       "      <td>NaN</td>\n",
       "      <td>3.000000</td>\n",
       "      <td>NaN</td>\n",
       "      <td>0.000000</td>\n",
       "      <td>NaN</td>\n",
       "      <td>NaN</td>\n",
       "      <td>NaN</td>\n",
       "      <td>1.0</td>\n",
       "      <td>NaN</td>\n",
       "      <td>0.00000</td>\n",
       "    </tr>\n",
       "    <tr>\n",
       "      <th>25%</th>\n",
       "      <td>5000.000000</td>\n",
       "      <td>2006.000000</td>\n",
       "      <td>NaN</td>\n",
       "      <td>NaN</td>\n",
       "      <td>4.000000</td>\n",
       "      <td>NaN</td>\n",
       "      <td>70000.000000</td>\n",
       "      <td>NaN</td>\n",
       "      <td>NaN</td>\n",
       "      <td>NaN</td>\n",
       "      <td>1.0</td>\n",
       "      <td>NaN</td>\n",
       "      <td>19.00000</td>\n",
       "    </tr>\n",
       "    <tr>\n",
       "      <th>50%</th>\n",
       "      <td>9000.000000</td>\n",
       "      <td>2011.000000</td>\n",
       "      <td>NaN</td>\n",
       "      <td>NaN</td>\n",
       "      <td>6.000000</td>\n",
       "      <td>NaN</td>\n",
       "      <td>113000.000000</td>\n",
       "      <td>NaN</td>\n",
       "      <td>NaN</td>\n",
       "      <td>NaN</td>\n",
       "      <td>1.0</td>\n",
       "      <td>NaN</td>\n",
       "      <td>33.00000</td>\n",
       "    </tr>\n",
       "    <tr>\n",
       "      <th>75%</th>\n",
       "      <td>16839.000000</td>\n",
       "      <td>2014.000000</td>\n",
       "      <td>NaN</td>\n",
       "      <td>NaN</td>\n",
       "      <td>8.000000</td>\n",
       "      <td>NaN</td>\n",
       "      <td>155000.000000</td>\n",
       "      <td>NaN</td>\n",
       "      <td>NaN</td>\n",
       "      <td>NaN</td>\n",
       "      <td>1.0</td>\n",
       "      <td>NaN</td>\n",
       "      <td>53.00000</td>\n",
       "    </tr>\n",
       "    <tr>\n",
       "      <th>max</th>\n",
       "      <td>375000.000000</td>\n",
       "      <td>2019.000000</td>\n",
       "      <td>NaN</td>\n",
       "      <td>NaN</td>\n",
       "      <td>12.000000</td>\n",
       "      <td>NaN</td>\n",
       "      <td>990000.000000</td>\n",
       "      <td>NaN</td>\n",
       "      <td>NaN</td>\n",
       "      <td>NaN</td>\n",
       "      <td>1.0</td>\n",
       "      <td>NaN</td>\n",
       "      <td>271.00000</td>\n",
       "    </tr>\n",
       "  </tbody>\n",
       "</table>\n",
       "</div>"
      ],
      "text/plain": [
       "                price    model_year       model  condition     cylinders  \\\n",
       "count    51525.000000  47906.000000       51525      51525  46265.000000   \n",
       "unique            NaN           NaN         100          6           NaN   \n",
       "top               NaN           NaN  ford f-150  excellent           NaN   \n",
       "freq              NaN           NaN        2796      24773           NaN   \n",
       "mean     12132.464920   2009.750470         NaN        NaN      6.125235   \n",
       "std      10040.803015      6.282065         NaN        NaN      1.660360   \n",
       "min          1.000000   1908.000000         NaN        NaN      3.000000   \n",
       "25%       5000.000000   2006.000000         NaN        NaN      4.000000   \n",
       "50%       9000.000000   2011.000000         NaN        NaN      6.000000   \n",
       "75%      16839.000000   2014.000000         NaN        NaN      8.000000   \n",
       "max     375000.000000   2019.000000         NaN        NaN     12.000000   \n",
       "\n",
       "         fuel       odometer transmission   type paint_color   is_4wd  \\\n",
       "count   51525   43633.000000        51525  51525       42258  25572.0   \n",
       "unique      5            NaN            3     13          12      NaN   \n",
       "top       gas            NaN    automatic    SUV       white      NaN   \n",
       "freq    47288            NaN        46902  12405       10029      NaN   \n",
       "mean      NaN  115553.461738          NaN    NaN         NaN      1.0   \n",
       "std       NaN   65094.611341          NaN    NaN         NaN      0.0   \n",
       "min       NaN       0.000000          NaN    NaN         NaN      1.0   \n",
       "25%       NaN   70000.000000          NaN    NaN         NaN      1.0   \n",
       "50%       NaN  113000.000000          NaN    NaN         NaN      1.0   \n",
       "75%       NaN  155000.000000          NaN    NaN         NaN      1.0   \n",
       "max       NaN  990000.000000          NaN    NaN         NaN      1.0   \n",
       "\n",
       "       date_posted  days_listed  \n",
       "count        51525  51525.00000  \n",
       "unique         354          NaN  \n",
       "top     2019-03-17          NaN  \n",
       "freq           186          NaN  \n",
       "mean           NaN     39.55476  \n",
       "std            NaN     28.20427  \n",
       "min            NaN      0.00000  \n",
       "25%            NaN     19.00000  \n",
       "50%            NaN     33.00000  \n",
       "75%            NaN     53.00000  \n",
       "max            NaN    271.00000  "
      ]
     },
     "execution_count": 4,
     "metadata": {},
     "output_type": "execute_result"
    }
   ],
   "source": [
    "cars.describe(include='all')"
   ]
  },
  {
   "cell_type": "code",
   "execution_count": 5,
   "metadata": {},
   "outputs": [
    {
     "data": {
      "text/plain": [
       "acura tl             236\n",
       "bmw x5               267\n",
       "buick enclave        271\n",
       "cadillac escalade    322\n",
       "chevrolet camaro     414\n",
       "                    ... \n",
       "toyota sienna        329\n",
       "toyota tacoma        827\n",
       "toyota tundra        603\n",
       "volkswagen jetta     519\n",
       "volkswagen passat    350\n",
       "Name: model, Length: 100, dtype: int64"
      ]
     },
     "metadata": {},
     "output_type": "display_data"
    },
    {
     "data": {
      "text/plain": [
       "excellent    24773\n",
       "good         20145\n",
       "like new      4742\n",
       "fair          1607\n",
       "new            143\n",
       "salvage        115\n",
       "Name: condition, dtype: int64"
      ]
     },
     "metadata": {},
     "output_type": "display_data"
    },
    {
     "data": {
      "text/plain": [
       "gas         47288\n",
       "diesel       3714\n",
       "hybrid        409\n",
       "other         108\n",
       "electric        6\n",
       "Name: fuel, dtype: int64"
      ]
     },
     "metadata": {},
     "output_type": "display_data"
    },
    {
     "data": {
      "text/plain": [
       "automatic    46902\n",
       "manual        2829\n",
       "other         1794\n",
       "Name: transmission, dtype: int64"
      ]
     },
     "metadata": {},
     "output_type": "display_data"
    },
    {
     "data": {
      "text/plain": [
       "SUV            12405\n",
       "truck          12353\n",
       "sedan          12154\n",
       "pickup          6988\n",
       "coupe           2303\n",
       "wagon           1541\n",
       "mini-van        1161\n",
       "hatchback       1047\n",
       "van              633\n",
       "convertible      446\n",
       "other            256\n",
       "offroad          214\n",
       "bus               24\n",
       "Name: type, dtype: int64"
      ]
     },
     "metadata": {},
     "output_type": "display_data"
    },
    {
     "data": {
      "text/plain": [
       "black      7692\n",
       "blue       4475\n",
       "brown      1223\n",
       "custom     1153\n",
       "green      1396\n",
       "grey       5037\n",
       "orange      231\n",
       "purple      102\n",
       "red        4421\n",
       "silver     6244\n",
       "white     10029\n",
       "yellow      255\n",
       "Name: paint_color, dtype: int64"
      ]
     },
     "metadata": {},
     "output_type": "display_data"
    }
   ],
   "source": [
    "display(cars['model'].value_counts().sort_index())\n",
    "display(cars['condition'].value_counts())\n",
    "display(cars['fuel'].value_counts())\n",
    "display(cars['transmission'].value_counts())\n",
    "display(cars['type'].value_counts())\n",
    "display(cars['paint_color'].value_counts().sort_index())"
   ]
  },
  {
   "cell_type": "code",
   "execution_count": 6,
   "metadata": {},
   "outputs": [
    {
     "data": {
      "text/html": [
       "<div>\n",
       "<style scoped>\n",
       "    .dataframe tbody tr th:only-of-type {\n",
       "        vertical-align: middle;\n",
       "    }\n",
       "\n",
       "    .dataframe tbody tr th {\n",
       "        vertical-align: top;\n",
       "    }\n",
       "\n",
       "    .dataframe thead th {\n",
       "        text-align: right;\n",
       "    }\n",
       "</style>\n",
       "<table border=\"1\" class=\"dataframe\">\n",
       "  <thead>\n",
       "    <tr style=\"text-align: right;\">\n",
       "      <th></th>\n",
       "      <th>missing_values</th>\n",
       "      <th>% of total</th>\n",
       "    </tr>\n",
       "  </thead>\n",
       "  <tbody>\n",
       "    <tr>\n",
       "      <th>is_4wd</th>\n",
       "      <td>25953</td>\n",
       "      <td>50.37</td>\n",
       "    </tr>\n",
       "    <tr>\n",
       "      <th>paint_color</th>\n",
       "      <td>9267</td>\n",
       "      <td>17.99</td>\n",
       "    </tr>\n",
       "    <tr>\n",
       "      <th>odometer</th>\n",
       "      <td>7892</td>\n",
       "      <td>15.32</td>\n",
       "    </tr>\n",
       "    <tr>\n",
       "      <th>cylinders</th>\n",
       "      <td>5260</td>\n",
       "      <td>10.21</td>\n",
       "    </tr>\n",
       "    <tr>\n",
       "      <th>model_year</th>\n",
       "      <td>3619</td>\n",
       "      <td>7.02</td>\n",
       "    </tr>\n",
       "    <tr>\n",
       "      <th>price</th>\n",
       "      <td>0</td>\n",
       "      <td>0.00</td>\n",
       "    </tr>\n",
       "    <tr>\n",
       "      <th>model</th>\n",
       "      <td>0</td>\n",
       "      <td>0.00</td>\n",
       "    </tr>\n",
       "    <tr>\n",
       "      <th>condition</th>\n",
       "      <td>0</td>\n",
       "      <td>0.00</td>\n",
       "    </tr>\n",
       "    <tr>\n",
       "      <th>fuel</th>\n",
       "      <td>0</td>\n",
       "      <td>0.00</td>\n",
       "    </tr>\n",
       "    <tr>\n",
       "      <th>transmission</th>\n",
       "      <td>0</td>\n",
       "      <td>0.00</td>\n",
       "    </tr>\n",
       "    <tr>\n",
       "      <th>type</th>\n",
       "      <td>0</td>\n",
       "      <td>0.00</td>\n",
       "    </tr>\n",
       "    <tr>\n",
       "      <th>date_posted</th>\n",
       "      <td>0</td>\n",
       "      <td>0.00</td>\n",
       "    </tr>\n",
       "    <tr>\n",
       "      <th>days_listed</th>\n",
       "      <td>0</td>\n",
       "      <td>0.00</td>\n",
       "    </tr>\n",
       "  </tbody>\n",
       "</table>\n",
       "</div>"
      ],
      "text/plain": [
       "              missing_values  % of total\n",
       "is_4wd                 25953       50.37\n",
       "paint_color             9267       17.99\n",
       "odometer                7892       15.32\n",
       "cylinders               5260       10.21\n",
       "model_year              3619        7.02\n",
       "price                      0        0.00\n",
       "model                      0        0.00\n",
       "condition                  0        0.00\n",
       "fuel                       0        0.00\n",
       "transmission               0        0.00\n",
       "type                       0        0.00\n",
       "date_posted                0        0.00\n",
       "days_listed                0        0.00"
      ]
     },
     "execution_count": 6,
     "metadata": {},
     "output_type": "execute_result"
    }
   ],
   "source": [
    "report = cars.isna().sum().to_frame()\n",
    "report = report.rename(columns = {0: 'missing_values'})\n",
    "report['% of total'] = (report['missing_values'] / cars.shape[0] * 100).round(2)\n",
    "report.sort_values(by = 'missing_values', ascending = False)"
   ]
  },
  {
   "cell_type": "markdown",
   "metadata": {},
   "source": [
    "### Conclusion"
   ]
  },
  {
   "cell_type": "markdown",
   "metadata": {},
   "source": [
    "We have a lot of missing values in our dataset, and we can't just drop all these entries. We'll have a closer look at if we could fill them in the next section.\n",
    "\n",
    "Also, we should change 'model_year' and 'cylinders' type to int (maybe 'odometer' too, but need to check that we don't lose any data doing so). 'is_4wd' should become a boolean value and 'date_posted' datetime."
   ]
  },
  {
   "cell_type": "markdown",
   "metadata": {},
   "source": [
    "## Data preprocessing"
   ]
  },
  {
   "cell_type": "code",
   "execution_count": 7,
   "metadata": {},
   "outputs": [],
   "source": [
    "cars['is_4wd'] = cars['is_4wd'].fillna(value=0).astype('bool')"
   ]
  },
  {
   "cell_type": "code",
   "execution_count": 8,
   "metadata": {},
   "outputs": [],
   "source": [
    "#filling model_year based on median for model group\n",
    "\n",
    "cars['model_year'] = cars['model_year'].fillna(value=cars.groupby('model')['model_year'].transform('median'))"
   ]
  },
  {
   "cell_type": "code",
   "execution_count": 9,
   "metadata": {},
   "outputs": [],
   "source": [
    "#filling cylinders based on mode for model and model_year group\n",
    "cars['cylinders'] = cars['cylinders'].fillna(cars.groupby(['model','model_year'])['cylinders'].transform(lambda x: next(iter(x.mode()), np.nan)))\n",
    "cars['cylinders'] = cars['cylinders'].fillna(cars.groupby(['model'])['cylinders'].transform(lambda x: next(iter(x.mode()), np.nan)))\n"
   ]
  },
  {
   "cell_type": "code",
   "execution_count": 10,
   "metadata": {},
   "outputs": [],
   "source": [
    "cars['model_year'] = cars['model_year'].astype('int')\n",
    "cars['cylinders'] = cars['cylinders'].astype('int')\n",
    "# using Int64 so we could leave NaN values\n",
    "cars['odometer'] = cars['odometer'].astype('Int64')"
   ]
  },
  {
   "cell_type": "code",
   "execution_count": 11,
   "metadata": {},
   "outputs": [],
   "source": [
    "cars['date_posted'] = pd.to_datetime(cars['date_posted'], format='%Y.%m.%d') "
   ]
  },
  {
   "cell_type": "code",
   "execution_count": 12,
   "metadata": {},
   "outputs": [],
   "source": [
    "# correcting some spelling variability\n",
    "\n",
    "cars.loc[:,'model'] = cars['model'].apply(lambda x: x.replace('super duty', 'sd'))\n",
    "cars.loc[:,'model'] = cars['model'].apply(lambda x: x.replace('-', ''))"
   ]
  },
  {
   "cell_type": "markdown",
   "metadata": {},
   "source": [
    "### Conclusion"
   ]
  },
  {
   "cell_type": "markdown",
   "metadata": {},
   "source": [
    "All filled values in 'is_4wd' are 1, so it's safe to assume that missing values represent an absence of 4wd.\n",
    "\n",
    "We have 7% of missing values in 'model_year' that we can fill with the median for the model.\n",
    "\n",
    "We have 14% of missing values in the 'cylinders' column. We can not fill them with the mean or the median since it is a categorical variable. (If half of the cars of this model and year have 6 cylinders and half 8, we will have the median of 7. But there are no such engines.) So better use mode for the same 'model' and 'model_year' here.\n",
    "\n",
    "We don't have any reasonable method to fill 15% of missing values in the 'odometer' column and 18% in 'paint_color'.  The odometer is the most influenced by the owner of the car and not by the vehicle itself. So let's leave these values undefined for now.\n",
    "\n",
    "Next, I changed 'model_year' and 'odometer' type to int, 'cylinders'  to Int64 (to save NaNs) and 'date_posted' to datetime.\n",
    "\n",
    "Also, I unified models' spelling a bit.\n",
    "\n",
    "We don't have any duplicates in this data set, so nothing to drop here."
   ]
  },
  {
   "cell_type": "markdown",
   "metadata": {},
   "source": [
    "## Make calculations and add them to the table"
   ]
  },
  {
   "cell_type": "code",
   "execution_count": 13,
   "metadata": {},
   "outputs": [
    {
     "data": {
      "text/html": [
       "<div>\n",
       "<style scoped>\n",
       "    .dataframe tbody tr th:only-of-type {\n",
       "        vertical-align: middle;\n",
       "    }\n",
       "\n",
       "    .dataframe tbody tr th {\n",
       "        vertical-align: top;\n",
       "    }\n",
       "\n",
       "    .dataframe thead th {\n",
       "        text-align: right;\n",
       "    }\n",
       "</style>\n",
       "<table border=\"1\" class=\"dataframe\">\n",
       "  <thead>\n",
       "    <tr style=\"text-align: right;\">\n",
       "      <th></th>\n",
       "      <th>price</th>\n",
       "      <th>model_year</th>\n",
       "      <th>model</th>\n",
       "      <th>condition</th>\n",
       "      <th>cylinders</th>\n",
       "      <th>fuel</th>\n",
       "      <th>odometer</th>\n",
       "      <th>transmission</th>\n",
       "      <th>type</th>\n",
       "      <th>paint_color</th>\n",
       "      <th>is_4wd</th>\n",
       "      <th>date_posted</th>\n",
       "      <th>days_listed</th>\n",
       "      <th>dow_posted</th>\n",
       "      <th>month_posted</th>\n",
       "      <th>year_posted</th>\n",
       "    </tr>\n",
       "  </thead>\n",
       "  <tbody>\n",
       "    <tr>\n",
       "      <th>0</th>\n",
       "      <td>9400</td>\n",
       "      <td>2011</td>\n",
       "      <td>bmw x5</td>\n",
       "      <td>good</td>\n",
       "      <td>6</td>\n",
       "      <td>gas</td>\n",
       "      <td>145000</td>\n",
       "      <td>automatic</td>\n",
       "      <td>SUV</td>\n",
       "      <td>NaN</td>\n",
       "      <td>True</td>\n",
       "      <td>2018-06-23</td>\n",
       "      <td>19</td>\n",
       "      <td>Saturday</td>\n",
       "      <td>June</td>\n",
       "      <td>2018</td>\n",
       "    </tr>\n",
       "    <tr>\n",
       "      <th>1</th>\n",
       "      <td>25500</td>\n",
       "      <td>2011</td>\n",
       "      <td>ford f150</td>\n",
       "      <td>good</td>\n",
       "      <td>6</td>\n",
       "      <td>gas</td>\n",
       "      <td>88705</td>\n",
       "      <td>automatic</td>\n",
       "      <td>pickup</td>\n",
       "      <td>white</td>\n",
       "      <td>True</td>\n",
       "      <td>2018-10-19</td>\n",
       "      <td>50</td>\n",
       "      <td>Friday</td>\n",
       "      <td>October</td>\n",
       "      <td>2018</td>\n",
       "    </tr>\n",
       "    <tr>\n",
       "      <th>2</th>\n",
       "      <td>5500</td>\n",
       "      <td>2013</td>\n",
       "      <td>hyundai sonata</td>\n",
       "      <td>like new</td>\n",
       "      <td>4</td>\n",
       "      <td>gas</td>\n",
       "      <td>110000</td>\n",
       "      <td>automatic</td>\n",
       "      <td>sedan</td>\n",
       "      <td>red</td>\n",
       "      <td>False</td>\n",
       "      <td>2019-02-07</td>\n",
       "      <td>79</td>\n",
       "      <td>Thursday</td>\n",
       "      <td>February</td>\n",
       "      <td>2019</td>\n",
       "    </tr>\n",
       "    <tr>\n",
       "      <th>3</th>\n",
       "      <td>1500</td>\n",
       "      <td>2003</td>\n",
       "      <td>ford f150</td>\n",
       "      <td>fair</td>\n",
       "      <td>8</td>\n",
       "      <td>gas</td>\n",
       "      <td>&lt;NA&gt;</td>\n",
       "      <td>automatic</td>\n",
       "      <td>pickup</td>\n",
       "      <td>NaN</td>\n",
       "      <td>False</td>\n",
       "      <td>2019-03-22</td>\n",
       "      <td>9</td>\n",
       "      <td>Friday</td>\n",
       "      <td>March</td>\n",
       "      <td>2019</td>\n",
       "    </tr>\n",
       "    <tr>\n",
       "      <th>4</th>\n",
       "      <td>14900</td>\n",
       "      <td>2017</td>\n",
       "      <td>chrysler 200</td>\n",
       "      <td>excellent</td>\n",
       "      <td>4</td>\n",
       "      <td>gas</td>\n",
       "      <td>80903</td>\n",
       "      <td>automatic</td>\n",
       "      <td>sedan</td>\n",
       "      <td>black</td>\n",
       "      <td>False</td>\n",
       "      <td>2019-04-02</td>\n",
       "      <td>28</td>\n",
       "      <td>Tuesday</td>\n",
       "      <td>April</td>\n",
       "      <td>2019</td>\n",
       "    </tr>\n",
       "  </tbody>\n",
       "</table>\n",
       "</div>"
      ],
      "text/plain": [
       "   price  model_year           model  condition  cylinders fuel  odometer  \\\n",
       "0   9400        2011          bmw x5       good          6  gas    145000   \n",
       "1  25500        2011       ford f150       good          6  gas     88705   \n",
       "2   5500        2013  hyundai sonata   like new          4  gas    110000   \n",
       "3   1500        2003       ford f150       fair          8  gas      <NA>   \n",
       "4  14900        2017    chrysler 200  excellent          4  gas     80903   \n",
       "\n",
       "  transmission    type paint_color  is_4wd date_posted  days_listed  \\\n",
       "0    automatic     SUV         NaN    True  2018-06-23           19   \n",
       "1    automatic  pickup       white    True  2018-10-19           50   \n",
       "2    automatic   sedan         red   False  2019-02-07           79   \n",
       "3    automatic  pickup         NaN   False  2019-03-22            9   \n",
       "4    automatic   sedan       black   False  2019-04-02           28   \n",
       "\n",
       "  dow_posted month_posted  year_posted  \n",
       "0   Saturday         June         2018  \n",
       "1     Friday      October         2018  \n",
       "2   Thursday     February         2019  \n",
       "3     Friday        March         2019  \n",
       "4    Tuesday        April         2019  "
      ]
     },
     "execution_count": 13,
     "metadata": {},
     "output_type": "execute_result"
    }
   ],
   "source": [
    "# adding columns for different parts of the posting date\n",
    "\n",
    "cars['dow_posted'] = cars['date_posted'].dt.day_name()\n",
    "cars['month_posted'] = cars['date_posted'].dt.month_name()\n",
    "cars['year_posted'] = cars['date_posted'].dt.year\n",
    "\n",
    "cars.head()"
   ]
  },
  {
   "cell_type": "code",
   "execution_count": 14,
   "metadata": {},
   "outputs": [],
   "source": [
    "# adding car's age when the ad was placed\n",
    "\n",
    "cars['age'] = cars['year_posted'] - cars['model_year']\n",
    "cars['age'] = cars['age'].astype('Int64')"
   ]
  },
  {
   "cell_type": "code",
   "execution_count": 15,
   "metadata": {},
   "outputs": [],
   "source": [
    "# calculating mileage when the ad was placed\n",
    "\n",
    "mileage_filter = (cars['odometer'].notna()) & (cars['age'] > 0)\n",
    "cars.loc[mileage_filter, 'mileage'] = cars.loc[mileage_filter, 'odometer'] / cars.loc[mileage_filter, 'age']\n",
    "\n",
    "mileage_filter2 = (cars['odometer'].notna()) & (cars['age'] == 0)\n",
    "cars.loc[mileage_filter2, 'mileage'] = cars.loc[mileage_filter2, 'odometer']\n",
    "cars['mileage'] = cars['mileage'].round().astype('Int64')"
   ]
  },
  {
   "cell_type": "code",
   "execution_count": 16,
   "metadata": {},
   "outputs": [],
   "source": [
    "# replacing string condition values with numeric \n",
    "\n",
    "condition = {'salvage': 0, 'fair': 1, 'good': 2, 'excellent': 3, 'like new':4, 'new':5}\n",
    "cars['condition'] = cars['condition'].apply(lambda x: condition[x])"
   ]
  },
  {
   "cell_type": "markdown",
   "metadata": {},
   "source": [
    "### Conclusion"
   ]
  },
  {
   "cell_type": "markdown",
   "metadata": {},
   "source": [
    "In this part, I calculated and added to the table several new columns:\n",
    "\n",
    "- day of the week, month, and year the ad was placed\n",
    "- the vehicle's age (in years) when the ad was placed\n",
    "- the vehicle's average mileage per year\n",
    "\n",
    "Also, in the condition column, I replaced string values with a numeric scale."
   ]
  },
  {
   "cell_type": "markdown",
   "metadata": {},
   "source": [
    "## Carry out exploratory data analysis"
   ]
  },
  {
   "cell_type": "code",
   "execution_count": 17,
   "metadata": {},
   "outputs": [
    {
     "data": {
      "text/html": [
       "<div>\n",
       "<style scoped>\n",
       "    .dataframe tbody tr th:only-of-type {\n",
       "        vertical-align: middle;\n",
       "    }\n",
       "\n",
       "    .dataframe tbody tr th {\n",
       "        vertical-align: top;\n",
       "    }\n",
       "\n",
       "    .dataframe thead th {\n",
       "        text-align: right;\n",
       "    }\n",
       "</style>\n",
       "<table border=\"1\" class=\"dataframe\">\n",
       "  <thead>\n",
       "    <tr style=\"text-align: right;\">\n",
       "      <th></th>\n",
       "      <th>price</th>\n",
       "      <th>model_year</th>\n",
       "      <th>condition</th>\n",
       "      <th>cylinders</th>\n",
       "      <th>odometer</th>\n",
       "      <th>days_listed</th>\n",
       "      <th>year_posted</th>\n",
       "      <th>age</th>\n",
       "      <th>mileage</th>\n",
       "    </tr>\n",
       "  </thead>\n",
       "  <tbody>\n",
       "    <tr>\n",
       "      <th>count</th>\n",
       "      <td>51525.000000</td>\n",
       "      <td>51525.000000</td>\n",
       "      <td>51525.000000</td>\n",
       "      <td>51525.000000</td>\n",
       "      <td>43633.000000</td>\n",
       "      <td>51525.00000</td>\n",
       "      <td>51525.000000</td>\n",
       "      <td>51525.000000</td>\n",
       "      <td>43633.000000</td>\n",
       "    </tr>\n",
       "    <tr>\n",
       "      <th>mean</th>\n",
       "      <td>12132.464920</td>\n",
       "      <td>2009.793557</td>\n",
       "      <td>2.637535</td>\n",
       "      <td>6.119010</td>\n",
       "      <td>115553.461738</td>\n",
       "      <td>39.55476</td>\n",
       "      <td>2018.307462</td>\n",
       "      <td>8.513906</td>\n",
       "      <td>17846.007953</td>\n",
       "    </tr>\n",
       "    <tr>\n",
       "      <th>std</th>\n",
       "      <td>10040.803015</td>\n",
       "      <td>6.099381</td>\n",
       "      <td>0.712447</td>\n",
       "      <td>1.657395</td>\n",
       "      <td>65094.611341</td>\n",
       "      <td>28.20427</td>\n",
       "      <td>0.461447</td>\n",
       "      <td>6.112976</td>\n",
       "      <td>13210.833025</td>\n",
       "    </tr>\n",
       "    <tr>\n",
       "      <th>min</th>\n",
       "      <td>1.000000</td>\n",
       "      <td>1908.000000</td>\n",
       "      <td>0.000000</td>\n",
       "      <td>3.000000</td>\n",
       "      <td>0.000000</td>\n",
       "      <td>0.00000</td>\n",
       "      <td>2018.000000</td>\n",
       "      <td>0.000000</td>\n",
       "      <td>0.000000</td>\n",
       "    </tr>\n",
       "    <tr>\n",
       "      <th>25%</th>\n",
       "      <td>5000.000000</td>\n",
       "      <td>2007.000000</td>\n",
       "      <td>2.000000</td>\n",
       "      <td>4.000000</td>\n",
       "      <td>70000.000000</td>\n",
       "      <td>19.00000</td>\n",
       "      <td>2018.000000</td>\n",
       "      <td>4.000000</td>\n",
       "      <td>10547.000000</td>\n",
       "    </tr>\n",
       "    <tr>\n",
       "      <th>50%</th>\n",
       "      <td>9000.000000</td>\n",
       "      <td>2011.000000</td>\n",
       "      <td>3.000000</td>\n",
       "      <td>6.000000</td>\n",
       "      <td>113000.000000</td>\n",
       "      <td>33.00000</td>\n",
       "      <td>2018.000000</td>\n",
       "      <td>8.000000</td>\n",
       "      <td>15026.000000</td>\n",
       "    </tr>\n",
       "    <tr>\n",
       "      <th>75%</th>\n",
       "      <td>16839.000000</td>\n",
       "      <td>2014.000000</td>\n",
       "      <td>3.000000</td>\n",
       "      <td>8.000000</td>\n",
       "      <td>155000.000000</td>\n",
       "      <td>53.00000</td>\n",
       "      <td>2019.000000</td>\n",
       "      <td>12.000000</td>\n",
       "      <td>21500.000000</td>\n",
       "    </tr>\n",
       "    <tr>\n",
       "      <th>max</th>\n",
       "      <td>375000.000000</td>\n",
       "      <td>2019.000000</td>\n",
       "      <td>5.000000</td>\n",
       "      <td>12.000000</td>\n",
       "      <td>990000.000000</td>\n",
       "      <td>271.00000</td>\n",
       "      <td>2019.000000</td>\n",
       "      <td>110.000000</td>\n",
       "      <td>373200.000000</td>\n",
       "    </tr>\n",
       "  </tbody>\n",
       "</table>\n",
       "</div>"
      ],
      "text/plain": [
       "               price    model_year     condition     cylinders       odometer  \\\n",
       "count   51525.000000  51525.000000  51525.000000  51525.000000   43633.000000   \n",
       "mean    12132.464920   2009.793557      2.637535      6.119010  115553.461738   \n",
       "std     10040.803015      6.099381      0.712447      1.657395   65094.611341   \n",
       "min         1.000000   1908.000000      0.000000      3.000000       0.000000   \n",
       "25%      5000.000000   2007.000000      2.000000      4.000000   70000.000000   \n",
       "50%      9000.000000   2011.000000      3.000000      6.000000  113000.000000   \n",
       "75%     16839.000000   2014.000000      3.000000      8.000000  155000.000000   \n",
       "max    375000.000000   2019.000000      5.000000     12.000000  990000.000000   \n",
       "\n",
       "       days_listed   year_posted           age        mileage  \n",
       "count  51525.00000  51525.000000  51525.000000   43633.000000  \n",
       "mean      39.55476   2018.307462      8.513906   17846.007953  \n",
       "std       28.20427      0.461447      6.112976   13210.833025  \n",
       "min        0.00000   2018.000000      0.000000       0.000000  \n",
       "25%       19.00000   2018.000000      4.000000   10547.000000  \n",
       "50%       33.00000   2018.000000      8.000000   15026.000000  \n",
       "75%       53.00000   2019.000000     12.000000   21500.000000  \n",
       "max      271.00000   2019.000000    110.000000  373200.000000  "
      ]
     },
     "execution_count": 17,
     "metadata": {},
     "output_type": "execute_result"
    }
   ],
   "source": [
    "cars.describe()"
   ]
  },
  {
   "cell_type": "code",
   "execution_count": 18,
   "metadata": {},
   "outputs": [
    {
     "data": {
      "image/png": "[encoded data removed]",
      "text/plain": [
       "<Figure size 432x288 with 1 Axes>"
      ]
     },
     "metadata": {
      "needs_background": "light"
     },
     "output_type": "display_data"
    },
    {
     "data": {
      "image/png": "[encoded data removed]",
      "text/plain": [
       "<Figure size 432x288 with 1 Axes>"
      ]
     },
     "metadata": {
      "needs_background": "light"
     },
     "output_type": "display_data"
    },
    {
     "data": {
      "image/png": "[encoded data removed]",
      "text/plain": [
       "<Figure size 432x288 with 1 Axes>"
      ]
     },
     "metadata": {
      "needs_background": "light"
     },
     "output_type": "display_data"
    },
    {
     "data": {
      "image/png": "[encoded data removed]",
      "text/plain": [
       "<Figure size 432x288 with 1 Axes>"
      ]
     },
     "metadata": {
      "needs_background": "light"
     },
     "output_type": "display_data"
    },
    {
     "data": {
      "image/png": "[encoded data removed]",
      "text/plain": [
       "<Figure size 432x288 with 1 Axes>"
      ]
     },
     "metadata": {
      "needs_background": "light"
     },
     "output_type": "display_data"
    }
   ],
   "source": [
    "# drawing some histograms on raw data\n",
    "\n",
    "def show_hist_chart(dataframe: pd.core.frame.DataFrame, column_name: str, bins: int = 10):\n",
    "    dataframe.plot(\n",
    "        kind='hist', y=column_name, bins=bins, fontsize=10, legend=None\n",
    "    )\n",
    "    beautify_column_name = column_name[0].upper() + column_name[1:].replace('_', ' ')\n",
    "    plt.title(f'{beautify_column_name} of a car', fontsize=14)\n",
    "    plt.show()\n",
    "\n",
    "show_hist_chart(cars, 'price', bins=50)\n",
    "show_hist_chart(cars, 'age', bins=25)\n",
    "show_hist_chart(cars, 'mileage', bins=50)\n",
    "show_hist_chart(cars, 'cylinders', bins=12)\n",
    "show_hist_chart(cars, 'condition', bins=6)"
   ]
  },
  {
   "cell_type": "code",
   "execution_count": 19,
   "metadata": {},
   "outputs": [
    {
     "data": {
      "image/png": "[encoded data removed]",
      "text/plain": [
       "<Figure size 360x360 with 1 Axes>"
      ]
     },
     "metadata": {
      "needs_background": "light"
     },
     "output_type": "display_data"
    },
    {
     "data": {
      "image/png": "[encoded data removed]",
      "text/plain": [
       "<Figure size 360x360 with 1 Axes>"
      ]
     },
     "metadata": {
      "needs_background": "light"
     },
     "output_type": "display_data"
    },
    {
     "data": {
      "image/png": "[encoded data removed]",
      "text/plain": [
       "<Figure size 360x360 with 1 Axes>"
      ]
     },
     "metadata": {
      "needs_background": "light"
     },
     "output_type": "display_data"
    },
    {
     "data": {
      "image/png": "[encoded data removed]",
      "text/plain": [
       "<Figure size 360x360 with 1 Axes>"
      ]
     },
     "metadata": {
      "needs_background": "light"
     },
     "output_type": "display_data"
    },
    {
     "data": {
      "image/png": "[encoded data removed]",
      "text/plain": [
       "<Figure size 360x360 with 1 Axes>"
      ]
     },
     "metadata": {
      "needs_background": "light"
     },
     "output_type": "display_data"
    }
   ],
   "source": [
    "# boxplots of the same columns could show outliers better\n",
    "\n",
    "def show_box_plot(dataframe: pd.core.frame.DataFrame, column_name: str):\n",
    "    dataframe.plot(\n",
    "        kind='box', y=column_name, figsize=(5, 5), fontsize=10\n",
    "    )\n",
    "    beautify_column_name = column_name[0].upper() + column_name[1:].replace('_', ' ')\n",
    "    plt.title(f'{beautify_column_name} of a car', fontsize=14)\n",
    "    plt.show()\n",
    "    \n",
    "show_box_plot(cars, 'price')\n",
    "show_box_plot(cars, 'age')\n",
    "show_box_plot(cars, 'mileage')\n",
    "show_box_plot(cars, 'cylinders')\n",
    "show_box_plot(cars, 'condition')"
   ]
  },
  {
   "cell_type": "markdown",
   "metadata": {},
   "source": [
    "We have some number of outliers in 'price' (6.7%), vehicle's 'age' (3.2%) and 'mileage' (7.6%) columns that distort our data. Removing them would make our histograms more readable.\n",
    "\n",
    "We cannot talk about any outliers in 'cylinders' and 'condition' columns since they are qualitative values. "
   ]
  },
  {
   "cell_type": "code",
   "execution_count": 20,
   "metadata": {
    "scrolled": true
   },
   "outputs": [
    {
     "data": {
      "text/html": [
       "<div>\n",
       "<style scoped>\n",
       "    .dataframe tbody tr th:only-of-type {\n",
       "        vertical-align: middle;\n",
       "    }\n",
       "\n",
       "    .dataframe tbody tr th {\n",
       "        vertical-align: top;\n",
       "    }\n",
       "\n",
       "    .dataframe thead th {\n",
       "        text-align: right;\n",
       "    }\n",
       "</style>\n",
       "<table border=\"1\" class=\"dataframe\">\n",
       "  <thead>\n",
       "    <tr style=\"text-align: right;\">\n",
       "      <th></th>\n",
       "      <th>price</th>\n",
       "      <th>model_year</th>\n",
       "      <th>condition</th>\n",
       "      <th>cylinders</th>\n",
       "      <th>odometer</th>\n",
       "      <th>days_listed</th>\n",
       "      <th>year_posted</th>\n",
       "      <th>age</th>\n",
       "      <th>mileage</th>\n",
       "    </tr>\n",
       "  </thead>\n",
       "  <tbody>\n",
       "    <tr>\n",
       "      <th>count</th>\n",
       "      <td>36125.000000</td>\n",
       "      <td>36125.000000</td>\n",
       "      <td>36125.000000</td>\n",
       "      <td>36125.000000</td>\n",
       "      <td>36125.000000</td>\n",
       "      <td>36125.000000</td>\n",
       "      <td>36125.000000</td>\n",
       "      <td>36125.000000</td>\n",
       "      <td>36125.000000</td>\n",
       "    </tr>\n",
       "    <tr>\n",
       "      <th>mean</th>\n",
       "      <td>10153.372429</td>\n",
       "      <td>2009.534173</td>\n",
       "      <td>2.615806</td>\n",
       "      <td>6.018990</td>\n",
       "      <td>119092.910228</td>\n",
       "      <td>39.642076</td>\n",
       "      <td>2018.318311</td>\n",
       "      <td>8.784138</td>\n",
       "      <td>15135.402159</td>\n",
       "    </tr>\n",
       "    <tr>\n",
       "      <th>std</th>\n",
       "      <td>6799.393441</td>\n",
       "      <td>4.590148</td>\n",
       "      <td>0.696670</td>\n",
       "      <td>1.644382</td>\n",
       "      <td>60949.711305</td>\n",
       "      <td>28.147147</td>\n",
       "      <td>0.465828</td>\n",
       "      <td>4.588042</td>\n",
       "      <td>6744.549415</td>\n",
       "    </tr>\n",
       "    <tr>\n",
       "      <th>min</th>\n",
       "      <td>1.000000</td>\n",
       "      <td>1998.000000</td>\n",
       "      <td>0.000000</td>\n",
       "      <td>3.000000</td>\n",
       "      <td>0.000000</td>\n",
       "      <td>0.000000</td>\n",
       "      <td>2018.000000</td>\n",
       "      <td>0.000000</td>\n",
       "      <td>0.000000</td>\n",
       "    </tr>\n",
       "    <tr>\n",
       "      <th>25%</th>\n",
       "      <td>4950.000000</td>\n",
       "      <td>2006.000000</td>\n",
       "      <td>2.000000</td>\n",
       "      <td>4.000000</td>\n",
       "      <td>78000.000000</td>\n",
       "      <td>19.000000</td>\n",
       "      <td>2018.000000</td>\n",
       "      <td>5.000000</td>\n",
       "      <td>10571.000000</td>\n",
       "    </tr>\n",
       "    <tr>\n",
       "      <th>50%</th>\n",
       "      <td>8250.000000</td>\n",
       "      <td>2010.000000</td>\n",
       "      <td>3.000000</td>\n",
       "      <td>6.000000</td>\n",
       "      <td>118000.000000</td>\n",
       "      <td>33.000000</td>\n",
       "      <td>2018.000000</td>\n",
       "      <td>8.000000</td>\n",
       "      <td>14460.000000</td>\n",
       "    </tr>\n",
       "    <tr>\n",
       "      <th>75%</th>\n",
       "      <td>14500.000000</td>\n",
       "      <td>2013.000000</td>\n",
       "      <td>3.000000</td>\n",
       "      <td>8.000000</td>\n",
       "      <td>157065.000000</td>\n",
       "      <td>54.000000</td>\n",
       "      <td>2019.000000</td>\n",
       "      <td>12.000000</td>\n",
       "      <td>19289.000000</td>\n",
       "    </tr>\n",
       "    <tr>\n",
       "      <th>max</th>\n",
       "      <td>28671.000000</td>\n",
       "      <td>2019.000000</td>\n",
       "      <td>5.000000</td>\n",
       "      <td>12.000000</td>\n",
       "      <td>527835.000000</td>\n",
       "      <td>271.000000</td>\n",
       "      <td>2019.000000</td>\n",
       "      <td>20.000000</td>\n",
       "      <td>32451.000000</td>\n",
       "    </tr>\n",
       "  </tbody>\n",
       "</table>\n",
       "</div>"
      ],
      "text/plain": [
       "              price    model_year     condition     cylinders       odometer  \\\n",
       "count  36125.000000  36125.000000  36125.000000  36125.000000   36125.000000   \n",
       "mean   10153.372429   2009.534173      2.615806      6.018990  119092.910228   \n",
       "std     6799.393441      4.590148      0.696670      1.644382   60949.711305   \n",
       "min        1.000000   1998.000000      0.000000      3.000000       0.000000   \n",
       "25%     4950.000000   2006.000000      2.000000      4.000000   78000.000000   \n",
       "50%     8250.000000   2010.000000      3.000000      6.000000  118000.000000   \n",
       "75%    14500.000000   2013.000000      3.000000      8.000000  157065.000000   \n",
       "max    28671.000000   2019.000000      5.000000     12.000000  527835.000000   \n",
       "\n",
       "        days_listed   year_posted           age       mileage  \n",
       "count  36125.000000  36125.000000  36125.000000  36125.000000  \n",
       "mean      39.642076   2018.318311      8.784138  15135.402159  \n",
       "std       28.147147      0.465828      4.588042   6744.549415  \n",
       "min        0.000000   2018.000000      0.000000      0.000000  \n",
       "25%       19.000000   2018.000000      5.000000  10571.000000  \n",
       "50%       33.000000   2018.000000      8.000000  14460.000000  \n",
       "75%       54.000000   2019.000000     12.000000  19289.000000  \n",
       "max      271.000000   2019.000000     20.000000  32451.000000  "
      ]
     },
     "execution_count": 20,
     "metadata": {},
     "output_type": "execute_result"
    }
   ],
   "source": [
    "# calculating limits for outliers and filtering our dataset\n",
    "\n",
    "price_toohigh = cars['price'].quantile(0.75) + cars['price'].quantile(0.75) - cars['price'].quantile(0.25)\n",
    "price_filter = cars['price'] <= price_toohigh\n",
    "\n",
    "age_toohigh = cars['age'].quantile(0.75) + cars['age'].quantile(0.75) - cars['age'].quantile(0.25)\n",
    "age_filter = cars['age'] <= age_toohigh\n",
    "\n",
    "mileage_toohigh = cars['mileage'].quantile(0.75) + cars['mileage'].quantile(0.75) - cars['mileage'].quantile(0.25)\n",
    "mileage_filter = cars['mileage'] <= mileage_toohigh\n",
    "\n",
    "clean_cars = cars[price_filter & age_filter & mileage_filter].reset_index(drop=True)\n",
    "clean_cars.describe()"
   ]
  },
  {
   "cell_type": "code",
   "execution_count": 21,
   "metadata": {},
   "outputs": [
    {
     "data": {
      "image/png": "[encoded data removed]",
      "text/plain": [
       "<Figure size 432x288 with 1 Axes>"
      ]
     },
     "metadata": {
      "needs_background": "light"
     },
     "output_type": "display_data"
    },
    {
     "data": {
      "image/png": "[encoded data removed]",
      "text/plain": [
       "<Figure size 432x288 with 1 Axes>"
      ]
     },
     "metadata": {
      "needs_background": "light"
     },
     "output_type": "display_data"
    },
    {
     "data": {
      "image/png": "[encoded data removed]",
      "text/plain": [
       "<Figure size 432x288 with 1 Axes>"
      ]
     },
     "metadata": {
      "needs_background": "light"
     },
     "output_type": "display_data"
    },
    {
     "data": {
      "image/png": "[encoded data removed]",
      "text/plain": [
       "<Figure size 432x288 with 1 Axes>"
      ]
     },
     "metadata": {
      "needs_background": "light"
     },
     "output_type": "display_data"
    },
    {
     "data": {
      "image/png": "[encoded data removed]",
      "text/plain": [
       "<Figure size 432x288 with 1 Axes>"
      ]
     },
     "metadata": {
      "needs_background": "light"
     },
     "output_type": "display_data"
    }
   ],
   "source": [
    "# repeating histograms with clean data\n",
    "\n",
    "show_hist_chart(clean_cars, 'price', bins=30)\n",
    "show_hist_chart(clean_cars, 'age', bins=10)\n",
    "show_hist_chart(clean_cars, 'mileage', bins=25)\n",
    "show_hist_chart(clean_cars, 'cylinders', bins=12)\n",
    "show_hist_chart(clean_cars, 'condition', bins=6)"
   ]
  },
  {
   "cell_type": "markdown",
   "metadata": {},
   "source": [
    "### Conclusion"
   ]
  },
  {
   "cell_type": "markdown",
   "metadata": {},
   "source": [
    "After the cleaning, we could see the distribution of the data better. \n",
    "\n",
    "The 'price' is right-skewed, with the mean of 10153, the median of 8250 and half of the entries between 4950 and 14500.\n",
    "\n",
    "The 'age' is approximately normal, with the mean of 8.8, the median of 8 and half of the entries between 5 and 12 years.\n",
    "\n",
    "The 'mileage' is right-skewed and also has a peak at zero. The mean is 15K, the median is 14.5K, and half of the entries are between 10.5K and 19.3K\n",
    "\n",
    "Most of the cars have 4, 6 or 8 'cylinders'. Other types of engines are infrequent.\n",
    "\n",
    "And most of the cars are in good or excellent 'condition'.\n"
   ]
  },
  {
   "cell_type": "code",
   "execution_count": 22,
   "metadata": {},
   "outputs": [
    {
     "data": {
      "image/png": "[encoded data removed]",
      "text/plain": [
       "<Figure size 432x288 with 1 Axes>"
      ]
     },
     "metadata": {
      "needs_background": "light"
     },
     "output_type": "display_data"
    },
    {
     "data": {
      "text/plain": [
       "count    36125.000000\n",
       "mean        39.642076\n",
       "std         28.147147\n",
       "min          0.000000\n",
       "25%         19.000000\n",
       "50%         33.000000\n",
       "75%         54.000000\n",
       "max        271.000000\n",
       "Name: days_listed, dtype: float64"
      ]
     },
     "execution_count": 22,
     "metadata": {},
     "output_type": "execute_result"
    }
   ],
   "source": [
    "show_hist_chart(clean_cars, 'days_listed', bins=30)\n",
    "clean_cars['days_listed'].describe()"
   ]
  },
  {
   "cell_type": "markdown",
   "metadata": {},
   "source": [
    "### Conclusion"
   ]
  },
  {
   "cell_type": "markdown",
   "metadata": {},
   "source": [
    "The distribution of how many days advertisements were displayed is right-skewed. While half of them are removed in 33 days, some are listed for more than 100 and even 200 days. These durations move our mean up to 39.7 days."
   ]
  },
  {
   "cell_type": "code",
   "execution_count": 23,
   "metadata": {},
   "outputs": [],
   "source": [
    "def show_bar_plot(dataframe: pd.core.frame.DataFrame, column_name: str):\n",
    "    dataframe.plot(\n",
    "        kind='bar', y=column_name, rot=0, figsize=(10, 5), fontsize=10\n",
    "    )\n",
    "    beautify_column_name = column_name[0].upper() + column_name[1:].replace('_', ' ')\n",
    "    plt.title(f'{beautify_column_name} for each vehicle type', fontsize=14)\n",
    "    plt.xlabel('')\n",
    "    plt.show()"
   ]
  },
  {
   "cell_type": "code",
   "execution_count": 24,
   "metadata": {},
   "outputs": [
    {
     "data": {
      "image/png": "[encoded data removed]",
      "text/plain": [
       "<Figure size 720x360 with 1 Axes>"
      ]
     },
     "metadata": {
      "needs_background": "light"
     },
     "output_type": "display_data"
    }
   ],
   "source": [
    "by_type = clean_cars.pivot_table(index='type', values='price', aggfunc=['count', 'mean'])\n",
    "by_type.columns = ['number of ads', 'average price']\n",
    "\n",
    "show_bar_plot(by_type.sort_values('number of ads', ascending=False), 'number of ads')"
   ]
  },
  {
   "cell_type": "markdown",
   "metadata": {},
   "source": [
    "### Conclusion"
   ]
  },
  {
   "cell_type": "markdown",
   "metadata": {},
   "source": [
    "We have the most number of ads for sedan and SUV types. So let's explore them further."
   ]
  },
  {
   "cell_type": "code",
   "execution_count": 25,
   "metadata": {},
   "outputs": [],
   "source": [
    "# functions for drawing scatter plots and several boxplots on the same canvas\n",
    "\n",
    "def show_scatter_plot(dataframe: pd.core.frame.DataFrame, column_x: str, column_y: str):\n",
    "    dataframe.plot(\n",
    "        kind='scatter', x=column_x, y=column_y, figsize=(5, 5), fontsize=10, \n",
    "    )\n",
    "    beautify_column_y = column_y[0].upper() + column_y[1:].replace('_', ' ')\n",
    "    beautify_column_x = column_x[0].upper() + column_x[1:].replace('_', ' ')\n",
    "\n",
    "    plt.title(f'{beautify_column_y} from {beautify_column_x}', fontsize=14)\n",
    "    plt.xlabel('')\n",
    "    plt.show()\n",
    "    \n",
    "def show_several_box_plots(dataframe: pd.core.frame.DataFrame, column_name: str, by: str):\n",
    "    data_toplot = []\n",
    "    names = []\n",
    "    for name, group in dataframe.groupby(by):\n",
    "        if len(group) > 50:\n",
    "            data_toplot.append(group[column_name].astype(object))\n",
    "            names.append(name)\n",
    "    fig, ax = plt.subplots(figsize=(10, 5))\n",
    "    ax.boxplot(np.array(data_toplot, dtype=object))\n",
    "    ax.yaxis.grid(True, linestyle='-', which='major', color='lightgrey', alpha=0.5)    \n",
    "    beautify_y = column_name[0].upper() + column_name[1:].replace('_', ' ')\n",
    "    beautify_x = by[0].upper() + by[1:].replace('_', ' ')\n",
    "    ax.set(\n",
    "        axisbelow=True,  \n",
    "        xlabel=beautify_x,\n",
    "        ylabel=beautify_y,\n",
    "    )\n",
    "    ax.set_title(f'{beautify_y} for {beautify_x}', fontsize=14)\n",
    "    ax.set_xticklabels(names, fontsize=10)\n",
    "    plt.show()    "
   ]
  },
  {
   "cell_type": "code",
   "execution_count": 26,
   "metadata": {},
   "outputs": [
    {
     "data": {
      "image/png": "[encoded data removed]",
      "text/plain": [
       "<Figure size 360x360 with 1 Axes>"
      ]
     },
     "metadata": {
      "needs_background": "light"
     },
     "output_type": "display_data"
    },
    {
     "data": {
      "image/png": "[encoded data removed]",
      "text/plain": [
       "<Figure size 360x360 with 1 Axes>"
      ]
     },
     "metadata": {
      "needs_background": "light"
     },
     "output_type": "display_data"
    },
    {
     "data": {
      "image/png": "[encoded data removed]",
      "text/plain": [
       "<Figure size 432x288 with 2 Axes>"
      ]
     },
     "metadata": {
      "needs_background": "light"
     },
     "output_type": "display_data"
    },
    {
     "data": {
      "image/png": "[encoded data removed]",
      "text/plain": [
       "<Figure size 720x360 with 1 Axes>"
      ]
     },
     "metadata": {
      "needs_background": "light"
     },
     "output_type": "display_data"
    },
    {
     "data": {
      "image/png": "[encoded data removed]",
      "text/plain": [
       "<Figure size 720x360 with 1 Axes>"
      ]
     },
     "metadata": {
      "needs_background": "light"
     },
     "output_type": "display_data"
    },
    {
     "data": {
      "image/png": "[encoded data removed]",
      "text/plain": [
       "<Figure size 720x360 with 1 Axes>"
      ]
     },
     "metadata": {
      "needs_background": "light"
     },
     "output_type": "display_data"
    }
   ],
   "source": [
    "sedans = clean_cars.loc[clean_cars['type']=='sedan', ['price', 'age', 'mileage','condition','transmission', 'paint_color']].reset_index(drop=True)\n",
    "show_scatter_plot(sedans, 'age', 'price')\n",
    "show_scatter_plot(sedans, 'mileage', 'price')\n",
    "sedans_corr = sedans.loc[:,['price', 'age', 'mileage']].corr()\n",
    "sn.heatmap(sedans_corr, annot=True)\n",
    "plt.show()\n",
    "\n",
    "show_several_box_plots(sedans[['price', 'condition']], 'price', 'condition')\n",
    "show_several_box_plots(sedans[['price', 'transmission']], 'price', 'transmission')\n",
    "show_several_box_plots(sedans.loc[sedans['paint_color'].notna(),['price', 'paint_color']], 'price','paint_color')"
   ]
  },
  {
   "cell_type": "markdown",
   "metadata": {},
   "source": [
    "### Conclusion"
   ]
  },
  {
   "cell_type": "markdown",
   "metadata": {},
   "source": [
    "Exploring the sedan 'type' subset, we could see that its price negatively correlates with age. Also, there is a weak correlation between the price and the condition and none between the price and mileage.\n",
    "\n",
    "Also, we could see that, on average, sedans with automatic transmission are more expensive than manual. And other transmissions are the cheapest, but the difference is not definitive.\n",
    "\n",
    "Looking at paint colour, we don't see any influence on price."
   ]
  },
  {
   "cell_type": "code",
   "execution_count": 27,
   "metadata": {},
   "outputs": [
    {
     "data": {
      "image/png": "[encoded data removed]",
      "text/plain": [
       "<Figure size 360x360 with 1 Axes>"
      ]
     },
     "metadata": {
      "needs_background": "light"
     },
     "output_type": "display_data"
    },
    {
     "data": {
      "image/png": "[encoded data removed]",
      "text/plain": [
       "<Figure size 360x360 with 1 Axes>"
      ]
     },
     "metadata": {
      "needs_background": "light"
     },
     "output_type": "display_data"
    },
    {
     "data": {
      "image/png": "[encoded data removed]",
      "text/plain": [
       "<Figure size 432x288 with 2 Axes>"
      ]
     },
     "metadata": {
      "needs_background": "light"
     },
     "output_type": "display_data"
    },
    {
     "data": {
      "image/png": "[encoded data removed]",
      "text/plain": [
       "<Figure size 720x360 with 1 Axes>"
      ]
     },
     "metadata": {
      "needs_background": "light"
     },
     "output_type": "display_data"
    },
    {
     "data": {
      "image/png": "[encoded data removed]",
      "text/plain": [
       "<Figure size 720x360 with 1 Axes>"
      ]
     },
     "metadata": {
      "needs_background": "light"
     },
     "output_type": "display_data"
    },
    {
     "data": {
      "image/png": "[encoded data removed]",
      "text/plain": [
       "<Figure size 720x360 with 1 Axes>"
      ]
     },
     "metadata": {
      "needs_background": "light"
     },
     "output_type": "display_data"
    }
   ],
   "source": [
    "suvs = clean_cars.loc[clean_cars['type']=='SUV', ['price', 'age', 'mileage','condition','transmission', 'paint_color']]\n",
    "show_scatter_plot(suvs, 'age', 'price')\n",
    "show_scatter_plot(suvs, 'mileage', 'price')\n",
    "suvs_corr = suvs.loc[:,['price', 'age', 'mileage']].corr()\n",
    "sn.heatmap(suvs_corr, annot=True)\n",
    "plt.show()\n",
    "\n",
    "show_several_box_plots(suvs[['price', 'condition']], 'price', 'condition')\n",
    "show_several_box_plots(suvs[['price', 'transmission']], 'price', 'transmission')\n",
    "show_several_box_plots(suvs.loc[suvs['paint_color'].notna(),['price', 'paint_color']], 'price','paint_color')"
   ]
  },
  {
   "cell_type": "markdown",
   "metadata": {},
   "source": [
    "### Conclusion"
   ]
  },
  {
   "cell_type": "markdown",
   "metadata": {},
   "source": [
    "Now let's have a look at the SUV's subset. Again, as with the sedans, we have some negative correlation between the price and the age, none between the price and mileage and a weak one between the price and condition.\n",
    "\n",
    "The automatic transmission type is cheaper here, but the difference is also not definitive. And no influence of the paint colour on price."
   ]
  },
  {
   "cell_type": "markdown",
   "metadata": {},
   "source": [
    "## Overall conclusion"
   ]
  },
  {
   "cell_type": "markdown",
   "metadata": {},
   "source": [
    "Here we have a dataset of about 50 thousand vehicles advertisements. We have a lot of missing values here, and not all of them we could reasonably fill, for example, paint colour.\n",
    "\n",
    "I calculated some additional values for further analysis (age and mileage). Then I removed entries with price, age, and mileage outliers. It gave me a smaller (about 70% volume) dense subset.\n",
    "\n",
    "From this cleaner subset, I took two types of vehicles (sedans and SUVs) and explored how different aspects affect the price. There is some negative correlation between the car's age and its price but not very strong. And there is almost no influence from the mileage, condition, transmission or colour. I suppose the main reason is that we took too broad categories (very different cars are called sedans or SUVs). Splitting them into smaller subcategories or taking other types could give better results."
   ]
  }
 ],
 "metadata": {
  "ExecuteTimeLog": [
   {
    "duration": 726,
    "start_time": "2021-10-21T06:58:15.736Z"
   },
   {
    "duration": 143,
    "start_time": "2021-10-21T06:58:17.742Z"
   },
   {
    "duration": 62,
    "start_time": "2021-10-21T06:59:04.080Z"
   },
   {
    "duration": 20,
    "start_time": "2021-10-21T06:59:25.232Z"
   },
   {
    "duration": 32,
    "start_time": "2021-10-21T07:01:16.831Z"
   },
   {
    "duration": 20,
    "start_time": "2021-10-21T07:04:53.675Z"
   },
   {
    "duration": 350,
    "start_time": "2021-10-21T07:18:35.511Z"
   },
   {
    "duration": 273,
    "start_time": "2021-10-21T07:18:46.004Z"
   },
   {
    "duration": 10,
    "start_time": "2021-10-21T07:18:53.181Z"
   },
   {
    "duration": 10,
    "start_time": "2021-10-21T07:19:22.031Z"
   },
   {
    "duration": 11,
    "start_time": "2021-10-21T07:19:30.824Z"
   },
   {
    "duration": 11,
    "start_time": "2021-10-21T07:21:39.258Z"
   },
   {
    "duration": 380,
    "start_time": "2021-10-21T07:22:13.955Z"
   },
   {
    "duration": 4,
    "start_time": "2021-10-21T07:24:49.647Z"
   },
   {
    "duration": 7,
    "start_time": "2021-10-21T07:26:09.715Z"
   },
   {
    "duration": 5,
    "start_time": "2021-10-21T07:26:12.284Z"
   },
   {
    "duration": 6,
    "start_time": "2021-10-21T07:26:13.782Z"
   },
   {
    "duration": 272,
    "start_time": "2021-10-21T07:26:15.910Z"
   },
   {
    "duration": 4,
    "start_time": "2021-10-21T07:26:31.569Z"
   },
   {
    "duration": 6,
    "start_time": "2021-10-21T07:26:34.999Z"
   },
   {
    "duration": 6,
    "start_time": "2021-10-21T07:26:40.351Z"
   },
   {
    "duration": 9,
    "start_time": "2021-10-21T07:26:50.115Z"
   },
   {
    "duration": 3,
    "start_time": "2021-10-21T07:32:28.857Z"
   },
   {
    "duration": 136,
    "start_time": "2021-10-21T07:32:28.865Z"
   },
   {
    "duration": 56,
    "start_time": "2021-10-21T07:32:29.004Z"
   },
   {
    "duration": 20,
    "start_time": "2021-10-21T07:32:29.063Z"
   },
   {
    "duration": 3,
    "start_time": "2021-10-21T07:32:29.086Z"
   },
   {
    "duration": 38,
    "start_time": "2021-10-21T07:32:29.092Z"
   },
   {
    "duration": 11,
    "start_time": "2021-10-21T07:32:29.132Z"
   },
   {
    "duration": 7,
    "start_time": "2021-10-21T07:32:32.520Z"
   },
   {
    "duration": 11,
    "start_time": "2021-10-21T07:32:37.297Z"
   },
   {
    "duration": 140,
    "start_time": "2021-10-21T07:32:57.207Z"
   },
   {
    "duration": 3,
    "start_time": "2021-10-21T07:33:20.043Z"
   },
   {
    "duration": 139,
    "start_time": "2021-10-21T07:33:20.049Z"
   },
   {
    "duration": 57,
    "start_time": "2021-10-21T07:33:20.191Z"
   },
   {
    "duration": 20,
    "start_time": "2021-10-21T07:33:20.251Z"
   },
   {
    "duration": 4,
    "start_time": "2021-10-21T07:33:20.274Z"
   },
   {
    "duration": 10,
    "start_time": "2021-10-21T07:33:20.281Z"
   },
   {
    "duration": 31,
    "start_time": "2021-10-21T07:33:20.294Z"
   },
   {
    "duration": 6,
    "start_time": "2021-10-21T07:33:22.150Z"
   },
   {
    "duration": 27,
    "start_time": "2021-10-21T07:33:26.342Z"
   },
   {
    "duration": 6,
    "start_time": "2021-10-21T07:40:28.034Z"
   },
   {
    "duration": 9,
    "start_time": "2021-10-21T07:40:29.819Z"
   },
   {
    "duration": 14,
    "start_time": "2021-10-21T07:42:02.132Z"
   },
   {
    "duration": 273,
    "start_time": "2021-10-21T07:42:24.910Z"
   },
   {
    "duration": 11,
    "start_time": "2021-10-21T07:42:30.266Z"
   },
   {
    "duration": 31,
    "start_time": "2021-10-21T07:42:47.703Z"
   },
   {
    "duration": 29,
    "start_time": "2021-10-21T07:43:01.001Z"
   },
   {
    "duration": 297,
    "start_time": "2021-10-21T07:43:41.140Z"
   },
   {
    "duration": 39,
    "start_time": "2021-10-21T07:43:57.988Z"
   },
   {
    "duration": 14,
    "start_time": "2021-10-21T07:44:11.642Z"
   },
   {
    "duration": 56,
    "start_time": "2021-10-21T07:46:05.083Z"
   },
   {
    "duration": 65,
    "start_time": "2021-10-21T07:46:14.984Z"
   },
   {
    "duration": 65,
    "start_time": "2021-10-21T07:46:51.069Z"
   },
   {
    "duration": 58,
    "start_time": "2021-10-21T07:50:20.847Z"
   },
   {
    "duration": 64,
    "start_time": "2021-10-21T07:50:25.231Z"
   },
   {
    "duration": 66,
    "start_time": "2021-10-21T07:59:55.618Z"
   },
   {
    "duration": 59,
    "start_time": "2021-10-21T08:00:13.065Z"
   },
   {
    "duration": 21,
    "start_time": "2021-10-21T09:10:11.962Z"
   },
   {
    "duration": 25,
    "start_time": "2021-10-21T09:10:34.744Z"
   },
   {
    "duration": 48,
    "start_time": "2021-10-21T09:11:09.186Z"
   },
   {
    "duration": 26,
    "start_time": "2021-10-21T09:12:01.251Z"
   },
   {
    "duration": 284,
    "start_time": "2021-10-21T09:13:23.207Z"
   },
   {
    "duration": 23,
    "start_time": "2021-10-21T09:13:44.176Z"
   },
   {
    "duration": 8,
    "start_time": "2021-10-21T09:14:23.358Z"
   },
   {
    "duration": 11,
    "start_time": "2021-10-21T09:15:18.376Z"
   },
   {
    "duration": 12,
    "start_time": "2021-10-21T09:17:34.117Z"
   },
   {
    "duration": 28,
    "start_time": "2021-10-21T09:17:37.870Z"
   },
   {
    "duration": 5,
    "start_time": "2021-10-21T09:18:43.063Z"
   },
   {
    "duration": 202,
    "start_time": "2021-10-21T09:18:43.072Z"
   },
   {
    "duration": 91,
    "start_time": "2021-10-21T09:18:43.278Z"
   },
   {
    "duration": 29,
    "start_time": "2021-10-21T09:18:43.372Z"
   },
   {
    "duration": 37,
    "start_time": "2021-10-21T09:18:43.424Z"
   },
   {
    "duration": 10,
    "start_time": "2021-10-21T09:18:46.598Z"
   },
   {
    "duration": 12,
    "start_time": "2021-10-21T09:18:50.902Z"
   },
   {
    "duration": 4,
    "start_time": "2021-10-21T09:19:16.496Z"
   },
   {
    "duration": 136,
    "start_time": "2021-10-21T09:19:16.503Z"
   },
   {
    "duration": 53,
    "start_time": "2021-10-21T09:19:16.642Z"
   },
   {
    "duration": 36,
    "start_time": "2021-10-21T09:19:16.698Z"
   },
   {
    "duration": 25,
    "start_time": "2021-10-21T09:19:16.737Z"
   },
   {
    "duration": 10,
    "start_time": "2021-10-21T09:19:19.898Z"
   },
   {
    "duration": 9,
    "start_time": "2021-10-21T09:21:00.583Z"
   },
   {
    "duration": 93,
    "start_time": "2021-10-21T09:23:04.764Z"
   },
   {
    "duration": 120,
    "start_time": "2021-10-21T09:23:12.616Z"
   },
   {
    "duration": 10,
    "start_time": "2021-10-21T09:27:37.933Z"
   },
   {
    "duration": 89,
    "start_time": "2021-10-21T09:28:19.258Z"
   },
   {
    "duration": 27,
    "start_time": "2021-10-21T09:28:23.589Z"
   },
   {
    "duration": 26,
    "start_time": "2021-10-21T09:28:32.106Z"
   },
   {
    "duration": 85,
    "start_time": "2021-10-21T09:28:43.134Z"
   },
   {
    "duration": 26,
    "start_time": "2021-10-21T09:29:05.690Z"
   },
   {
    "duration": 63,
    "start_time": "2021-10-21T09:29:26.790Z"
   },
   {
    "duration": 35,
    "start_time": "2021-10-21T09:29:56.457Z"
   },
   {
    "duration": 29,
    "start_time": "2021-10-21T09:30:07.797Z"
   },
   {
    "duration": 363,
    "start_time": "2021-10-21T09:30:24.791Z"
   },
   {
    "duration": 6,
    "start_time": "2021-10-21T09:30:28.001Z"
   },
   {
    "duration": 43,
    "start_time": "2021-10-21T09:32:49.034Z"
   },
   {
    "duration": 24,
    "start_time": "2021-10-21T09:32:56.202Z"
   },
   {
    "duration": 21,
    "start_time": "2021-10-21T09:33:05.892Z"
   },
   {
    "duration": 24,
    "start_time": "2021-10-21T09:33:19.433Z"
   },
   {
    "duration": 24,
    "start_time": "2021-10-21T09:33:38.239Z"
   },
   {
    "duration": 1137,
    "start_time": "2021-10-21T09:34:05.430Z"
   },
   {
    "duration": 27,
    "start_time": "2021-10-21T09:34:47.762Z"
   },
   {
    "duration": 22,
    "start_time": "2021-10-21T09:34:53.238Z"
   },
   {
    "duration": 26,
    "start_time": "2021-10-21T09:35:10.327Z"
   },
   {
    "duration": 319,
    "start_time": "2021-10-21T09:35:23.050Z"
   },
   {
    "duration": 24,
    "start_time": "2021-10-21T09:35:27.460Z"
   },
   {
    "duration": 6,
    "start_time": "2021-10-21T10:05:33.440Z"
   },
   {
    "duration": 4,
    "start_time": "2021-10-21T10:05:49.526Z"
   },
   {
    "duration": 140,
    "start_time": "2021-10-21T10:05:49.533Z"
   },
   {
    "duration": 65,
    "start_time": "2021-10-21T10:05:49.677Z"
   },
   {
    "duration": 20,
    "start_time": "2021-10-21T10:05:49.745Z"
   },
   {
    "duration": 9,
    "start_time": "2021-10-21T10:05:49.768Z"
   },
   {
    "duration": 7,
    "start_time": "2021-10-21T10:05:51.696Z"
   },
   {
    "duration": 7,
    "start_time": "2021-10-21T10:05:56.274Z"
   },
   {
    "duration": 43,
    "start_time": "2021-10-21T10:13:04.415Z"
   },
   {
    "duration": 10,
    "start_time": "2021-10-21T10:13:17.892Z"
   },
   {
    "duration": 29,
    "start_time": "2021-10-21T10:13:25.574Z"
   },
   {
    "duration": 28,
    "start_time": "2021-10-21T10:13:33.313Z"
   },
   {
    "duration": 13,
    "start_time": "2021-10-21T10:13:42.082Z"
   },
   {
    "duration": 45,
    "start_time": "2021-10-21T10:14:23.452Z"
   },
   {
    "duration": 362,
    "start_time": "2021-10-21T10:14:41.012Z"
   },
   {
    "duration": 15,
    "start_time": "2021-10-21T10:14:44.351Z"
   },
   {
    "duration": 18,
    "start_time": "2021-10-21T10:15:25.781Z"
   },
   {
    "duration": 15,
    "start_time": "2021-10-21T10:15:48.193Z"
   },
   {
    "duration": 34,
    "start_time": "2021-10-21T10:19:36.328Z"
   },
   {
    "duration": 37,
    "start_time": "2021-10-21T10:20:16.554Z"
   },
   {
    "duration": 5,
    "start_time": "2021-10-21T10:23:42.765Z"
   },
   {
    "duration": 152,
    "start_time": "2021-10-21T10:23:42.773Z"
   },
   {
    "duration": 57,
    "start_time": "2021-10-21T10:23:42.928Z"
   },
   {
    "duration": 39,
    "start_time": "2021-10-21T10:23:42.988Z"
   },
   {
    "duration": 9,
    "start_time": "2021-10-21T10:23:43.029Z"
   },
   {
    "duration": 5,
    "start_time": "2021-10-21T10:23:43.041Z"
   },
   {
    "duration": 9,
    "start_time": "2021-10-21T10:23:43.049Z"
   },
   {
    "duration": 7,
    "start_time": "2021-10-21T10:23:43.061Z"
   },
   {
    "duration": 19,
    "start_time": "2021-10-21T10:23:45.637Z"
   },
   {
    "duration": 36,
    "start_time": "2021-10-21T10:23:58.815Z"
   },
   {
    "duration": 53,
    "start_time": "2021-10-21T10:25:49.889Z"
   },
   {
    "duration": 138,
    "start_time": "2021-10-21T10:38:02.975Z"
   },
   {
    "duration": 41,
    "start_time": "2021-10-21T10:38:13.170Z"
   },
   {
    "duration": 37,
    "start_time": "2021-10-21T10:38:25.023Z"
   },
   {
    "duration": 9,
    "start_time": "2021-10-21T10:38:57.143Z"
   },
   {
    "duration": 38,
    "start_time": "2021-10-21T10:39:03.888Z"
   },
   {
    "duration": 37,
    "start_time": "2021-10-21T10:39:45.735Z"
   },
   {
    "duration": 36,
    "start_time": "2021-10-21T10:39:54.417Z"
   },
   {
    "duration": 131,
    "start_time": "2021-10-21T10:42:09.432Z"
   },
   {
    "duration": 28,
    "start_time": "2021-10-21T12:45:54.930Z"
   },
   {
    "duration": 24,
    "start_time": "2021-10-21T12:46:02.851Z"
   },
   {
    "duration": 4,
    "start_time": "2021-10-21T12:57:06.401Z"
   },
   {
    "duration": 148,
    "start_time": "2021-10-21T12:57:06.410Z"
   },
   {
    "duration": 67,
    "start_time": "2021-10-21T12:57:06.561Z"
   },
   {
    "duration": 21,
    "start_time": "2021-10-21T12:57:06.632Z"
   },
   {
    "duration": 12,
    "start_time": "2021-10-21T12:57:06.657Z"
   },
   {
    "duration": 5,
    "start_time": "2021-10-21T12:57:06.671Z"
   },
   {
    "duration": 49,
    "start_time": "2021-10-21T12:57:06.679Z"
   },
   {
    "duration": 9,
    "start_time": "2021-10-21T12:57:06.731Z"
   },
   {
    "duration": 21,
    "start_time": "2021-10-21T12:57:06.744Z"
   },
   {
    "duration": 30,
    "start_time": "2021-10-21T12:57:14.249Z"
   },
   {
    "duration": 276,
    "start_time": "2021-10-21T12:57:16.351Z"
   },
   {
    "duration": 291,
    "start_time": "2021-10-21T12:57:23.696Z"
   },
   {
    "duration": 355,
    "start_time": "2021-10-21T12:57:54.746Z"
   },
   {
    "duration": 327,
    "start_time": "2021-10-21T12:58:29.687Z"
   },
   {
    "duration": 661,
    "start_time": "2021-10-21T12:59:55.685Z"
   },
   {
    "duration": 608,
    "start_time": "2021-10-21T13:29:07.993Z"
   },
   {
    "duration": 30,
    "start_time": "2021-10-21T13:29:11.859Z"
   },
   {
    "duration": 292,
    "start_time": "2021-10-21T13:29:48.825Z"
   },
   {
    "duration": 340,
    "start_time": "2021-10-21T13:29:55.025Z"
   },
   {
    "duration": 30,
    "start_time": "2021-10-21T13:30:06.331Z"
   },
   {
    "duration": 26,
    "start_time": "2021-10-21T13:30:15.566Z"
   },
   {
    "duration": 39,
    "start_time": "2021-10-21T13:31:02.611Z"
   },
   {
    "duration": 29,
    "start_time": "2021-10-21T13:31:26.918Z"
   },
   {
    "duration": 284,
    "start_time": "2021-10-21T13:32:18.806Z"
   },
   {
    "duration": 300,
    "start_time": "2021-10-21T13:32:33.819Z"
   },
   {
    "duration": 31,
    "start_time": "2021-10-21T13:32:50.067Z"
   },
   {
    "duration": 73,
    "start_time": "2021-10-21T13:34:08.508Z"
   },
   {
    "duration": 3,
    "start_time": "2021-10-21T13:34:14.662Z"
   },
   {
    "duration": 146,
    "start_time": "2021-10-21T13:34:14.668Z"
   },
   {
    "duration": 60,
    "start_time": "2021-10-21T13:34:14.817Z"
   },
   {
    "duration": 46,
    "start_time": "2021-10-21T13:34:14.880Z"
   },
   {
    "duration": 7,
    "start_time": "2021-10-21T13:34:14.928Z"
   },
   {
    "duration": 17,
    "start_time": "2021-10-21T13:34:14.938Z"
   },
   {
    "duration": 37,
    "start_time": "2021-10-21T13:34:14.957Z"
   },
   {
    "duration": 29,
    "start_time": "2021-10-21T13:34:14.997Z"
   },
   {
    "duration": 22,
    "start_time": "2021-10-21T13:34:15.030Z"
   },
   {
    "duration": 62,
    "start_time": "2021-10-21T13:34:17.575Z"
   },
   {
    "duration": 64,
    "start_time": "2021-10-21T13:34:34.813Z"
   },
   {
    "duration": 39,
    "start_time": "2021-10-21T13:37:13.322Z"
   },
   {
    "duration": 30,
    "start_time": "2021-10-21T13:37:15.182Z"
   },
   {
    "duration": 34,
    "start_time": "2021-10-21T13:38:26.723Z"
   },
   {
    "duration": 299,
    "start_time": "2021-10-21T13:38:53.750Z"
   },
   {
    "duration": 28,
    "start_time": "2021-10-21T13:43:42.092Z"
   },
   {
    "duration": 309,
    "start_time": "2021-10-21T13:44:35.589Z"
   },
   {
    "duration": 13,
    "start_time": "2021-10-21T13:44:38.653Z"
   },
   {
    "duration": 36,
    "start_time": "2021-10-21T13:50:02.265Z"
   },
   {
    "duration": 755,
    "start_time": "2021-10-21T13:53:11.200Z"
   },
   {
    "duration": 139,
    "start_time": "2021-10-21T13:53:11.958Z"
   },
   {
    "duration": 65,
    "start_time": "2021-10-21T13:53:12.100Z"
   },
   {
    "duration": 20,
    "start_time": "2021-10-21T13:53:12.167Z"
   },
   {
    "duration": 11,
    "start_time": "2021-10-21T13:53:12.190Z"
   },
   {
    "duration": 20,
    "start_time": "2021-10-21T13:53:12.203Z"
   },
   {
    "duration": 8,
    "start_time": "2021-10-21T13:53:12.226Z"
   },
   {
    "duration": 5,
    "start_time": "2021-10-21T13:53:12.238Z"
   },
   {
    "duration": 24,
    "start_time": "2021-10-21T13:53:12.246Z"
   },
   {
    "duration": 3,
    "start_time": "2021-10-21T13:53:12.272Z"
   },
   {
    "duration": 68,
    "start_time": "2021-10-21T13:53:12.277Z"
   },
   {
    "duration": 13,
    "start_time": "2021-10-21T13:53:12.347Z"
   },
   {
    "duration": 30,
    "start_time": "2021-10-21T13:53:12.362Z"
   },
   {
    "duration": 33,
    "start_time": "2021-10-21T13:53:12.422Z"
   },
   {
    "duration": 25,
    "start_time": "2021-10-21T13:53:53.623Z"
   },
   {
    "duration": 32,
    "start_time": "2021-10-21T13:54:26.968Z"
   },
   {
    "duration": 24,
    "start_time": "2021-10-21T13:55:17.045Z"
   },
   {
    "duration": 4,
    "start_time": "2021-10-21T13:57:47.095Z"
   },
   {
    "duration": 148,
    "start_time": "2021-10-21T13:57:47.101Z"
   },
   {
    "duration": 70,
    "start_time": "2021-10-21T13:57:47.253Z"
   },
   {
    "duration": 29,
    "start_time": "2021-10-21T13:57:47.327Z"
   },
   {
    "duration": 15,
    "start_time": "2021-10-21T13:57:47.361Z"
   },
   {
    "duration": 16,
    "start_time": "2021-10-21T13:57:47.379Z"
   },
   {
    "duration": 30,
    "start_time": "2021-10-21T13:57:47.399Z"
   },
   {
    "duration": 8,
    "start_time": "2021-10-21T13:57:47.432Z"
   },
   {
    "duration": 28,
    "start_time": "2021-10-21T13:57:47.443Z"
   },
   {
    "duration": 3,
    "start_time": "2021-10-21T13:57:47.474Z"
   },
   {
    "duration": 55,
    "start_time": "2021-10-21T13:57:47.479Z"
   },
   {
    "duration": 13,
    "start_time": "2021-10-21T13:57:49.919Z"
   },
   {
    "duration": 13,
    "start_time": "2021-10-21T13:58:50.327Z"
   },
   {
    "duration": 26,
    "start_time": "2021-10-21T14:00:35.830Z"
   },
   {
    "duration": 26,
    "start_time": "2021-10-21T14:01:14.663Z"
   },
   {
    "duration": 996,
    "start_time": "2021-10-22T10:26:04.851Z"
   },
   {
    "duration": 3,
    "start_time": "2021-10-22T10:40:29.726Z"
   },
   {
    "duration": 113,
    "start_time": "2021-10-22T10:40:29.736Z"
   },
   {
    "duration": 42,
    "start_time": "2021-10-22T10:40:29.851Z"
   },
   {
    "duration": 21,
    "start_time": "2021-10-22T10:40:29.896Z"
   },
   {
    "duration": 47,
    "start_time": "2021-10-22T10:40:29.920Z"
   },
   {
    "duration": 8,
    "start_time": "2021-10-22T10:40:29.970Z"
   },
   {
    "duration": 9,
    "start_time": "2021-10-22T10:40:29.980Z"
   },
   {
    "duration": 6,
    "start_time": "2021-10-22T10:40:29.991Z"
   },
   {
    "duration": 23,
    "start_time": "2021-10-22T10:40:30.000Z"
   },
   {
    "duration": 3,
    "start_time": "2021-10-22T10:40:30.027Z"
   },
   {
    "duration": 39,
    "start_time": "2021-10-22T10:40:30.033Z"
   },
   {
    "duration": 6,
    "start_time": "2021-10-22T10:40:30.074Z"
   },
   {
    "duration": 9,
    "start_time": "2021-10-22T10:40:30.082Z"
   },
   {
    "duration": 60,
    "start_time": "2021-10-22T10:40:30.093Z"
   },
   {
    "duration": 16,
    "start_time": "2021-10-22T10:41:51.093Z"
   },
   {
    "duration": 209,
    "start_time": "2021-10-22T10:42:06.447Z"
   },
   {
    "duration": 217,
    "start_time": "2021-10-22T10:42:18.301Z"
   },
   {
    "duration": 160,
    "start_time": "2021-10-22T10:42:39.815Z"
   },
   {
    "duration": 227,
    "start_time": "2021-10-22T10:43:21.103Z"
   },
   {
    "duration": 3,
    "start_time": "2021-10-22T10:45:53.199Z"
   },
   {
    "duration": 272,
    "start_time": "2021-10-22T10:46:02.750Z"
   },
   {
    "duration": 239,
    "start_time": "2021-10-22T10:46:08.618Z"
   },
   {
    "duration": 241,
    "start_time": "2021-10-22T10:46:12.684Z"
   },
   {
    "duration": 254,
    "start_time": "2021-10-22T10:46:21.703Z"
   },
   {
    "duration": 250,
    "start_time": "2021-10-22T10:46:38.626Z"
   },
   {
    "duration": 214,
    "start_time": "2021-10-22T10:46:46.973Z"
   },
   {
    "duration": 278,
    "start_time": "2021-10-22T10:47:23.573Z"
   },
   {
    "duration": 376,
    "start_time": "2021-10-22T10:47:30.043Z"
   },
   {
    "duration": 437,
    "start_time": "2021-10-22T10:47:59.176Z"
   },
   {
    "duration": 280,
    "start_time": "2021-10-22T10:48:05.122Z"
   },
   {
    "duration": 274,
    "start_time": "2021-10-22T10:48:31.483Z"
   },
   {
    "duration": 249,
    "start_time": "2021-10-22T10:57:18.708Z"
   },
   {
    "duration": 226,
    "start_time": "2021-10-22T10:57:30.085Z"
   },
   {
    "duration": 219,
    "start_time": "2021-10-22T10:58:16.397Z"
   },
   {
    "duration": 252,
    "start_time": "2021-10-22T10:58:26.651Z"
   },
   {
    "duration": 249,
    "start_time": "2021-10-22T10:59:36.503Z"
   },
   {
    "duration": 250,
    "start_time": "2021-10-22T11:00:07.847Z"
   },
   {
    "duration": 275,
    "start_time": "2021-10-22T11:00:12.387Z"
   },
   {
    "duration": 343,
    "start_time": "2021-10-22T11:00:17.731Z"
   },
   {
    "duration": 256,
    "start_time": "2021-10-22T11:01:00.551Z"
   },
   {
    "duration": 243,
    "start_time": "2021-10-22T11:01:03.978Z"
   },
   {
    "duration": 249,
    "start_time": "2021-10-22T11:01:26.864Z"
   },
   {
    "duration": 230,
    "start_time": "2021-10-22T11:01:39.044Z"
   },
   {
    "duration": 7,
    "start_time": "2021-10-22T11:02:18.487Z"
   },
   {
    "duration": 181,
    "start_time": "2021-10-22T11:03:37.000Z"
   },
   {
    "duration": 177,
    "start_time": "2021-10-22T11:04:15.921Z"
   },
   {
    "duration": 182,
    "start_time": "2021-10-22T11:04:24.091Z"
   },
   {
    "duration": 349,
    "start_time": "2021-10-22T11:05:37.700Z"
   },
   {
    "duration": 7,
    "start_time": "2021-10-22T11:05:39.785Z"
   },
   {
    "duration": 224,
    "start_time": "2021-10-22T11:05:47.300Z"
   },
   {
    "duration": 248,
    "start_time": "2021-10-22T11:05:56.270Z"
   },
   {
    "duration": 179,
    "start_time": "2021-10-22T11:06:12.501Z"
   },
   {
    "duration": 185,
    "start_time": "2021-10-22T11:06:42.850Z"
   },
   {
    "duration": 174,
    "start_time": "2021-10-22T11:06:53.566Z"
   },
   {
    "duration": 266,
    "start_time": "2021-10-22T11:07:49.865Z"
   },
   {
    "duration": 238,
    "start_time": "2021-10-22T11:08:01.786Z"
   },
   {
    "duration": 6,
    "start_time": "2021-10-22T11:08:37.366Z"
   },
   {
    "duration": 6,
    "start_time": "2021-10-22T11:08:43.501Z"
   },
   {
    "duration": 363,
    "start_time": "2021-10-22T11:54:28.855Z"
   },
   {
    "duration": 304,
    "start_time": "2021-10-22T11:54:34.252Z"
   },
   {
    "duration": 551,
    "start_time": "2021-10-22T11:54:43.579Z"
   },
   {
    "duration": 520,
    "start_time": "2021-10-22T11:54:56.345Z"
   },
   {
    "duration": 400,
    "start_time": "2021-10-22T11:55:04.453Z"
   },
   {
    "duration": 279,
    "start_time": "2021-10-22T11:55:09.216Z"
   },
   {
    "duration": 25,
    "start_time": "2021-10-22T12:02:52.606Z"
   },
   {
    "duration": 276,
    "start_time": "2021-10-22T12:02:59.000Z"
   },
   {
    "duration": 210,
    "start_time": "2021-10-22T12:03:08.595Z"
   },
   {
    "duration": 271,
    "start_time": "2021-10-22T12:03:15.524Z"
   },
   {
    "duration": 3,
    "start_time": "2021-10-22T12:10:06.793Z"
   },
   {
    "duration": 106,
    "start_time": "2021-10-22T12:10:06.799Z"
   },
   {
    "duration": 47,
    "start_time": "2021-10-22T12:10:06.906Z"
   },
   {
    "duration": 13,
    "start_time": "2021-10-22T12:10:06.955Z"
   },
   {
    "duration": 9,
    "start_time": "2021-10-22T12:10:06.970Z"
   },
   {
    "duration": 6,
    "start_time": "2021-10-22T12:10:06.981Z"
   },
   {
    "duration": 12,
    "start_time": "2021-10-22T12:10:06.989Z"
   },
   {
    "duration": 23,
    "start_time": "2021-10-22T12:10:07.003Z"
   },
   {
    "duration": 18,
    "start_time": "2021-10-22T12:10:07.029Z"
   },
   {
    "duration": 3,
    "start_time": "2021-10-22T12:10:07.049Z"
   },
   {
    "duration": 24,
    "start_time": "2021-10-22T12:10:07.054Z"
   },
   {
    "duration": 4,
    "start_time": "2021-10-22T12:10:07.079Z"
   },
   {
    "duration": 10,
    "start_time": "2021-10-22T12:10:07.085Z"
   },
   {
    "duration": 26,
    "start_time": "2021-10-22T12:10:07.097Z"
   },
   {
    "duration": 175,
    "start_time": "2021-10-22T12:10:07.125Z"
   },
   {
    "duration": 415,
    "start_time": "2021-10-22T12:10:07.302Z"
   },
   {
    "duration": 7140,
    "start_time": "2021-10-22T12:10:07.719Z"
   },
   {
    "duration": -147,
    "start_time": "2021-10-22T12:10:15.008Z"
   },
   {
    "duration": -149,
    "start_time": "2021-10-22T12:10:15.011Z"
   },
   {
    "duration": -150,
    "start_time": "2021-10-22T12:10:15.013Z"
   },
   {
    "duration": -152,
    "start_time": "2021-10-22T12:10:15.016Z"
   },
   {
    "duration": 7360,
    "start_time": "2021-10-22T12:10:29.811Z"
   },
   {
    "duration": 8163,
    "start_time": "2021-10-22T12:11:05.164Z"
   },
   {
    "duration": 665,
    "start_time": "2021-10-22T12:11:31.869Z"
   },
   {
    "duration": 105,
    "start_time": "2021-10-22T12:11:32.536Z"
   },
   {
    "duration": 39,
    "start_time": "2021-10-22T12:11:32.643Z"
   },
   {
    "duration": 13,
    "start_time": "2021-10-22T12:11:32.684Z"
   },
   {
    "duration": 26,
    "start_time": "2021-10-22T12:11:32.699Z"
   },
   {
    "duration": 16,
    "start_time": "2021-10-22T12:11:32.727Z"
   },
   {
    "duration": 19,
    "start_time": "2021-10-22T12:11:32.745Z"
   },
   {
    "duration": 14,
    "start_time": "2021-10-22T12:11:32.765Z"
   },
   {
    "duration": 31,
    "start_time": "2021-10-22T12:11:32.782Z"
   },
   {
    "duration": 3,
    "start_time": "2021-10-22T12:11:32.815Z"
   },
   {
    "duration": 37,
    "start_time": "2021-10-22T12:11:32.819Z"
   },
   {
    "duration": 5,
    "start_time": "2021-10-22T12:11:32.858Z"
   },
   {
    "duration": 7432,
    "start_time": "2021-10-22T12:11:32.864Z"
   },
   {
    "duration": -160,
    "start_time": "2021-10-22T12:11:40.458Z"
   },
   {
    "duration": -162,
    "start_time": "2021-10-22T12:11:40.461Z"
   },
   {
    "duration": -164,
    "start_time": "2021-10-22T12:11:40.464Z"
   },
   {
    "duration": -166,
    "start_time": "2021-10-22T12:11:40.466Z"
   },
   {
    "duration": -168,
    "start_time": "2021-10-22T12:11:40.469Z"
   },
   {
    "duration": -170,
    "start_time": "2021-10-22T12:11:40.472Z"
   },
   {
    "duration": -172,
    "start_time": "2021-10-22T12:11:40.475Z"
   },
   {
    "duration": -173,
    "start_time": "2021-10-22T12:11:40.477Z"
   },
   {
    "duration": -175,
    "start_time": "2021-10-22T12:11:40.480Z"
   },
   {
    "duration": 668,
    "start_time": "2021-10-22T12:12:01.376Z"
   },
   {
    "duration": 111,
    "start_time": "2021-10-22T12:12:02.047Z"
   },
   {
    "duration": 44,
    "start_time": "2021-10-22T12:12:02.161Z"
   },
   {
    "duration": 13,
    "start_time": "2021-10-22T12:12:02.208Z"
   },
   {
    "duration": 25,
    "start_time": "2021-10-22T12:12:02.223Z"
   },
   {
    "duration": 18,
    "start_time": "2021-10-22T12:12:02.249Z"
   },
   {
    "duration": 20,
    "start_time": "2021-10-22T12:12:02.268Z"
   },
   {
    "duration": 22,
    "start_time": "2021-10-22T12:12:02.290Z"
   },
   {
    "duration": 40,
    "start_time": "2021-10-22T12:12:02.314Z"
   },
   {
    "duration": 18,
    "start_time": "2021-10-22T12:12:02.355Z"
   },
   {
    "duration": 54,
    "start_time": "2021-10-22T12:12:02.374Z"
   },
   {
    "duration": 11,
    "start_time": "2021-10-22T12:12:02.430Z"
   },
   {
    "duration": 26,
    "start_time": "2021-10-22T12:12:02.443Z"
   },
   {
    "duration": 47,
    "start_time": "2021-10-22T12:12:02.470Z"
   },
   {
    "duration": 184,
    "start_time": "2021-10-22T12:12:02.518Z"
   },
   {
    "duration": 305,
    "start_time": "2021-10-22T12:12:02.703Z"
   },
   {
    "duration": 328,
    "start_time": "2021-10-22T12:12:03.011Z"
   },
   {
    "duration": 329,
    "start_time": "2021-10-22T12:12:03.344Z"
   },
   {
    "duration": 290,
    "start_time": "2021-10-22T12:12:03.674Z"
   },
   {
    "duration": 8,
    "start_time": "2021-10-22T12:12:03.966Z"
   },
   {
    "duration": 204,
    "start_time": "2021-10-22T12:12:03.976Z"
   },
   {
    "duration": 7,
    "start_time": "2021-10-22T12:12:04.182Z"
   },
   {
    "duration": 164,
    "start_time": "2021-10-22T12:12:04.193Z"
   },
   {
    "duration": 258,
    "start_time": "2021-10-22T12:12:17.634Z"
   },
   {
    "duration": 433,
    "start_time": "2021-10-22T12:12:21.367Z"
   },
   {
    "duration": 158,
    "start_time": "2021-10-22T12:13:22.320Z"
   },
   {
    "duration": 272,
    "start_time": "2021-10-22T12:13:24.674Z"
   },
   {
    "duration": 15,
    "start_time": "2021-10-22T12:14:28.783Z"
   },
   {
    "duration": 20,
    "start_time": "2021-10-22T12:15:05.454Z"
   },
   {
    "duration": 564,
    "start_time": "2021-10-22T12:24:32.380Z"
   },
   {
    "duration": 870,
    "start_time": "2021-10-22T12:25:06.843Z"
   },
   {
    "duration": 1339,
    "start_time": "2021-10-22T12:25:34.674Z"
   },
   {
    "duration": 2149,
    "start_time": "2021-10-22T12:26:13.395Z"
   },
   {
    "duration": 2116,
    "start_time": "2021-10-22T12:26:27.144Z"
   },
   {
    "duration": 2221,
    "start_time": "2021-10-22T12:27:17.246Z"
   },
   {
    "duration": 347,
    "start_time": "2021-10-22T12:31:15.550Z"
   },
   {
    "duration": 15,
    "start_time": "2021-10-22T12:31:18.256Z"
   },
   {
    "duration": 429,
    "start_time": "2021-10-22T12:33:45.563Z"
   },
   {
    "duration": 373,
    "start_time": "2021-10-22T12:34:16.663Z"
   },
   {
    "duration": 418,
    "start_time": "2021-10-22T12:35:01.205Z"
   },
   {
    "duration": 133,
    "start_time": "2021-10-22T12:35:57.016Z"
   },
   {
    "duration": 118,
    "start_time": "2021-10-22T12:36:34.992Z"
   },
   {
    "duration": 6,
    "start_time": "2021-10-22T12:37:03.171Z"
   },
   {
    "duration": 14,
    "start_time": "2021-10-22T12:38:00.474Z"
   },
   {
    "duration": 104,
    "start_time": "2021-10-22T12:38:10.923Z"
   },
   {
    "duration": 18,
    "start_time": "2021-10-22T12:47:59.251Z"
   },
   {
    "duration": 3,
    "start_time": "2021-10-22T12:50:52.491Z"
   },
   {
    "duration": 160,
    "start_time": "2021-10-22T12:50:52.496Z"
   },
   {
    "duration": 41,
    "start_time": "2021-10-22T12:50:52.659Z"
   },
   {
    "duration": 14,
    "start_time": "2021-10-22T12:50:52.702Z"
   },
   {
    "duration": 5,
    "start_time": "2021-10-22T12:50:52.717Z"
   },
   {
    "duration": 21,
    "start_time": "2021-10-22T12:50:52.724Z"
   },
   {
    "duration": 24,
    "start_time": "2021-10-22T12:50:56.217Z"
   },
   {
    "duration": 7,
    "start_time": "2021-10-22T12:52:56.423Z"
   },
   {
    "duration": 12,
    "start_time": "2021-10-22T12:53:03.090Z"
   },
   {
    "duration": 26,
    "start_time": "2021-10-22T12:53:08.289Z"
   },
   {
    "duration": 3,
    "start_time": "2021-10-22T12:57:41.566Z"
   },
   {
    "duration": 123,
    "start_time": "2021-10-22T12:57:41.572Z"
   },
   {
    "duration": 49,
    "start_time": "2021-10-22T12:57:41.697Z"
   },
   {
    "duration": 17,
    "start_time": "2021-10-22T12:57:41.749Z"
   },
   {
    "duration": 16,
    "start_time": "2021-10-22T12:57:41.768Z"
   },
   {
    "duration": 4,
    "start_time": "2021-10-22T12:57:41.786Z"
   },
   {
    "duration": 16,
    "start_time": "2021-10-22T12:57:41.792Z"
   },
   {
    "duration": 7,
    "start_time": "2021-10-22T12:57:41.810Z"
   },
   {
    "duration": 31,
    "start_time": "2021-10-22T12:57:41.819Z"
   },
   {
    "duration": 3,
    "start_time": "2021-10-22T12:57:41.853Z"
   },
   {
    "duration": 26,
    "start_time": "2021-10-22T12:57:41.858Z"
   },
   {
    "duration": 5,
    "start_time": "2021-10-22T12:57:41.886Z"
   },
   {
    "duration": 371,
    "start_time": "2021-10-22T12:57:41.893Z"
   },
   {
    "duration": -388,
    "start_time": "2021-10-22T12:57:42.655Z"
   },
   {
    "duration": 319,
    "start_time": "2021-10-22T12:58:21.270Z"
   },
   {
    "duration": 26,
    "start_time": "2021-10-22T12:58:52.824Z"
   },
   {
    "duration": 20,
    "start_time": "2021-10-22T12:59:10.065Z"
   },
   {
    "duration": 11,
    "start_time": "2021-10-22T12:59:57.093Z"
   },
   {
    "duration": 7,
    "start_time": "2021-10-22T13:00:20.734Z"
   },
   {
    "duration": 18,
    "start_time": "2021-10-22T13:00:29.753Z"
   },
   {
    "duration": 101,
    "start_time": "2021-10-22T13:02:12.830Z"
   },
   {
    "duration": 28,
    "start_time": "2021-10-22T13:02:29.862Z"
   },
   {
    "duration": 332,
    "start_time": "2021-10-22T13:05:04.467Z"
   },
   {
    "duration": 13,
    "start_time": "2021-10-22T13:05:08.980Z"
   },
   {
    "duration": 12,
    "start_time": "2021-10-22T13:05:47.541Z"
   },
   {
    "duration": 5,
    "start_time": "2021-10-22T13:06:20.745Z"
   },
   {
    "duration": 17,
    "start_time": "2021-10-22T13:06:24.269Z"
   },
   {
    "duration": 51,
    "start_time": "2021-10-22T13:06:26.281Z"
   },
   {
    "duration": 1333,
    "start_time": "2021-10-22T13:06:39.707Z"
   },
   {
    "duration": 67,
    "start_time": "2021-10-22T13:07:31.595Z"
   },
   {
    "duration": 1227,
    "start_time": "2021-10-22T13:07:37.955Z"
   },
   {
    "duration": 1958,
    "start_time": "2021-10-22T13:08:03.218Z"
   },
   {
    "duration": 1915,
    "start_time": "2021-10-22T13:08:08.004Z"
   },
   {
    "duration": 1253,
    "start_time": "2021-10-22T13:08:32.355Z"
   },
   {
    "duration": 20,
    "start_time": "2021-10-22T13:08:56.936Z"
   },
   {
    "duration": 26,
    "start_time": "2021-10-22T13:09:03.210Z"
   },
   {
    "duration": 75,
    "start_time": "2021-10-22T13:11:18.153Z"
   },
   {
    "duration": 1449,
    "start_time": "2021-10-22T13:11:22.168Z"
   },
   {
    "duration": 1281,
    "start_time": "2021-10-22T13:11:32.964Z"
   },
   {
    "duration": 1353,
    "start_time": "2021-10-22T13:12:04.538Z"
   },
   {
    "duration": 1155,
    "start_time": "2021-10-22T13:13:23.082Z"
   },
   {
    "duration": 14,
    "start_time": "2021-10-22T13:13:36.696Z"
   },
   {
    "duration": 70,
    "start_time": "2021-10-22T13:17:10.065Z"
   },
   {
    "duration": 75,
    "start_time": "2021-10-22T13:17:39.024Z"
   },
   {
    "duration": 1276,
    "start_time": "2021-10-22T13:17:41.195Z"
   },
   {
    "duration": 272,
    "start_time": "2021-10-23T08:03:14.028Z"
   },
   {
    "duration": 781,
    "start_time": "2021-10-23T08:03:30.975Z"
   },
   {
    "duration": 340,
    "start_time": "2021-10-23T08:03:31.759Z"
   },
   {
    "duration": 71,
    "start_time": "2021-10-23T08:03:32.102Z"
   },
   {
    "duration": 20,
    "start_time": "2021-10-23T08:03:32.176Z"
   },
   {
    "duration": 32,
    "start_time": "2021-10-23T08:03:32.199Z"
   },
   {
    "duration": 12,
    "start_time": "2021-10-23T08:03:32.234Z"
   },
   {
    "duration": 34,
    "start_time": "2021-10-23T08:03:32.249Z"
   },
   {
    "duration": 13,
    "start_time": "2021-10-23T08:03:32.287Z"
   },
   {
    "duration": 27,
    "start_time": "2021-10-23T08:03:32.303Z"
   },
   {
    "duration": 17,
    "start_time": "2021-10-23T08:03:32.332Z"
   },
   {
    "duration": 38,
    "start_time": "2021-10-23T08:03:32.352Z"
   },
   {
    "duration": 13,
    "start_time": "2021-10-23T08:03:32.392Z"
   },
   {
    "duration": 16,
    "start_time": "2021-10-23T08:03:32.407Z"
   },
   {
    "duration": 32,
    "start_time": "2021-10-23T08:03:32.425Z"
   },
   {
    "duration": 87,
    "start_time": "2021-10-23T08:03:32.459Z"
   },
   {
    "duration": 2313,
    "start_time": "2021-10-23T08:03:32.549Z"
   },
   {
    "duration": 104,
    "start_time": "2021-10-23T08:03:34.865Z"
   },
   {
    "duration": 1834,
    "start_time": "2021-10-23T08:03:34.971Z"
   },
   {
    "duration": 27,
    "start_time": "2021-10-23T08:03:36.807Z"
   },
   {
    "duration": 18,
    "start_time": "2021-10-23T08:15:26.966Z"
   },
   {
    "duration": 777,
    "start_time": "2021-10-23T08:18:53.667Z"
   },
   {
    "duration": 131,
    "start_time": "2021-10-23T08:18:54.446Z"
   },
   {
    "duration": 64,
    "start_time": "2021-10-23T08:18:54.580Z"
   },
   {
    "duration": 19,
    "start_time": "2021-10-23T08:18:54.647Z"
   },
   {
    "duration": 10,
    "start_time": "2021-10-23T08:18:54.669Z"
   },
   {
    "duration": 4,
    "start_time": "2021-10-23T08:18:54.681Z"
   },
   {
    "duration": 54,
    "start_time": "2021-10-23T08:18:54.688Z"
   },
   {
    "duration": 7,
    "start_time": "2021-10-23T08:18:54.746Z"
   },
   {
    "duration": 13,
    "start_time": "2021-10-23T08:18:54.755Z"
   },
   {
    "duration": 2,
    "start_time": "2021-10-23T08:18:54.771Z"
   },
   {
    "duration": 34,
    "start_time": "2021-10-23T08:18:54.775Z"
   },
   {
    "duration": 10,
    "start_time": "2021-10-23T08:18:54.829Z"
   },
   {
    "duration": 8,
    "start_time": "2021-10-23T08:18:54.841Z"
   },
   {
    "duration": 25,
    "start_time": "2021-10-23T08:18:54.851Z"
   },
   {
    "duration": 93,
    "start_time": "2021-10-23T08:18:54.879Z"
   },
   {
    "duration": 1960,
    "start_time": "2021-10-23T08:18:54.975Z"
   },
   {
    "duration": 102,
    "start_time": "2021-10-23T08:18:56.937Z"
   },
   {
    "duration": 3,
    "start_time": "2021-10-23T08:18:57.041Z"
   },
   {
    "duration": 1709,
    "start_time": "2021-10-23T08:18:57.046Z"
   },
   {
    "duration": 18,
    "start_time": "2021-10-23T08:18:58.757Z"
   },
   {
    "duration": 368,
    "start_time": "2021-10-23T08:20:53.518Z"
   },
   {
    "duration": 551,
    "start_time": "2021-10-23T08:21:02.948Z"
   },
   {
    "duration": 353,
    "start_time": "2021-10-23T08:21:11.380Z"
   },
   {
    "duration": 67,
    "start_time": "2021-10-23T08:22:20.678Z"
   },
   {
    "duration": 381,
    "start_time": "2021-10-23T08:22:48.354Z"
   },
   {
    "duration": 368,
    "start_time": "2021-10-23T08:23:01.718Z"
   },
   {
    "duration": 67,
    "start_time": "2021-10-23T08:23:54.927Z"
   },
   {
    "duration": 646,
    "start_time": "2021-10-23T08:24:02.631Z"
   },
   {
    "duration": 647,
    "start_time": "2021-10-23T08:24:06.801Z"
   },
   {
    "duration": 532,
    "start_time": "2021-10-23T08:24:29.855Z"
   },
   {
    "duration": 354,
    "start_time": "2021-10-23T08:24:45.596Z"
   },
   {
    "duration": 52,
    "start_time": "2021-10-23T08:25:56.417Z"
   },
   {
    "duration": 25,
    "start_time": "2021-10-23T08:27:23.999Z"
   },
   {
    "duration": 51,
    "start_time": "2021-10-23T08:27:59.486Z"
   },
   {
    "duration": 34,
    "start_time": "2021-10-23T08:30:16.685Z"
   },
   {
    "duration": 26,
    "start_time": "2021-10-23T08:30:41.633Z"
   },
   {
    "duration": 62,
    "start_time": "2021-10-23T08:31:00.172Z"
   },
   {
    "duration": 171,
    "start_time": "2021-10-23T08:33:42.452Z"
   },
   {
    "duration": 27,
    "start_time": "2021-10-23T08:33:48.201Z"
   },
   {
    "duration": 34,
    "start_time": "2021-10-23T08:33:59.765Z"
   },
   {
    "duration": 264,
    "start_time": "2021-10-23T08:36:19.093Z"
   },
   {
    "duration": 35,
    "start_time": "2021-10-23T08:36:28.823Z"
   },
   {
    "duration": 35,
    "start_time": "2021-10-23T08:36:39.462Z"
   },
   {
    "duration": 396,
    "start_time": "2021-10-23T08:37:54.087Z"
   },
   {
    "duration": 394,
    "start_time": "2021-10-23T08:38:14.740Z"
   },
   {
    "duration": 343,
    "start_time": "2021-10-23T08:38:35.035Z"
   },
   {
    "duration": 811,
    "start_time": "2021-10-23T08:47:14.391Z"
   },
   {
    "duration": 130,
    "start_time": "2021-10-23T08:47:15.204Z"
   },
   {
    "duration": 56,
    "start_time": "2021-10-23T08:47:15.337Z"
   },
   {
    "duration": 35,
    "start_time": "2021-10-23T08:47:15.396Z"
   },
   {
    "duration": 6,
    "start_time": "2021-10-23T08:47:15.434Z"
   },
   {
    "duration": 2,
    "start_time": "2021-10-23T08:47:15.443Z"
   },
   {
    "duration": 26,
    "start_time": "2021-10-23T08:47:15.448Z"
   },
   {
    "duration": 7,
    "start_time": "2021-10-23T08:47:15.478Z"
   },
   {
    "duration": 51,
    "start_time": "2021-10-23T08:47:15.489Z"
   },
   {
    "duration": 4,
    "start_time": "2021-10-23T08:47:15.543Z"
   },
   {
    "duration": 23,
    "start_time": "2021-10-23T08:47:15.549Z"
   },
   {
    "duration": 9,
    "start_time": "2021-10-23T08:47:15.574Z"
   },
   {
    "duration": 6,
    "start_time": "2021-10-23T08:47:15.585Z"
   },
   {
    "duration": 57,
    "start_time": "2021-10-23T08:47:15.593Z"
   },
   {
    "duration": 86,
    "start_time": "2021-10-23T08:47:15.653Z"
   },
   {
    "duration": 2051,
    "start_time": "2021-10-23T08:47:15.742Z"
   },
   {
    "duration": 104,
    "start_time": "2021-10-23T08:47:17.796Z"
   },
   {
    "duration": 3,
    "start_time": "2021-10-23T08:47:17.902Z"
   },
   {
    "duration": 1768,
    "start_time": "2021-10-23T08:47:17.907Z"
   },
   {
    "duration": 499,
    "start_time": "2021-10-23T08:47:19.678Z"
   },
   {
    "duration": 28,
    "start_time": "2021-10-23T08:47:20.179Z"
   },
   {
    "duration": 416,
    "start_time": "2021-10-23T08:47:20.209Z"
   },
   {
    "duration": 668,
    "start_time": "2021-10-23T08:48:46.902Z"
   },
   {
    "duration": 909,
    "start_time": "2021-10-23T08:49:26.724Z"
   },
   {
    "duration": 951,
    "start_time": "2021-10-23T08:49:53.038Z"
   },
   {
    "duration": 680,
    "start_time": "2021-10-23T08:50:15.742Z"
   },
   {
    "duration": 675,
    "start_time": "2021-10-23T08:50:33.553Z"
   },
   {
    "duration": 676,
    "start_time": "2021-10-23T08:50:55.762Z"
   },
   {
    "duration": 677,
    "start_time": "2021-10-23T08:57:28.269Z"
   },
   {
    "duration": 268,
    "start_time": "2021-10-23T09:18:54.790Z"
   },
   {
    "duration": 20,
    "start_time": "2021-10-23T09:21:36.702Z"
   },
   {
    "duration": 851,
    "start_time": "2021-10-23T10:35:11.523Z"
   },
   {
    "duration": 713,
    "start_time": "2021-10-23T10:35:36.938Z"
   },
   {
    "duration": 748,
    "start_time": "2021-10-23T10:35:44.428Z"
   },
   {
    "duration": 826,
    "start_time": "2021-10-23T10:36:05.414Z"
   },
   {
    "duration": 1154,
    "start_time": "2021-10-23T10:41:31.498Z"
   },
   {
    "duration": 856,
    "start_time": "2021-10-23T10:41:54.738Z"
   },
   {
    "duration": 922,
    "start_time": "2021-10-23T10:42:21.285Z"
   },
   {
    "duration": 873,
    "start_time": "2021-10-23T10:42:49.853Z"
   },
   {
    "duration": 857,
    "start_time": "2021-10-23T10:42:59.650Z"
   },
   {
    "duration": 993,
    "start_time": "2021-10-24T07:31:50.152Z"
   },
   {
    "duration": 154,
    "start_time": "2021-10-24T07:31:51.148Z"
   },
   {
    "duration": 25,
    "start_time": "2021-10-24T07:31:51.307Z"
   },
   {
    "duration": 81,
    "start_time": "2021-10-24T07:31:51.336Z"
   },
   {
    "duration": 6,
    "start_time": "2021-10-24T07:31:51.419Z"
   },
   {
    "duration": 4,
    "start_time": "2021-10-24T07:31:51.428Z"
   },
   {
    "duration": 53,
    "start_time": "2021-10-24T07:31:51.434Z"
   },
   {
    "duration": 8,
    "start_time": "2021-10-24T07:31:51.491Z"
   },
   {
    "duration": 14,
    "start_time": "2021-10-24T07:31:51.502Z"
   },
   {
    "duration": 3,
    "start_time": "2021-10-24T07:31:51.518Z"
   },
   {
    "duration": 26,
    "start_time": "2021-10-24T07:31:51.559Z"
   },
   {
    "duration": 14,
    "start_time": "2021-10-24T07:31:51.588Z"
   },
   {
    "duration": 6,
    "start_time": "2021-10-24T07:31:51.605Z"
   },
   {
    "duration": 60,
    "start_time": "2021-10-24T07:31:51.613Z"
   },
   {
    "duration": 99,
    "start_time": "2021-10-24T07:31:51.676Z"
   },
   {
    "duration": 1743,
    "start_time": "2021-10-24T07:31:56.866Z"
   },
   {
    "duration": 1679,
    "start_time": "2021-10-24T07:32:45.642Z"
   },
   {
    "duration": 1791,
    "start_time": "2021-10-24T07:33:12.509Z"
   },
   {
    "duration": 2374,
    "start_time": "2021-10-24T07:34:32.555Z"
   },
   {
    "duration": 3951,
    "start_time": "2021-10-24T07:35:03.126Z"
   },
   {
    "duration": 2129,
    "start_time": "2021-10-24T07:35:11.280Z"
   },
   {
    "duration": 2169,
    "start_time": "2021-10-24T07:35:36.542Z"
   },
   {
    "duration": 2178,
    "start_time": "2021-10-24T07:35:50.084Z"
   },
   {
    "duration": 1404,
    "start_time": "2021-10-24T07:41:02.933Z"
   },
   {
    "duration": 1130,
    "start_time": "2021-10-24T07:42:42.074Z"
   },
   {
    "duration": 58,
    "start_time": "2021-10-24T07:47:14.864Z"
   },
   {
    "duration": 6,
    "start_time": "2021-10-24T07:47:26.267Z"
   },
   {
    "duration": 151,
    "start_time": "2021-10-24T07:47:26.285Z"
   },
   {
    "duration": 31,
    "start_time": "2021-10-24T07:47:26.438Z"
   },
   {
    "duration": 61,
    "start_time": "2021-10-24T07:47:26.473Z"
   },
   {
    "duration": 70,
    "start_time": "2021-10-24T07:47:29.861Z"
   },
   {
    "duration": 7,
    "start_time": "2021-10-24T07:51:22.463Z"
   },
   {
    "duration": 7,
    "start_time": "2021-10-24T07:53:30.483Z"
   },
   {
    "duration": 22,
    "start_time": "2021-10-24T07:53:32.041Z"
   },
   {
    "duration": 12,
    "start_time": "2021-10-24T07:53:33.966Z"
   },
   {
    "duration": 13,
    "start_time": "2021-10-24T07:53:36.492Z"
   },
   {
    "duration": 43,
    "start_time": "2021-10-24T07:56:47.555Z"
   },
   {
    "duration": 32,
    "start_time": "2021-10-24T07:57:21.862Z"
   },
   {
    "duration": 8,
    "start_time": "2021-10-24T07:57:34.529Z"
   },
   {
    "duration": 11,
    "start_time": "2021-10-24T07:59:07.954Z"
   },
   {
    "duration": 23,
    "start_time": "2021-10-24T07:59:10.003Z"
   },
   {
    "duration": 76,
    "start_time": "2021-10-24T08:00:23.116Z"
   },
   {
    "duration": 2196,
    "start_time": "2021-10-24T08:00:41.492Z"
   },
   {
    "duration": 1197,
    "start_time": "2021-10-24T08:01:13.739Z"
   },
   {
    "duration": 8,
    "start_time": "2021-10-24T08:13:18.074Z"
   },
   {
    "duration": 11,
    "start_time": "2021-10-24T08:13:37.258Z"
   },
   {
    "duration": 17,
    "start_time": "2021-10-24T08:15:13.759Z"
   },
   {
    "duration": 22,
    "start_time": "2021-10-24T08:15:48.884Z"
   },
   {
    "duration": 21,
    "start_time": "2021-10-24T08:18:00.697Z"
   },
   {
    "duration": 155,
    "start_time": "2021-10-24T08:19:05.247Z"
   },
   {
    "duration": 21,
    "start_time": "2021-10-24T08:19:09.686Z"
   },
   {
    "duration": 21,
    "start_time": "2021-10-24T08:20:08.391Z"
   },
   {
    "duration": 53,
    "start_time": "2021-10-24T08:21:36.932Z"
   },
   {
    "duration": 43,
    "start_time": "2021-10-24T08:21:46.903Z"
   },
   {
    "duration": 19,
    "start_time": "2021-10-24T08:22:08.174Z"
   },
   {
    "duration": 32,
    "start_time": "2021-10-24T08:22:12.483Z"
   },
   {
    "duration": 43,
    "start_time": "2021-10-24T08:22:51.793Z"
   },
   {
    "duration": 32,
    "start_time": "2021-10-24T08:26:04.074Z"
   },
   {
    "duration": 19,
    "start_time": "2021-10-24T08:26:21.917Z"
   },
   {
    "duration": 18,
    "start_time": "2021-10-24T08:27:38.129Z"
   },
   {
    "duration": 35,
    "start_time": "2021-10-24T08:28:08.555Z"
   },
   {
    "duration": 19,
    "start_time": "2021-10-24T08:28:12.408Z"
   },
   {
    "duration": 26,
    "start_time": "2021-10-24T08:29:49.646Z"
   },
   {
    "duration": 32,
    "start_time": "2021-10-24T08:29:54.383Z"
   },
   {
    "duration": 31,
    "start_time": "2021-10-24T08:30:06.794Z"
   },
   {
    "duration": 94,
    "start_time": "2021-10-24T08:44:09.392Z"
   },
   {
    "duration": 1875,
    "start_time": "2021-10-24T08:44:47.978Z"
   },
   {
    "duration": 1677,
    "start_time": "2021-10-24T08:45:16.809Z"
   },
   {
    "duration": 1768,
    "start_time": "2021-10-24T08:45:57.233Z"
   },
   {
    "duration": 1703,
    "start_time": "2021-10-24T08:46:40.896Z"
   },
   {
    "duration": 1885,
    "start_time": "2021-10-24T08:46:57.400Z"
   },
   {
    "duration": 1985,
    "start_time": "2021-10-24T08:47:13.808Z"
   },
   {
    "duration": 1903,
    "start_time": "2021-10-24T08:47:49.609Z"
   },
   {
    "duration": 1725,
    "start_time": "2021-10-24T08:48:01.435Z"
   },
   {
    "duration": 1867,
    "start_time": "2021-10-24T08:48:06.796Z"
   },
   {
    "duration": 1698,
    "start_time": "2021-10-24T08:48:13.115Z"
   },
   {
    "duration": 1777,
    "start_time": "2021-10-24T08:48:24.275Z"
   },
   {
    "duration": 1598,
    "start_time": "2021-10-24T08:48:51.473Z"
   },
   {
    "duration": 349,
    "start_time": "2021-10-24T08:49:51.462Z"
   },
   {
    "duration": 399,
    "start_time": "2021-10-24T10:41:22.778Z"
   },
   {
    "duration": 438,
    "start_time": "2021-10-24T10:43:23.135Z"
   },
   {
    "duration": 508,
    "start_time": "2021-10-24T10:44:11.015Z"
   },
   {
    "duration": 372,
    "start_time": "2021-10-24T10:45:59.385Z"
   },
   {
    "duration": 11,
    "start_time": "2021-10-24T10:53:37.423Z"
   },
   {
    "duration": 127,
    "start_time": "2021-10-24T10:54:23.442Z"
   },
   {
    "duration": 15,
    "start_time": "2021-10-24T10:54:30.717Z"
   },
   {
    "duration": 15,
    "start_time": "2021-10-24T10:54:41.913Z"
   },
   {
    "duration": 14,
    "start_time": "2021-10-24T10:55:09.033Z"
   },
   {
    "duration": 19,
    "start_time": "2021-10-24T10:59:59.961Z"
   },
   {
    "duration": 131,
    "start_time": "2021-10-24T11:00:13.667Z"
   },
   {
    "duration": 17,
    "start_time": "2021-10-24T11:00:43.827Z"
   },
   {
    "duration": 14,
    "start_time": "2021-10-24T11:01:17.864Z"
   },
   {
    "duration": 14,
    "start_time": "2021-10-24T11:02:01.018Z"
   },
   {
    "duration": 28,
    "start_time": "2021-10-24T11:04:40.848Z"
   },
   {
    "duration": 34,
    "start_time": "2021-10-24T11:05:18.733Z"
   },
   {
    "duration": 32,
    "start_time": "2021-10-24T11:05:59.543Z"
   },
   {
    "duration": 35,
    "start_time": "2021-10-24T11:06:37.620Z"
   },
   {
    "duration": 34,
    "start_time": "2021-10-24T11:06:42.381Z"
   },
   {
    "duration": 36,
    "start_time": "2021-10-24T11:06:46.662Z"
   },
   {
    "duration": 32,
    "start_time": "2021-10-24T11:07:06.728Z"
   },
   {
    "duration": 24,
    "start_time": "2021-10-24T11:09:29.949Z"
   },
   {
    "duration": 14,
    "start_time": "2021-10-24T11:10:58.754Z"
   },
   {
    "duration": 12,
    "start_time": "2021-10-24T11:11:01.450Z"
   },
   {
    "duration": 13,
    "start_time": "2021-10-24T11:16:41.244Z"
   },
   {
    "duration": 13,
    "start_time": "2021-10-24T11:16:43.454Z"
   },
   {
    "duration": 33,
    "start_time": "2021-10-24T11:20:15.101Z"
   },
   {
    "duration": 12,
    "start_time": "2021-10-24T11:20:45.593Z"
   },
   {
    "duration": 42,
    "start_time": "2021-10-24T11:21:00.394Z"
   },
   {
    "duration": 32,
    "start_time": "2021-10-24T11:21:07.381Z"
   },
   {
    "duration": 52,
    "start_time": "2021-10-24T11:21:35.808Z"
   },
   {
    "duration": 8059,
    "start_time": "2021-10-24T11:48:04.991Z"
   },
   {
    "duration": 90,
    "start_time": "2021-10-24T11:48:54.347Z"
   },
   {
    "duration": 146,
    "start_time": "2021-10-24T11:50:20.244Z"
   },
   {
    "duration": 122,
    "start_time": "2021-10-24T11:50:32.265Z"
   },
   {
    "duration": 28,
    "start_time": "2021-10-24T11:51:07.164Z"
   },
   {
    "duration": 22,
    "start_time": "2021-10-24T11:51:49.582Z"
   },
   {
    "duration": 23,
    "start_time": "2021-10-24T11:55:33.131Z"
   },
   {
    "duration": 382,
    "start_time": "2021-10-24T11:56:21.621Z"
   },
   {
    "duration": 1624,
    "start_time": "2021-10-24T12:01:43.963Z"
   },
   {
    "duration": 4,
    "start_time": "2021-10-24T12:12:30.816Z"
   },
   {
    "duration": 172,
    "start_time": "2021-10-24T12:12:30.826Z"
   },
   {
    "duration": 20,
    "start_time": "2021-10-24T12:12:31.000Z"
   },
   {
    "duration": 74,
    "start_time": "2021-10-24T12:12:31.023Z"
   },
   {
    "duration": 79,
    "start_time": "2021-10-24T12:12:31.100Z"
   },
   {
    "duration": 6,
    "start_time": "2021-10-24T12:12:31.181Z"
   },
   {
    "duration": 22,
    "start_time": "2021-10-24T12:12:31.190Z"
   },
   {
    "duration": 7,
    "start_time": "2021-10-24T12:12:31.215Z"
   },
   {
    "duration": 44,
    "start_time": "2021-10-24T12:12:31.226Z"
   },
   {
    "duration": 3,
    "start_time": "2021-10-24T12:12:31.274Z"
   },
   {
    "duration": 26,
    "start_time": "2021-10-24T12:12:31.280Z"
   },
   {
    "duration": 7,
    "start_time": "2021-10-24T12:12:31.309Z"
   },
   {
    "duration": 40,
    "start_time": "2021-10-24T12:12:31.319Z"
   },
   {
    "duration": 30,
    "start_time": "2021-10-24T12:12:31.361Z"
   },
   {
    "duration": 83,
    "start_time": "2021-10-24T12:12:31.394Z"
   },
   {
    "duration": 1866,
    "start_time": "2021-10-24T12:12:31.480Z"
   },
   {
    "duration": 1146,
    "start_time": "2021-10-24T12:12:33.349Z"
   },
   {
    "duration": 108,
    "start_time": "2021-10-24T12:12:34.497Z"
   },
   {
    "duration": 1665,
    "start_time": "2021-10-24T12:12:34.607Z"
   },
   {
    "duration": 407,
    "start_time": "2021-10-24T12:12:36.274Z"
   },
   {
    "duration": 19,
    "start_time": "2021-10-24T12:13:16.533Z"
   },
   {
    "duration": 97,
    "start_time": "2021-10-24T12:15:03.531Z"
   },
   {
    "duration": 1713,
    "start_time": "2021-10-24T12:15:05.688Z"
   },
   {
    "duration": 388,
    "start_time": "2021-10-24T12:15:10.081Z"
   },
   {
    "duration": 19,
    "start_time": "2021-10-24T12:15:13.896Z"
   },
   {
    "duration": 22,
    "start_time": "2021-10-24T12:15:48.993Z"
   },
   {
    "duration": 26,
    "start_time": "2021-10-24T12:15:57.910Z"
   },
   {
    "duration": 37,
    "start_time": "2021-10-24T12:16:22.180Z"
   },
   {
    "duration": 63,
    "start_time": "2021-10-24T12:16:38.734Z"
   },
   {
    "duration": 38,
    "start_time": "2021-10-24T12:16:50.828Z"
   },
   {
    "duration": 55,
    "start_time": "2021-10-24T12:16:56.411Z"
   },
   {
    "duration": 55,
    "start_time": "2021-10-24T12:18:15.215Z"
   },
   {
    "duration": 51,
    "start_time": "2021-10-24T12:22:31.497Z"
   },
   {
    "duration": 56,
    "start_time": "2021-10-24T12:49:03.712Z"
   },
   {
    "duration": 70,
    "start_time": "2021-10-24T13:00:40.118Z"
   },
   {
    "duration": 11,
    "start_time": "2021-10-24T13:00:58.997Z"
   },
   {
    "duration": 71,
    "start_time": "2021-10-24T13:03:19.490Z"
   },
   {
    "duration": 751,
    "start_time": "2021-10-24T13:03:28.271Z"
   },
   {
    "duration": 709,
    "start_time": "2021-10-24T13:07:56.005Z"
   },
   {
    "duration": 673,
    "start_time": "2021-10-24T13:08:02.823Z"
   },
   {
    "duration": 465,
    "start_time": "2021-10-24T13:13:31.358Z"
   },
   {
    "duration": 5,
    "start_time": "2021-10-24T13:13:36.558Z"
   },
   {
    "duration": 679,
    "start_time": "2021-10-24T13:13:37.890Z"
   },
   {
    "duration": 5,
    "start_time": "2021-10-24T13:14:19.039Z"
   },
   {
    "duration": 1141,
    "start_time": "2021-10-24T13:14:20.422Z"
   },
   {
    "duration": 5,
    "start_time": "2021-10-24T13:14:27.966Z"
   },
   {
    "duration": 684,
    "start_time": "2021-10-24T13:14:29.696Z"
   },
   {
    "duration": 5,
    "start_time": "2021-10-24T13:14:34.841Z"
   },
   {
    "duration": 659,
    "start_time": "2021-10-24T13:14:36.172Z"
   },
   {
    "duration": 687,
    "start_time": "2021-10-24T13:15:13.308Z"
   },
   {
    "duration": 5,
    "start_time": "2021-10-24T13:15:48.019Z"
   },
   {
    "duration": 567,
    "start_time": "2021-10-24T13:15:49.322Z"
   },
   {
    "duration": 689,
    "start_time": "2021-10-24T13:16:22.860Z"
   },
   {
    "duration": 5,
    "start_time": "2021-10-24T13:16:25.866Z"
   },
   {
    "duration": 732,
    "start_time": "2021-10-24T13:16:26.965Z"
   },
   {
    "duration": 326,
    "start_time": "2021-10-24T13:17:23.499Z"
   },
   {
    "duration": 38,
    "start_time": "2021-10-24T13:19:35.493Z"
   },
   {
    "duration": 836,
    "start_time": "2021-10-24T13:24:07.382Z"
   },
   {
    "duration": 134,
    "start_time": "2021-10-24T13:24:08.221Z"
   },
   {
    "duration": 24,
    "start_time": "2021-10-24T13:24:08.359Z"
   },
   {
    "duration": 73,
    "start_time": "2021-10-24T13:24:08.386Z"
   },
   {
    "duration": 55,
    "start_time": "2021-10-24T13:24:08.462Z"
   },
   {
    "duration": 6,
    "start_time": "2021-10-24T13:24:08.519Z"
   },
   {
    "duration": 23,
    "start_time": "2021-10-24T13:24:08.558Z"
   },
   {
    "duration": 8,
    "start_time": "2021-10-24T13:24:08.584Z"
   },
   {
    "duration": 16,
    "start_time": "2021-10-24T13:24:08.595Z"
   },
   {
    "duration": 443,
    "start_time": "2021-10-24T13:24:08.614Z"
   },
   {
    "duration": -77,
    "start_time": "2021-10-24T13:24:09.136Z"
   },
   {
    "duration": -81,
    "start_time": "2021-10-24T13:24:09.142Z"
   },
   {
    "duration": -84,
    "start_time": "2021-10-24T13:24:09.146Z"
   },
   {
    "duration": -86,
    "start_time": "2021-10-24T13:24:09.150Z"
   },
   {
    "duration": -97,
    "start_time": "2021-10-24T13:24:09.163Z"
   },
   {
    "duration": -100,
    "start_time": "2021-10-24T13:24:09.167Z"
   },
   {
    "duration": -105,
    "start_time": "2021-10-24T13:24:09.173Z"
   },
   {
    "duration": -106,
    "start_time": "2021-10-24T13:24:09.176Z"
   },
   {
    "duration": -139,
    "start_time": "2021-10-24T13:24:09.210Z"
   },
   {
    "duration": -140,
    "start_time": "2021-10-24T13:24:09.213Z"
   },
   {
    "duration": -144,
    "start_time": "2021-10-24T13:24:09.218Z"
   },
   {
    "duration": -169,
    "start_time": "2021-10-24T13:24:09.244Z"
   },
   {
    "duration": -171,
    "start_time": "2021-10-24T13:24:09.247Z"
   },
   {
    "duration": -174,
    "start_time": "2021-10-24T13:24:09.252Z"
   },
   {
    "duration": -178,
    "start_time": "2021-10-24T13:24:09.257Z"
   },
   {
    "duration": -180,
    "start_time": "2021-10-24T13:24:09.260Z"
   },
   {
    "duration": 37,
    "start_time": "2021-10-24T13:24:43.860Z"
   },
   {
    "duration": 23,
    "start_time": "2021-10-24T13:24:53.979Z"
   },
   {
    "duration": 13,
    "start_time": "2021-10-24T13:24:56.435Z"
   },
   {
    "duration": 7,
    "start_time": "2021-10-24T13:24:58.117Z"
   },
   {
    "duration": 25,
    "start_time": "2021-10-24T13:25:06.090Z"
   },
   {
    "duration": 74,
    "start_time": "2021-10-24T13:25:08.802Z"
   },
   {
    "duration": 2212,
    "start_time": "2021-10-24T13:25:11.359Z"
   },
   {
    "duration": 1078,
    "start_time": "2021-10-24T13:25:13.574Z"
   },
   {
    "duration": 110,
    "start_time": "2021-10-24T13:25:20.461Z"
   },
   {
    "duration": 1686,
    "start_time": "2021-10-24T13:25:22.047Z"
   },
   {
    "duration": 368,
    "start_time": "2021-10-24T13:25:24.004Z"
   },
   {
    "duration": 32,
    "start_time": "2021-10-24T13:25:40.418Z"
   },
   {
    "duration": 77,
    "start_time": "2021-10-24T13:25:42.439Z"
   },
   {
    "duration": 6,
    "start_time": "2021-10-24T13:26:02.565Z"
   },
   {
    "duration": 330,
    "start_time": "2021-10-24T13:26:03.926Z"
   },
   {
    "duration": 369,
    "start_time": "2021-10-24T13:30:24.503Z"
   },
   {
    "duration": 5,
    "start_time": "2021-10-24T13:30:29.339Z"
   },
   {
    "duration": 366,
    "start_time": "2021-10-24T13:30:31.320Z"
   },
   {
    "duration": 1223,
    "start_time": "2021-10-24T13:30:56.055Z"
   },
   {
    "duration": 6,
    "start_time": "2021-10-24T13:31:53.864Z"
   },
   {
    "duration": 10487,
    "start_time": "2021-10-24T13:31:55.480Z"
   },
   {
    "duration": 1780,
    "start_time": "2021-10-24T13:32:26.939Z"
   },
   {
    "duration": 6,
    "start_time": "2021-10-24T14:26:39.175Z"
   },
   {
    "duration": 2164,
    "start_time": "2021-10-24T14:26:41.155Z"
   },
   {
    "duration": 7,
    "start_time": "2021-10-24T14:27:37.202Z"
   },
   {
    "duration": 2150,
    "start_time": "2021-10-24T14:27:39.098Z"
   },
   {
    "duration": 6,
    "start_time": "2021-10-24T14:27:54.606Z"
   },
   {
    "duration": 1869,
    "start_time": "2021-10-24T14:27:56.202Z"
   },
   {
    "duration": 267,
    "start_time": "2021-10-25T06:49:41.886Z"
   },
   {
    "duration": 839,
    "start_time": "2021-10-25T06:49:51.227Z"
   },
   {
    "duration": 127,
    "start_time": "2021-10-25T06:49:52.069Z"
   },
   {
    "duration": 37,
    "start_time": "2021-10-25T06:49:52.199Z"
   },
   {
    "duration": 52,
    "start_time": "2021-10-25T06:49:52.239Z"
   },
   {
    "duration": 77,
    "start_time": "2021-10-25T06:49:52.293Z"
   },
   {
    "duration": 5,
    "start_time": "2021-10-25T06:49:52.373Z"
   },
   {
    "duration": 48,
    "start_time": "2021-10-25T06:49:52.381Z"
   },
   {
    "duration": 7,
    "start_time": "2021-10-25T06:49:52.434Z"
   },
   {
    "duration": 14,
    "start_time": "2021-10-25T06:49:52.444Z"
   },
   {
    "duration": 38,
    "start_time": "2021-10-25T06:49:52.460Z"
   },
   {
    "duration": 30,
    "start_time": "2021-10-25T06:49:52.500Z"
   },
   {
    "duration": 27,
    "start_time": "2021-10-25T06:49:52.532Z"
   },
   {
    "duration": 11,
    "start_time": "2021-10-25T06:49:52.561Z"
   },
   {
    "duration": 5,
    "start_time": "2021-10-25T06:49:52.574Z"
   },
   {
    "duration": 51,
    "start_time": "2021-10-25T06:49:52.581Z"
   },
   {
    "duration": 72,
    "start_time": "2021-10-25T06:49:52.634Z"
   },
   {
    "duration": 1952,
    "start_time": "2021-10-25T06:49:52.708Z"
   },
   {
    "duration": 1078,
    "start_time": "2021-10-25T06:49:54.663Z"
   },
   {
    "duration": 113,
    "start_time": "2021-10-25T06:49:55.743Z"
   },
   {
    "duration": 1714,
    "start_time": "2021-10-25T06:49:55.858Z"
   },
   {
    "duration": 387,
    "start_time": "2021-10-25T06:49:57.574Z"
   },
   {
    "duration": 34,
    "start_time": "2021-10-25T06:49:57.964Z"
   },
   {
    "duration": 86,
    "start_time": "2021-10-25T06:49:58.003Z"
   },
   {
    "duration": 7,
    "start_time": "2021-10-25T06:49:58.092Z"
   },
   {
    "duration": 366,
    "start_time": "2021-10-25T06:49:58.102Z"
   },
   {
    "duration": 7,
    "start_time": "2021-10-25T06:49:58.471Z"
   },
   {
    "duration": 1597,
    "start_time": "2021-10-25T06:49:58.481Z"
   },
   {
    "duration": 70,
    "start_time": "2021-10-25T06:51:04.620Z"
   },
   {
    "duration": 1521,
    "start_time": "2021-10-25T06:54:43.977Z"
   },
   {
    "duration": 4817,
    "start_time": "2021-10-25T06:59:03.706Z"
   },
   {
    "duration": 1270,
    "start_time": "2021-10-25T07:02:06.983Z"
   },
   {
    "duration": 1597,
    "start_time": "2021-10-25T07:02:41.415Z"
   },
   {
    "duration": 1675,
    "start_time": "2021-10-25T07:02:55.086Z"
   },
   {
    "duration": 1534,
    "start_time": "2021-10-25T07:03:47.973Z"
   },
   {
    "duration": 346,
    "start_time": "2021-10-25T07:06:00.447Z"
   },
   {
    "duration": 324,
    "start_time": "2021-10-25T07:08:25.542Z"
   },
   {
    "duration": 222,
    "start_time": "2021-10-25T07:09:03.143Z"
   },
   {
    "duration": 756,
    "start_time": "2021-10-25T07:16:50.147Z"
   },
   {
    "duration": 843,
    "start_time": "2021-10-25T07:18:12.910Z"
   },
   {
    "duration": 7,
    "start_time": "2021-10-25T07:19:26.482Z"
   },
   {
    "duration": 360,
    "start_time": "2021-10-25T07:19:38.189Z"
   },
   {
    "duration": 352,
    "start_time": "2021-10-25T07:21:01.279Z"
   },
   {
    "duration": 348,
    "start_time": "2021-10-25T07:22:54.855Z"
   },
   {
    "duration": 9,
    "start_time": "2021-10-25T07:24:13.798Z"
   },
   {
    "duration": 66,
    "start_time": "2021-10-25T07:24:28.660Z"
   },
   {
    "duration": 338,
    "start_time": "2021-10-25T07:24:36.171Z"
   },
   {
    "duration": 345,
    "start_time": "2021-10-25T07:24:51.409Z"
   },
   {
    "duration": 340,
    "start_time": "2021-10-25T07:25:04.842Z"
   },
   {
    "duration": 357,
    "start_time": "2021-10-25T07:25:33.406Z"
   },
   {
    "duration": 349,
    "start_time": "2021-10-25T07:25:42.316Z"
   },
   {
    "duration": 337,
    "start_time": "2021-10-25T07:28:38.787Z"
   },
   {
    "duration": 16,
    "start_time": "2021-10-25T07:29:05.267Z"
   },
   {
    "duration": 1768,
    "start_time": "2021-10-25T07:29:45.881Z"
   },
   {
    "duration": 16,
    "start_time": "2021-10-25T07:29:51.614Z"
   },
   {
    "duration": 78,
    "start_time": "2021-10-25T07:30:12.106Z"
   },
   {
    "duration": 14,
    "start_time": "2021-10-25T07:30:16.501Z"
   },
   {
    "duration": 365,
    "start_time": "2021-10-25T07:30:34.204Z"
   },
   {
    "duration": 20,
    "start_time": "2021-10-25T07:31:15.915Z"
   },
   {
    "duration": 9,
    "start_time": "2021-10-25T07:36:41.658Z"
   },
   {
    "duration": 46,
    "start_time": "2021-10-25T07:39:58.778Z"
   },
   {
    "duration": 25,
    "start_time": "2021-10-25T07:41:48.773Z"
   },
   {
    "duration": 28,
    "start_time": "2021-10-25T07:42:02.107Z"
   },
   {
    "duration": 28,
    "start_time": "2021-10-25T07:42:33.223Z"
   },
   {
    "duration": 17,
    "start_time": "2021-10-25T07:42:58.486Z"
   },
   {
    "duration": 250,
    "start_time": "2021-10-25T07:43:41.149Z"
   },
   {
    "duration": 265,
    "start_time": "2021-10-25T07:45:42.093Z"
   },
   {
    "duration": 573,
    "start_time": "2021-10-25T07:45:47.875Z"
   },
   {
    "duration": 265,
    "start_time": "2021-10-25T07:45:55.912Z"
   },
   {
    "duration": 72,
    "start_time": "2021-10-25T07:57:16.429Z"
   },
   {
    "duration": 257,
    "start_time": "2021-10-25T07:57:25.093Z"
   },
   {
    "duration": 259,
    "start_time": "2021-10-25T08:01:12.543Z"
   },
   {
    "duration": 604,
    "start_time": "2021-10-25T08:01:43.637Z"
   },
   {
    "duration": 305,
    "start_time": "2021-10-25T08:02:14.908Z"
   },
   {
    "duration": 361,
    "start_time": "2021-10-25T08:10:41.171Z"
   },
   {
    "duration": 734,
    "start_time": "2021-10-25T08:10:56.287Z"
   },
   {
    "duration": 330,
    "start_time": "2021-10-25T08:15:45.563Z"
   },
   {
    "duration": 324,
    "start_time": "2021-10-25T08:15:54.061Z"
   },
   {
    "duration": 332,
    "start_time": "2021-10-25T08:16:01.558Z"
   },
   {
    "duration": 326,
    "start_time": "2021-10-25T08:16:30.446Z"
   },
   {
    "duration": 1095,
    "start_time": "2021-10-25T08:21:36.049Z"
   },
   {
    "duration": 1650,
    "start_time": "2021-10-25T08:22:44.640Z"
   },
   {
    "duration": 799,
    "start_time": "2021-10-25T08:23:49.370Z"
   },
   {
    "duration": 2173,
    "start_time": "2021-10-25T10:32:09.777Z"
   },
   {
    "duration": 2324,
    "start_time": "2021-10-25T10:33:09.007Z"
   },
   {
    "duration": 2487,
    "start_time": "2021-10-25T10:33:24.181Z"
   },
   {
    "duration": 2359,
    "start_time": "2021-10-25T10:33:46.795Z"
   },
   {
    "duration": 4,
    "start_time": "2021-10-25T10:36:44.355Z"
   },
   {
    "duration": 525,
    "start_time": "2021-10-25T10:36:44.361Z"
   },
   {
    "duration": 356,
    "start_time": "2021-10-25T10:36:44.889Z"
   },
   {
    "duration": 56,
    "start_time": "2021-10-25T10:36:45.248Z"
   },
   {
    "duration": 166,
    "start_time": "2021-10-25T10:36:45.306Z"
   },
   {
    "duration": 6,
    "start_time": "2021-10-25T10:36:45.474Z"
   },
   {
    "duration": 54,
    "start_time": "2021-10-25T10:36:45.485Z"
   },
   {
    "duration": 10,
    "start_time": "2021-10-25T10:36:45.543Z"
   },
   {
    "duration": 25,
    "start_time": "2021-10-25T10:36:45.556Z"
   },
   {
    "duration": 57,
    "start_time": "2021-10-25T10:36:45.583Z"
   },
   {
    "duration": 4,
    "start_time": "2021-10-25T10:36:45.643Z"
   },
   {
    "duration": 22,
    "start_time": "2021-10-25T10:36:45.650Z"
   },
   {
    "duration": 10,
    "start_time": "2021-10-25T10:36:45.674Z"
   },
   {
    "duration": 46,
    "start_time": "2021-10-25T10:36:45.687Z"
   },
   {
    "duration": 22,
    "start_time": "2021-10-25T10:36:45.736Z"
   },
   {
    "duration": 100,
    "start_time": "2021-10-25T10:36:45.761Z"
   },
   {
    "duration": 1859,
    "start_time": "2021-10-25T10:36:45.864Z"
   },
   {
    "duration": 1076,
    "start_time": "2021-10-25T10:36:47.728Z"
   },
   {
    "duration": 195,
    "start_time": "2021-10-25T10:36:48.808Z"
   },
   {
    "duration": 1703,
    "start_time": "2021-10-25T10:36:49.006Z"
   },
   {
    "duration": 421,
    "start_time": "2021-10-25T10:36:50.712Z"
   },
   {
    "duration": 29,
    "start_time": "2021-10-25T10:36:51.135Z"
   },
   {
    "duration": 90,
    "start_time": "2021-10-25T10:36:51.166Z"
   },
   {
    "duration": 5,
    "start_time": "2021-10-25T10:36:51.259Z"
   },
   {
    "duration": 347,
    "start_time": "2021-10-25T10:36:51.266Z"
   },
   {
    "duration": 17,
    "start_time": "2021-10-25T10:36:51.616Z"
   },
   {
    "duration": 2375,
    "start_time": "2021-10-25T10:36:51.635Z"
   },
   {
    "duration": 2291,
    "start_time": "2021-10-25T10:36:54.012Z"
   },
   {
    "duration": 15,
    "start_time": "2021-10-25T10:40:00.914Z"
   },
   {
    "duration": 4,
    "start_time": "2021-10-25T10:40:11.430Z"
   },
   {
    "duration": 150,
    "start_time": "2021-10-25T10:40:11.436Z"
   },
   {
    "duration": 21,
    "start_time": "2021-10-25T10:40:11.590Z"
   },
   {
    "duration": 66,
    "start_time": "2021-10-25T10:40:11.614Z"
   },
   {
    "duration": 75,
    "start_time": "2021-10-25T10:40:11.683Z"
   },
   {
    "duration": 6,
    "start_time": "2021-10-25T10:40:11.760Z"
   },
   {
    "duration": 24,
    "start_time": "2021-10-25T10:40:13.995Z"
   },
   {
    "duration": 25,
    "start_time": "2021-10-25T10:41:26.452Z"
   },
   {
    "duration": 53,
    "start_time": "2021-10-25T10:48:23.043Z"
   },
   {
    "duration": 50,
    "start_time": "2021-10-25T10:48:43.512Z"
   },
   {
    "duration": 231,
    "start_time": "2021-10-25T10:48:51.308Z"
   },
   {
    "duration": 29,
    "start_time": "2021-10-25T10:50:06.377Z"
   },
   {
    "duration": 53,
    "start_time": "2021-10-25T10:50:19.618Z"
   },
   {
    "duration": 267,
    "start_time": "2021-10-25T10:54:23.905Z"
   },
   {
    "duration": 828,
    "start_time": "2021-10-25T10:54:30.173Z"
   },
   {
    "duration": 141,
    "start_time": "2021-10-25T10:54:31.004Z"
   },
   {
    "duration": 25,
    "start_time": "2021-10-25T10:54:31.148Z"
   },
   {
    "duration": 78,
    "start_time": "2021-10-25T10:54:31.176Z"
   },
   {
    "duration": 79,
    "start_time": "2021-10-25T10:54:31.256Z"
   },
   {
    "duration": 6,
    "start_time": "2021-10-25T10:54:31.337Z"
   },
   {
    "duration": 26,
    "start_time": "2021-10-25T10:54:35.609Z"
   },
   {
    "duration": 270,
    "start_time": "2021-10-25T10:58:49.062Z"
   },
   {
    "duration": 10,
    "start_time": "2021-10-25T10:59:24.051Z"
   },
   {
    "duration": 20,
    "start_time": "2021-10-25T10:59:27.018Z"
   },
   {
    "duration": 47,
    "start_time": "2021-10-25T10:59:28.714Z"
   },
   {
    "duration": 77,
    "start_time": "2021-10-25T10:59:32.143Z"
   },
   {
    "duration": 3,
    "start_time": "2021-10-25T10:59:35.163Z"
   },
   {
    "duration": 29,
    "start_time": "2021-10-25T10:59:43.473Z"
   },
   {
    "duration": 5121,
    "start_time": "2021-10-25T11:01:10.485Z"
   },
   {
    "duration": 27,
    "start_time": "2021-10-25T11:01:18.694Z"
   },
   {
    "duration": 46,
    "start_time": "2021-10-25T11:01:31.999Z"
   },
   {
    "duration": 52,
    "start_time": "2021-10-25T11:05:23.686Z"
   },
   {
    "duration": 69,
    "start_time": "2021-10-25T11:06:57.003Z"
   },
   {
    "duration": 45,
    "start_time": "2021-10-25T11:07:13.688Z"
   },
   {
    "duration": 23,
    "start_time": "2021-10-25T11:07:42.431Z"
   },
   {
    "duration": 22,
    "start_time": "2021-10-25T11:07:59.758Z"
   },
   {
    "duration": 18,
    "start_time": "2021-10-25T11:08:49.998Z"
   },
   {
    "duration": 36,
    "start_time": "2021-10-25T11:09:03.130Z"
   },
   {
    "duration": 43,
    "start_time": "2021-10-25T11:09:48.052Z"
   },
   {
    "duration": 18,
    "start_time": "2021-10-25T11:12:24.148Z"
   },
   {
    "duration": 16,
    "start_time": "2021-10-25T11:13:16.413Z"
   },
   {
    "duration": 20,
    "start_time": "2021-10-25T11:13:30.574Z"
   },
   {
    "duration": 16,
    "start_time": "2021-10-25T11:13:51.774Z"
   },
   {
    "duration": 17,
    "start_time": "2021-10-25T11:14:32.672Z"
   },
   {
    "duration": 14,
    "start_time": "2021-10-25T11:15:03.125Z"
   },
   {
    "duration": 29,
    "start_time": "2021-10-25T11:16:18.554Z"
   },
   {
    "duration": 283,
    "start_time": "2021-10-25T11:16:48.217Z"
   },
   {
    "duration": 268,
    "start_time": "2021-10-25T11:17:02.479Z"
   },
   {
    "duration": 52,
    "start_time": "2021-10-25T11:17:11.561Z"
   },
   {
    "duration": 234,
    "start_time": "2021-10-25T11:18:07.091Z"
   },
   {
    "duration": 288,
    "start_time": "2021-10-25T11:19:04.923Z"
   },
   {
    "duration": 251,
    "start_time": "2021-10-25T11:20:02.083Z"
   },
   {
    "duration": 234,
    "start_time": "2021-10-25T11:20:18.647Z"
   },
   {
    "duration": 5,
    "start_time": "2021-10-25T11:21:08.406Z"
   },
   {
    "duration": 146,
    "start_time": "2021-10-25T11:21:08.414Z"
   },
   {
    "duration": 19,
    "start_time": "2021-10-25T11:21:08.565Z"
   },
   {
    "duration": 72,
    "start_time": "2021-10-25T11:21:08.587Z"
   },
   {
    "duration": 80,
    "start_time": "2021-10-25T11:21:08.661Z"
   },
   {
    "duration": 5,
    "start_time": "2021-10-25T11:21:08.744Z"
   },
   {
    "duration": 5,
    "start_time": "2021-10-25T11:21:08.751Z"
   },
   {
    "duration": 15,
    "start_time": "2021-10-25T11:21:08.759Z"
   },
   {
    "duration": 20,
    "start_time": "2021-10-25T11:21:08.778Z"
   },
   {
    "duration": 70,
    "start_time": "2021-10-25T11:21:08.801Z"
   },
   {
    "duration": 3,
    "start_time": "2021-10-25T11:21:08.874Z"
   },
   {
    "duration": 57,
    "start_time": "2021-10-25T11:21:08.879Z"
   },
   {
    "duration": 20,
    "start_time": "2021-10-25T11:21:08.938Z"
   },
   {
    "duration": 37,
    "start_time": "2021-10-25T11:21:13.820Z"
   },
   {
    "duration": 54,
    "start_time": "2021-10-25T11:21:26.969Z"
   },
   {
    "duration": 41,
    "start_time": "2021-10-25T11:22:22.166Z"
   },
   {
    "duration": 35,
    "start_time": "2021-10-25T11:22:45.301Z"
   },
   {
    "duration": 4,
    "start_time": "2021-10-25T11:23:11.459Z"
   },
   {
    "duration": 149,
    "start_time": "2021-10-25T11:23:11.465Z"
   },
   {
    "duration": 29,
    "start_time": "2021-10-25T11:23:11.616Z"
   },
   {
    "duration": 60,
    "start_time": "2021-10-25T11:23:11.648Z"
   },
   {
    "duration": 66,
    "start_time": "2021-10-25T11:23:11.711Z"
   },
   {
    "duration": 6,
    "start_time": "2021-10-25T11:23:11.779Z"
   },
   {
    "duration": 10,
    "start_time": "2021-10-25T11:23:11.788Z"
   },
   {
    "duration": 45,
    "start_time": "2021-10-25T11:23:11.801Z"
   },
   {
    "duration": 19,
    "start_time": "2021-10-25T11:23:11.848Z"
   },
   {
    "duration": 62,
    "start_time": "2021-10-25T11:23:11.869Z"
   },
   {
    "duration": 3,
    "start_time": "2021-10-25T11:23:11.933Z"
   },
   {
    "duration": 32,
    "start_time": "2021-10-25T11:23:11.939Z"
   },
   {
    "duration": 20,
    "start_time": "2021-10-25T11:23:11.974Z"
   },
   {
    "duration": 37,
    "start_time": "2021-10-25T11:23:15.730Z"
   },
   {
    "duration": 39,
    "start_time": "2021-10-25T11:23:24.415Z"
   },
   {
    "duration": 50,
    "start_time": "2021-10-25T11:23:33.056Z"
   },
   {
    "duration": 33,
    "start_time": "2021-10-25T11:23:50.178Z"
   },
   {
    "duration": 237,
    "start_time": "2021-10-25T11:23:52.416Z"
   },
   {
    "duration": 2229,
    "start_time": "2021-10-25T11:24:07.115Z"
   },
   {
    "duration": 1261,
    "start_time": "2021-10-25T11:24:22.550Z"
   },
   {
    "duration": 438,
    "start_time": "2021-10-25T11:25:34.149Z"
   },
   {
    "duration": 19,
    "start_time": "2021-10-25T11:26:30.506Z"
   },
   {
    "duration": 2056,
    "start_time": "2021-10-25T11:27:50.047Z"
   },
   {
    "duration": 390,
    "start_time": "2021-10-25T11:27:59.157Z"
   },
   {
    "duration": 32,
    "start_time": "2021-10-25T11:28:11.430Z"
   },
   {
    "duration": 70,
    "start_time": "2021-10-25T11:28:13.822Z"
   },
   {
    "duration": 5,
    "start_time": "2021-10-25T11:28:16.173Z"
   },
   {
    "duration": 343,
    "start_time": "2021-10-25T11:28:17.914Z"
   },
   {
    "duration": 12,
    "start_time": "2021-10-25T11:28:24.679Z"
   },
   {
    "duration": 2352,
    "start_time": "2021-10-25T11:28:42.878Z"
   },
   {
    "duration": 219,
    "start_time": "2021-10-25T11:40:25.020Z"
   },
   {
    "duration": 248,
    "start_time": "2021-10-25T11:40:51.080Z"
   },
   {
    "duration": 222,
    "start_time": "2021-10-25T11:41:12.330Z"
   },
   {
    "duration": 272,
    "start_time": "2021-10-25T11:41:19.504Z"
   },
   {
    "duration": 258,
    "start_time": "2021-10-25T11:41:28.488Z"
   },
   {
    "duration": 233,
    "start_time": "2021-10-25T11:41:40.060Z"
   },
   {
    "duration": 218,
    "start_time": "2021-10-25T11:41:57.778Z"
   },
   {
    "duration": 291,
    "start_time": "2021-10-25T11:42:20.463Z"
   },
   {
    "duration": 451,
    "start_time": "2021-10-25T11:42:29.969Z"
   },
   {
    "duration": 510,
    "start_time": "2021-10-25T11:42:38.168Z"
   },
   {
    "duration": 1968,
    "start_time": "2021-10-25T11:42:42.025Z"
   },
   {
    "duration": 1772,
    "start_time": "2021-10-25T11:42:57.603Z"
   },
   {
    "duration": 452,
    "start_time": "2021-10-25T11:43:19.012Z"
   },
   {
    "duration": 19,
    "start_time": "2021-10-25T11:43:23.191Z"
   },
   {
    "duration": 1894,
    "start_time": "2021-10-25T11:43:26.515Z"
   },
   {
    "duration": 2029,
    "start_time": "2021-10-25T11:46:08.464Z"
   },
   {
    "duration": 1993,
    "start_time": "2021-10-25T11:46:19.754Z"
   },
   {
    "duration": 8,
    "start_time": "2021-10-25T11:46:50.055Z"
   },
   {
    "duration": 389,
    "start_time": "2021-10-25T11:47:07.108Z"
   },
   {
    "duration": 73,
    "start_time": "2021-10-25T11:47:14.655Z"
   },
   {
    "duration": 6,
    "start_time": "2021-10-25T11:47:19.985Z"
   },
   {
    "duration": 419,
    "start_time": "2021-10-25T11:47:21.819Z"
   },
   {
    "duration": 33,
    "start_time": "2021-10-25T11:47:31.948Z"
   },
   {
    "duration": 335,
    "start_time": "2021-10-25T11:47:35.645Z"
   },
   {
    "duration": 11,
    "start_time": "2021-10-25T11:47:39.491Z"
   },
   {
    "duration": 11,
    "start_time": "2021-10-25T11:48:16.837Z"
   },
   {
    "duration": 2450,
    "start_time": "2021-10-25T11:48:18.665Z"
   },
   {
    "duration": 2436,
    "start_time": "2021-10-25T11:48:54.717Z"
   },
   {
    "duration": 590,
    "start_time": "2021-10-26T06:57:59.427Z"
   },
   {
    "duration": 102,
    "start_time": "2021-10-26T06:58:00.018Z"
   },
   {
    "duration": 15,
    "start_time": "2021-10-26T06:58:00.122Z"
   },
   {
    "duration": 35,
    "start_time": "2021-10-26T06:58:00.139Z"
   },
   {
    "duration": 41,
    "start_time": "2021-10-26T06:58:00.192Z"
   },
   {
    "duration": 5,
    "start_time": "2021-10-26T06:58:00.235Z"
   },
   {
    "duration": 4,
    "start_time": "2021-10-26T06:58:00.241Z"
   },
   {
    "duration": 9,
    "start_time": "2021-10-26T06:58:00.248Z"
   },
   {
    "duration": 42,
    "start_time": "2021-10-26T06:58:00.259Z"
   },
   {
    "duration": 27,
    "start_time": "2021-10-26T06:58:00.303Z"
   },
   {
    "duration": 2,
    "start_time": "2021-10-26T06:58:00.332Z"
   },
   {
    "duration": 26,
    "start_time": "2021-10-26T06:58:00.336Z"
   },
   {
    "duration": 34,
    "start_time": "2021-10-26T06:58:00.363Z"
   },
   {
    "duration": 18,
    "start_time": "2021-10-26T06:58:00.399Z"
   },
   {
    "duration": 18,
    "start_time": "2021-10-26T06:58:00.419Z"
   },
   {
    "duration": 179,
    "start_time": "2021-10-26T06:58:00.439Z"
   },
   {
    "duration": 1369,
    "start_time": "2021-10-26T06:58:00.620Z"
   },
   {
    "duration": 752,
    "start_time": "2021-10-26T06:58:01.991Z"
   },
   {
    "duration": 302,
    "start_time": "2021-10-26T06:58:02.745Z"
   },
   {
    "duration": 1129,
    "start_time": "2021-10-26T06:58:03.049Z"
   },
   {
    "duration": 235,
    "start_time": "2021-10-26T06:58:04.179Z"
   },
   {
    "duration": 19,
    "start_time": "2021-10-26T06:58:04.416Z"
   },
   {
    "duration": 59,
    "start_time": "2021-10-26T06:58:04.437Z"
   },
   {
    "duration": 4,
    "start_time": "2021-10-26T06:58:04.497Z"
   },
   {
    "duration": 208,
    "start_time": "2021-10-26T06:58:04.502Z"
   },
   {
    "duration": 6,
    "start_time": "2021-10-26T06:58:04.711Z"
   },
   {
    "duration": 1615,
    "start_time": "2021-10-26T06:58:04.719Z"
   },
   {
    "duration": 1586,
    "start_time": "2021-10-26T06:58:06.335Z"
   },
   {
    "duration": 234,
    "start_time": "2021-10-26T07:34:39.319Z"
   },
   {
    "duration": 17,
    "start_time": "2021-10-26T07:34:41.743Z"
   },
   {
    "duration": 7,
    "start_time": "2021-10-26T07:34:59.742Z"
   },
   {
    "duration": 63,
    "start_time": "2021-10-26T07:35:19.665Z"
   },
   {
    "duration": 27,
    "start_time": "2021-10-26T07:35:22.273Z"
   },
   {
    "duration": 180,
    "start_time": "2021-10-26T07:36:06.143Z"
   },
   {
    "duration": 18,
    "start_time": "2021-10-26T07:36:11.037Z"
   },
   {
    "duration": 637,
    "start_time": "2021-10-26T07:36:42.162Z"
   },
   {
    "duration": 94,
    "start_time": "2021-10-26T07:36:42.800Z"
   },
   {
    "duration": 15,
    "start_time": "2021-10-26T07:36:42.896Z"
   },
   {
    "duration": 38,
    "start_time": "2021-10-26T07:36:42.913Z"
   },
   {
    "duration": 60,
    "start_time": "2021-10-26T07:36:42.953Z"
   },
   {
    "duration": 5,
    "start_time": "2021-10-26T07:36:43.014Z"
   },
   {
    "duration": 3,
    "start_time": "2021-10-26T07:36:43.021Z"
   },
   {
    "duration": 7,
    "start_time": "2021-10-26T07:36:43.027Z"
   },
   {
    "duration": 14,
    "start_time": "2021-10-26T07:36:43.036Z"
   },
   {
    "duration": 59,
    "start_time": "2021-10-26T07:36:43.051Z"
   },
   {
    "duration": 2,
    "start_time": "2021-10-26T07:36:43.112Z"
   },
   {
    "duration": 20,
    "start_time": "2021-10-26T07:36:43.116Z"
   },
   {
    "duration": 16,
    "start_time": "2021-10-26T07:36:43.138Z"
   },
   {
    "duration": 42,
    "start_time": "2021-10-26T07:36:43.155Z"
   },
   {
    "duration": 16,
    "start_time": "2021-10-26T07:36:43.199Z"
   },
   {
    "duration": 20,
    "start_time": "2021-10-26T07:36:43.216Z"
   },
   {
    "duration": 171,
    "start_time": "2021-10-26T07:36:43.238Z"
   },
   {
    "duration": 1306,
    "start_time": "2021-10-26T07:36:43.411Z"
   },
   {
    "duration": 731,
    "start_time": "2021-10-26T07:36:44.718Z"
   },
   {
    "duration": 301,
    "start_time": "2021-10-26T07:36:45.451Z"
   },
   {
    "duration": 1120,
    "start_time": "2021-10-26T07:36:45.753Z"
   },
   {
    "duration": 241,
    "start_time": "2021-10-26T07:36:46.875Z"
   },
   {
    "duration": 24,
    "start_time": "2021-10-26T07:36:47.119Z"
   },
   {
    "duration": 60,
    "start_time": "2021-10-26T07:36:47.145Z"
   },
   {
    "duration": 4,
    "start_time": "2021-10-26T07:36:47.206Z"
   },
   {
    "duration": 209,
    "start_time": "2021-10-26T07:36:47.211Z"
   },
   {
    "duration": 7,
    "start_time": "2021-10-26T07:36:47.422Z"
   },
   {
    "duration": 1595,
    "start_time": "2021-10-26T07:36:47.430Z"
   },
   {
    "duration": 1622,
    "start_time": "2021-10-26T07:36:49.027Z"
   },
   {
    "duration": 3,
    "start_time": "2021-10-26T07:43:14.653Z"
   },
   {
    "duration": 103,
    "start_time": "2021-10-26T07:43:14.658Z"
   },
   {
    "duration": 13,
    "start_time": "2021-10-26T07:43:14.763Z"
   },
   {
    "duration": 34,
    "start_time": "2021-10-26T07:43:14.791Z"
   },
   {
    "duration": 35,
    "start_time": "2021-10-26T07:43:14.827Z"
   },
   {
    "duration": 3,
    "start_time": "2021-10-26T07:43:14.864Z"
   },
   {
    "duration": 22,
    "start_time": "2021-10-26T07:43:14.870Z"
   },
   {
    "duration": 8,
    "start_time": "2021-10-26T07:43:14.894Z"
   },
   {
    "duration": 11,
    "start_time": "2021-10-26T07:43:14.903Z"
   },
   {
    "duration": 25,
    "start_time": "2021-10-26T07:43:14.916Z"
   },
   {
    "duration": 2,
    "start_time": "2021-10-26T07:43:14.943Z"
   },
   {
    "duration": 45,
    "start_time": "2021-10-26T07:43:14.946Z"
   },
   {
    "duration": 14,
    "start_time": "2021-10-26T07:43:14.993Z"
   },
   {
    "duration": 14,
    "start_time": "2021-10-26T07:43:15.009Z"
   },
   {
    "duration": 21,
    "start_time": "2021-10-26T07:43:15.024Z"
   },
   {
    "duration": 167,
    "start_time": "2021-10-26T07:43:15.047Z"
   },
   {
    "duration": 1300,
    "start_time": "2021-10-26T07:43:15.216Z"
   },
   {
    "duration": 839,
    "start_time": "2021-10-26T07:43:16.517Z"
   },
   {
    "duration": 234,
    "start_time": "2021-10-26T07:43:22.193Z"
   },
   {
    "duration": 230,
    "start_time": "2021-10-26T07:55:49.094Z"
   },
   {
    "duration": 308,
    "start_time": "2021-10-26T07:59:02.740Z"
   },
   {
    "duration": 1092,
    "start_time": "2021-10-26T07:59:08.726Z"
   },
   {
    "duration": 312,
    "start_time": "2021-10-26T09:23:59.782Z"
   },
   {
    "duration": 24,
    "start_time": "2021-10-26T09:30:30.023Z"
   },
   {
    "duration": 46,
    "start_time": "2021-10-26T09:30:31.533Z"
   },
   {
    "duration": 4,
    "start_time": "2021-10-26T09:30:34.152Z"
   },
   {
    "duration": 206,
    "start_time": "2021-10-26T09:30:36.187Z"
   },
   {
    "duration": 8,
    "start_time": "2021-10-26T09:31:25.361Z"
   },
   {
    "duration": 1622,
    "start_time": "2021-10-26T09:31:34.592Z"
   },
   {
    "duration": 1612,
    "start_time": "2021-10-26T10:07:24.046Z"
   },
   {
    "duration": 625,
    "start_time": "2021-10-26T11:18:05.885Z"
   },
   {
    "duration": 94,
    "start_time": "2021-10-26T11:18:06.512Z"
   },
   {
    "duration": 16,
    "start_time": "2021-10-26T11:18:06.607Z"
   },
   {
    "duration": 36,
    "start_time": "2021-10-26T11:18:06.624Z"
   },
   {
    "duration": 48,
    "start_time": "2021-10-26T11:18:06.662Z"
   },
   {
    "duration": 4,
    "start_time": "2021-10-26T11:18:06.711Z"
   },
   {
    "duration": 3,
    "start_time": "2021-10-26T11:18:06.717Z"
   },
   {
    "duration": 10,
    "start_time": "2021-10-26T11:18:06.723Z"
   },
   {
    "duration": 13,
    "start_time": "2021-10-26T11:18:06.735Z"
   },
   {
    "duration": 55,
    "start_time": "2021-10-26T11:18:06.750Z"
   },
   {
    "duration": 2,
    "start_time": "2021-10-26T11:18:06.807Z"
   },
   {
    "duration": 26,
    "start_time": "2021-10-26T11:18:06.811Z"
   },
   {
    "duration": 16,
    "start_time": "2021-10-26T11:18:06.839Z"
   },
   {
    "duration": 36,
    "start_time": "2021-10-26T11:18:06.857Z"
   },
   {
    "duration": 19,
    "start_time": "2021-10-26T11:18:06.894Z"
   },
   {
    "duration": 167,
    "start_time": "2021-10-26T11:18:06.915Z"
   },
   {
    "duration": 1329,
    "start_time": "2021-10-26T11:18:07.083Z"
   },
   {
    "duration": 757,
    "start_time": "2021-10-26T11:18:08.414Z"
   },
   {
    "duration": 315,
    "start_time": "2021-10-26T11:18:09.174Z"
   },
   {
    "duration": 1155,
    "start_time": "2021-10-26T11:18:09.492Z"
   },
   {
    "duration": 236,
    "start_time": "2021-10-26T11:18:10.648Z"
   },
   {
    "duration": 24,
    "start_time": "2021-10-26T11:18:10.886Z"
   },
   {
    "duration": 42,
    "start_time": "2021-10-26T11:18:10.913Z"
   },
   {
    "duration": 3,
    "start_time": "2021-10-26T11:18:10.957Z"
   },
   {
    "duration": 218,
    "start_time": "2021-10-26T11:18:10.962Z"
   },
   {
    "duration": 14,
    "start_time": "2021-10-26T11:18:11.182Z"
   },
   {
    "duration": 1638,
    "start_time": "2021-10-26T11:18:11.198Z"
   },
   {
    "duration": 1597,
    "start_time": "2021-10-26T11:18:12.837Z"
   },
   {
    "duration": 54,
    "start_time": "2021-10-26T11:23:43.438Z"
   },
   {
    "duration": 27,
    "start_time": "2021-10-26T11:27:26.149Z"
   },
   {
    "duration": 17,
    "start_time": "2021-10-26T11:30:22.520Z"
   },
   {
    "duration": 616,
    "start_time": "2021-10-26T11:37:29.513Z"
   },
   {
    "duration": 95,
    "start_time": "2021-10-26T11:37:30.130Z"
   },
   {
    "duration": 16,
    "start_time": "2021-10-26T11:37:30.227Z"
   },
   {
    "duration": 47,
    "start_time": "2021-10-26T11:37:30.245Z"
   },
   {
    "duration": 38,
    "start_time": "2021-10-26T11:37:30.294Z"
   },
   {
    "duration": 4,
    "start_time": "2021-10-26T11:37:30.334Z"
   },
   {
    "duration": 16,
    "start_time": "2021-10-26T11:37:30.339Z"
   },
   {
    "duration": 35,
    "start_time": "2021-10-26T11:37:30.358Z"
   },
   {
    "duration": 28,
    "start_time": "2021-10-26T11:37:30.395Z"
   },
   {
    "duration": 27,
    "start_time": "2021-10-26T11:37:30.424Z"
   },
   {
    "duration": 16,
    "start_time": "2021-10-26T11:37:30.453Z"
   },
   {
    "duration": 33,
    "start_time": "2021-10-26T11:37:30.471Z"
   },
   {
    "duration": 18,
    "start_time": "2021-10-26T11:37:30.505Z"
   },
   {
    "duration": 173,
    "start_time": "2021-10-26T11:37:30.525Z"
   },
   {
    "duration": 1359,
    "start_time": "2021-10-26T11:37:30.700Z"
   },
   {
    "duration": 749,
    "start_time": "2021-10-26T11:37:32.061Z"
   },
   {
    "duration": 314,
    "start_time": "2021-10-26T11:37:32.812Z"
   },
   {
    "duration": 1137,
    "start_time": "2021-10-26T11:37:33.128Z"
   },
   {
    "duration": 240,
    "start_time": "2021-10-26T11:37:34.266Z"
   },
   {
    "duration": 20,
    "start_time": "2021-10-26T11:37:34.508Z"
   },
   {
    "duration": 43,
    "start_time": "2021-10-26T11:37:34.529Z"
   },
   {
    "duration": 19,
    "start_time": "2021-10-26T11:37:34.573Z"
   },
   {
    "duration": 209,
    "start_time": "2021-10-26T11:37:34.595Z"
   },
   {
    "duration": 7,
    "start_time": "2021-10-26T11:37:34.806Z"
   },
   {
    "duration": 1622,
    "start_time": "2021-10-26T11:37:34.814Z"
   },
   {
    "duration": 1590,
    "start_time": "2021-10-26T11:37:36.437Z"
   },
   {
    "duration": 902,
    "start_time": "2021-10-26T20:07:30.237Z"
   },
   {
    "duration": 133,
    "start_time": "2021-10-26T20:07:31.142Z"
   },
   {
    "duration": 24,
    "start_time": "2021-10-26T20:07:31.278Z"
   },
   {
    "duration": 79,
    "start_time": "2021-10-26T20:07:31.305Z"
   },
   {
    "duration": 82,
    "start_time": "2021-10-26T20:07:31.386Z"
   },
   {
    "duration": 6,
    "start_time": "2021-10-26T20:07:31.471Z"
   },
   {
    "duration": 17,
    "start_time": "2021-10-26T20:07:31.480Z"
   },
   {
    "duration": 22,
    "start_time": "2021-10-26T20:07:31.500Z"
   },
   {
    "duration": 71,
    "start_time": "2021-10-26T20:07:31.525Z"
   },
   {
    "duration": 31,
    "start_time": "2021-10-26T20:07:31.598Z"
   },
   {
    "duration": 43,
    "start_time": "2021-10-26T20:07:31.632Z"
   },
   {
    "duration": 24,
    "start_time": "2021-10-26T20:07:31.677Z"
   },
   {
    "duration": 31,
    "start_time": "2021-10-26T20:07:31.703Z"
   },
   {
    "duration": 261,
    "start_time": "2021-10-26T20:07:31.736Z"
   },
   {
    "duration": 2263,
    "start_time": "2021-10-26T20:07:31.999Z"
   },
   {
    "duration": 1251,
    "start_time": "2021-10-26T20:07:34.268Z"
   },
   {
    "duration": 473,
    "start_time": "2021-10-26T20:07:35.522Z"
   },
   {
    "duration": 1898,
    "start_time": "2021-10-26T20:07:35.998Z"
   },
   {
    "duration": 405,
    "start_time": "2021-10-26T20:07:37.899Z"
   },
   {
    "duration": 34,
    "start_time": "2021-10-26T20:07:38.307Z"
   },
   {
    "duration": 87,
    "start_time": "2021-10-26T20:07:38.344Z"
   },
   {
    "duration": 5,
    "start_time": "2021-10-26T20:07:38.434Z"
   },
   {
    "duration": 367,
    "start_time": "2021-10-26T20:07:38.443Z"
   },
   {
    "duration": 10,
    "start_time": "2021-10-26T20:07:38.813Z"
   },
   {
    "duration": 2479,
    "start_time": "2021-10-26T20:07:38.826Z"
   },
   {
    "duration": 2561,
    "start_time": "2021-10-26T20:07:41.308Z"
   },
   {
    "duration": 723,
    "start_time": "2021-10-27T09:07:37.796Z"
   },
   {
    "duration": 101,
    "start_time": "2021-10-27T09:07:38.521Z"
   },
   {
    "duration": 21,
    "start_time": "2021-10-27T09:07:38.624Z"
   },
   {
    "duration": 40,
    "start_time": "2021-10-27T09:07:38.647Z"
   },
   {
    "duration": 71,
    "start_time": "2021-10-27T09:07:38.689Z"
   },
   {
    "duration": 5,
    "start_time": "2021-10-27T09:07:38.761Z"
   },
   {
    "duration": 26,
    "start_time": "2021-10-27T09:07:56.204Z"
   },
   {
    "duration": 365,
    "start_time": "2021-10-27T12:59:44.997Z"
   },
   {
    "duration": 3,
    "start_time": "2021-10-27T12:59:49.644Z"
   },
   {
    "duration": 105,
    "start_time": "2021-10-27T12:59:49.649Z"
   },
   {
    "duration": 15,
    "start_time": "2021-10-27T12:59:49.756Z"
   },
   {
    "duration": 292,
    "start_time": "2021-10-27T12:59:58.679Z"
   },
   {
    "duration": 93,
    "start_time": "2021-10-27T13:00:21.782Z"
   },
   {
    "duration": 97,
    "start_time": "2021-10-27T13:00:26.100Z"
   },
   {
    "duration": 28,
    "start_time": "2021-10-27T13:29:14.427Z"
   },
   {
    "duration": 27,
    "start_time": "2021-10-27T13:29:22.790Z"
   },
   {
    "duration": 23,
    "start_time": "2021-10-27T13:30:03.190Z"
   },
   {
    "duration": 29,
    "start_time": "2021-10-27T13:31:06.249Z"
   },
   {
    "duration": 30,
    "start_time": "2021-10-27T13:31:38.542Z"
   },
   {
    "duration": 417,
    "start_time": "2021-10-28T06:42:24.281Z"
   },
   {
    "duration": 788,
    "start_time": "2021-10-28T06:42:30.140Z"
   },
   {
    "duration": 107,
    "start_time": "2021-10-28T06:42:30.930Z"
   },
   {
    "duration": 16,
    "start_time": "2021-10-28T06:42:31.040Z"
   },
   {
    "duration": 106,
    "start_time": "2021-10-28T06:42:31.058Z"
   },
   {
    "duration": 55,
    "start_time": "2021-10-28T06:42:31.166Z"
   },
   {
    "duration": 58,
    "start_time": "2021-10-28T06:42:31.223Z"
   },
   {
    "duration": 17,
    "start_time": "2021-10-28T06:42:34.069Z"
   },
   {
    "duration": 9,
    "start_time": "2021-10-28T06:45:56.982Z"
   },
   {
    "duration": 14,
    "start_time": "2021-10-28T06:46:18.595Z"
   },
   {
    "duration": 371,
    "start_time": "2021-10-28T06:47:52.379Z"
   },
   {
    "duration": 40,
    "start_time": "2021-10-28T06:47:57.126Z"
   },
   {
    "duration": 14,
    "start_time": "2021-10-28T06:53:51.777Z"
   },
   {
    "duration": 21,
    "start_time": "2021-10-28T06:55:36.689Z"
   },
   {
    "duration": 6,
    "start_time": "2021-10-28T07:02:01.263Z"
   },
   {
    "duration": 47,
    "start_time": "2021-10-28T07:02:10.043Z"
   },
   {
    "duration": 43,
    "start_time": "2021-10-28T07:03:06.319Z"
   },
   {
    "duration": 26,
    "start_time": "2021-10-28T07:03:11.571Z"
   },
   {
    "duration": 392,
    "start_time": "2021-10-28T07:03:55.925Z"
   },
   {
    "duration": 574,
    "start_time": "2021-10-28T07:04:06.842Z"
   },
   {
    "duration": 24,
    "start_time": "2021-10-28T07:04:37.545Z"
   },
   {
    "duration": 413,
    "start_time": "2021-10-28T07:05:13.575Z"
   },
   {
    "duration": 3521,
    "start_time": "2021-10-28T07:07:12.211Z"
   },
   {
    "duration": 3126,
    "start_time": "2021-10-28T07:08:06.371Z"
   },
   {
    "duration": 22674,
    "start_time": "2021-10-28T07:08:52.700Z"
   },
   {
    "duration": 113,
    "start_time": "2021-10-28T07:10:37.978Z"
   },
   {
    "duration": 357,
    "start_time": "2021-10-28T07:10:46.461Z"
   },
   {
    "duration": 420,
    "start_time": "2021-10-28T07:11:17.743Z"
   },
   {
    "duration": 364,
    "start_time": "2021-10-28T07:11:41.604Z"
   },
   {
    "duration": 1454,
    "start_time": "2021-10-28T07:12:00.377Z"
   },
   {
    "duration": 574,
    "start_time": "2021-10-28T07:12:08.672Z"
   },
   {
    "duration": 283,
    "start_time": "2021-10-28T07:13:47.891Z"
   },
   {
    "duration": 291,
    "start_time": "2021-10-28T07:14:10.189Z"
   },
   {
    "duration": 360,
    "start_time": "2021-10-28T07:15:27.185Z"
   },
   {
    "duration": 118,
    "start_time": "2021-10-28T07:15:32.271Z"
   },
   {
    "duration": 298,
    "start_time": "2021-10-28T07:15:36.838Z"
   },
   {
    "duration": 383,
    "start_time": "2021-10-28T07:16:55.342Z"
   },
   {
    "duration": 449,
    "start_time": "2021-10-28T07:17:17.285Z"
   },
   {
    "duration": 1933,
    "start_time": "2021-10-28T07:17:31.873Z"
   },
   {
    "duration": 352,
    "start_time": "2021-10-28T07:23:27.952Z"
   },
   {
    "duration": 623,
    "start_time": "2021-10-28T07:23:45.705Z"
   },
   {
    "duration": 26,
    "start_time": "2021-10-28T07:32:32.149Z"
   },
   {
    "duration": 37,
    "start_time": "2021-10-28T07:34:03.871Z"
   },
   {
    "duration": 3,
    "start_time": "2021-10-28T08:14:33.918Z"
   },
   {
    "duration": 106,
    "start_time": "2021-10-28T08:14:33.923Z"
   },
   {
    "duration": 13,
    "start_time": "2021-10-28T08:14:34.032Z"
   },
   {
    "duration": 102,
    "start_time": "2021-10-28T08:14:34.047Z"
   },
   {
    "duration": 51,
    "start_time": "2021-10-28T08:14:34.151Z"
   },
   {
    "duration": 24,
    "start_time": "2021-10-28T08:14:34.204Z"
   },
   {
    "duration": 4,
    "start_time": "2021-10-28T08:14:34.230Z"
   },
   {
    "duration": 10,
    "start_time": "2021-10-28T08:14:34.236Z"
   },
   {
    "duration": 624,
    "start_time": "2021-10-28T08:14:34.277Z"
   },
   {
    "duration": 6,
    "start_time": "2021-10-28T08:14:34.903Z"
   },
   {
    "duration": 13,
    "start_time": "2021-10-28T08:14:34.911Z"
   },
   {
    "duration": 31,
    "start_time": "2021-10-28T08:14:34.926Z"
   },
   {
    "duration": 31,
    "start_time": "2021-10-28T08:15:54.018Z"
   },
   {
    "duration": 22,
    "start_time": "2021-10-28T08:16:14.447Z"
   },
   {
    "duration": 51,
    "start_time": "2021-10-28T08:16:21.984Z"
   },
   {
    "duration": -240,
    "start_time": "2021-10-28T08:19:59.107Z"
   },
   {
    "duration": 695,
    "start_time": "2021-10-28T08:20:38.040Z"
   },
   {
    "duration": 9109,
    "start_time": "2021-10-28T08:20:45.725Z"
   },
   {
    "duration": 59,
    "start_time": "2021-10-28T08:21:07.687Z"
   },
   {
    "duration": 1095,
    "start_time": "2021-10-28T08:22:14.172Z"
   },
   {
    "duration": 103,
    "start_time": "2021-10-28T08:22:15.269Z"
   },
   {
    "duration": 18,
    "start_time": "2021-10-28T08:22:15.375Z"
   },
   {
    "duration": 106,
    "start_time": "2021-10-28T08:22:15.395Z"
   },
   {
    "duration": 42,
    "start_time": "2021-10-28T08:22:15.504Z"
   },
   {
    "duration": 50,
    "start_time": "2021-10-28T08:22:15.548Z"
   },
   {
    "duration": 5,
    "start_time": "2021-10-28T08:22:15.600Z"
   },
   {
    "duration": 11,
    "start_time": "2021-10-28T08:22:15.608Z"
   },
   {
    "duration": 589,
    "start_time": "2021-10-28T08:22:15.621Z"
   },
   {
    "duration": 8,
    "start_time": "2021-10-28T08:22:16.211Z"
   },
   {
    "duration": 15,
    "start_time": "2021-10-28T08:22:16.221Z"
   },
   {
    "duration": 53,
    "start_time": "2021-10-28T08:22:16.238Z"
   },
   {
    "duration": 52,
    "start_time": "2021-10-28T08:22:16.292Z"
   },
   {
    "duration": 6,
    "start_time": "2021-10-28T08:22:18.549Z"
   },
   {
    "duration": 99,
    "start_time": "2021-10-28T08:22:20.927Z"
   },
   {
    "duration": 21,
    "start_time": "2021-10-28T08:23:33.943Z"
   },
   {
    "duration": 116,
    "start_time": "2021-10-28T08:23:46.309Z"
   },
   {
    "duration": 24,
    "start_time": "2021-10-28T08:28:04.140Z"
   },
   {
    "duration": 117,
    "start_time": "2021-10-28T08:30:08.811Z"
   },
   {
    "duration": 1287,
    "start_time": "2021-10-28T08:30:19.031Z"
   },
   {
    "duration": 1282,
    "start_time": "2021-10-28T08:31:36.765Z"
   },
   {
    "duration": 1156,
    "start_time": "2021-10-28T08:33:11.435Z"
   },
   {
    "duration": 9818,
    "start_time": "2021-10-28T08:35:43.125Z"
   },
   {
    "duration": 165,
    "start_time": "2021-10-28T08:36:44.477Z"
   },
   {
    "duration": 161,
    "start_time": "2021-10-28T08:36:59.823Z"
   },
   {
    "duration": 248,
    "start_time": "2021-10-28T08:40:02.006Z"
   },
   {
    "duration": 1137,
    "start_time": "2021-10-28T08:44:44.229Z"
   },
   {
    "duration": 294,
    "start_time": "2021-10-28T08:45:28.830Z"
   },
   {
    "duration": 358,
    "start_time": "2021-10-28T08:57:55.128Z"
   },
   {
    "duration": 653,
    "start_time": "2021-10-28T08:58:00.652Z"
   },
   {
    "duration": 15,
    "start_time": "2021-10-28T08:58:08.893Z"
   },
   {
    "duration": 5,
    "start_time": "2021-10-28T09:08:33.173Z"
   },
   {
    "duration": 370,
    "start_time": "2021-10-28T09:08:38.510Z"
   },
   {
    "duration": 13,
    "start_time": "2021-10-28T09:08:56.406Z"
   },
   {
    "duration": 29,
    "start_time": "2021-10-28T09:09:58.405Z"
   },
   {
    "duration": 1653,
    "start_time": "2021-10-28T09:10:32.391Z"
   },
   {
    "duration": 1872,
    "start_time": "2021-10-28T09:17:09.408Z"
   },
   {
    "duration": 1666,
    "start_time": "2021-10-28T09:25:00.938Z"
   },
   {
    "duration": 1683,
    "start_time": "2021-10-28T09:26:24.257Z"
   },
   {
    "duration": 90,
    "start_time": "2021-10-28T09:31:51.726Z"
   },
   {
    "duration": 10646,
    "start_time": "2021-10-28T09:34:21.448Z"
   },
   {
    "duration": 1965,
    "start_time": "2021-10-28T09:35:31.926Z"
   },
   {
    "duration": 2013,
    "start_time": "2021-10-28T09:36:58.486Z"
   },
   {
    "duration": 1807,
    "start_time": "2021-10-28T09:37:56.889Z"
   },
   {
    "duration": 1948,
    "start_time": "2021-10-28T09:38:15.348Z"
   },
   {
    "duration": 1337,
    "start_time": "2021-10-28T09:57:34.915Z"
   },
   {
    "duration": 103,
    "start_time": "2021-10-28T09:57:36.254Z"
   },
   {
    "duration": 22,
    "start_time": "2021-10-28T09:57:36.359Z"
   },
   {
    "duration": 95,
    "start_time": "2021-10-28T09:57:36.383Z"
   },
   {
    "duration": 44,
    "start_time": "2021-10-28T09:57:36.480Z"
   },
   {
    "duration": 52,
    "start_time": "2021-10-28T09:57:36.526Z"
   },
   {
    "duration": 5,
    "start_time": "2021-10-28T09:57:36.579Z"
   },
   {
    "duration": 11,
    "start_time": "2021-10-28T09:57:36.587Z"
   },
   {
    "duration": 593,
    "start_time": "2021-10-28T09:57:36.600Z"
   },
   {
    "duration": 6,
    "start_time": "2021-10-28T09:57:37.195Z"
   },
   {
    "duration": 15,
    "start_time": "2021-10-28T09:57:37.203Z"
   },
   {
    "duration": 32,
    "start_time": "2021-10-28T09:57:37.220Z"
   },
   {
    "duration": 76,
    "start_time": "2021-10-28T09:57:37.254Z"
   },
   {
    "duration": 5,
    "start_time": "2021-10-28T09:57:37.332Z"
   },
   {
    "duration": 54,
    "start_time": "2021-10-28T09:57:37.339Z"
   },
   {
    "duration": 22,
    "start_time": "2021-10-28T09:57:37.395Z"
   },
   {
    "duration": 139,
    "start_time": "2021-10-28T09:57:37.419Z"
   },
   {
    "duration": 1307,
    "start_time": "2021-10-28T09:57:37.560Z"
   },
   {
    "duration": 812,
    "start_time": "2021-10-28T09:57:38.876Z"
   },
   {
    "duration": 252,
    "start_time": "2021-10-28T09:57:39.690Z"
   },
   {
    "duration": 1157,
    "start_time": "2021-10-28T09:57:39.944Z"
   },
   {
    "duration": 279,
    "start_time": "2021-10-28T09:57:41.102Z"
   },
   {
    "duration": 6,
    "start_time": "2021-10-28T09:57:41.385Z"
   },
   {
    "duration": 394,
    "start_time": "2021-10-28T09:57:41.394Z"
   },
   {
    "duration": 7,
    "start_time": "2021-10-28T09:57:41.790Z"
   },
   {
    "duration": 1754,
    "start_time": "2021-10-28T09:57:41.799Z"
   },
   {
    "duration": 1921,
    "start_time": "2021-10-28T09:57:43.555Z"
   },
   {
    "duration": 1271,
    "start_time": "2021-10-28T10:07:51.764Z"
   },
   {
    "duration": 106,
    "start_time": "2021-10-28T10:07:53.037Z"
   },
   {
    "duration": 18,
    "start_time": "2021-10-28T10:07:53.146Z"
   },
   {
    "duration": 88,
    "start_time": "2021-10-28T10:07:53.177Z"
   },
   {
    "duration": 53,
    "start_time": "2021-10-28T10:07:53.267Z"
   },
   {
    "duration": 28,
    "start_time": "2021-10-28T10:07:53.322Z"
   },
   {
    "duration": 5,
    "start_time": "2021-10-28T10:07:53.378Z"
   },
   {
    "duration": 14,
    "start_time": "2021-10-28T10:07:53.386Z"
   },
   {
    "duration": 678,
    "start_time": "2021-10-28T10:07:53.402Z"
   },
   {
    "duration": 8,
    "start_time": "2021-10-28T10:07:54.083Z"
   },
   {
    "duration": 31,
    "start_time": "2021-10-28T10:07:54.093Z"
   },
   {
    "duration": 59,
    "start_time": "2021-10-28T10:07:54.126Z"
   },
   {
    "duration": 74,
    "start_time": "2021-10-28T10:07:54.188Z"
   },
   {
    "duration": 16,
    "start_time": "2021-10-28T10:07:54.264Z"
   },
   {
    "duration": 49,
    "start_time": "2021-10-28T10:07:54.282Z"
   },
   {
    "duration": 52,
    "start_time": "2021-10-28T10:07:54.333Z"
   },
   {
    "duration": 196,
    "start_time": "2021-10-28T10:07:54.388Z"
   },
   {
    "duration": 1281,
    "start_time": "2021-10-28T10:07:54.586Z"
   },
   {
    "duration": 918,
    "start_time": "2021-10-28T10:07:55.869Z"
   },
   {
    "duration": 253,
    "start_time": "2021-10-28T10:07:56.789Z"
   },
   {
    "duration": 1153,
    "start_time": "2021-10-28T10:07:57.044Z"
   },
   {
    "duration": 229,
    "start_time": "2021-10-28T10:07:58.199Z"
   },
   {
    "duration": 4,
    "start_time": "2021-10-28T10:07:58.431Z"
   },
   {
    "duration": 251,
    "start_time": "2021-10-28T10:07:58.436Z"
   },
   {
    "duration": 7,
    "start_time": "2021-10-28T10:07:58.689Z"
   },
   {
    "duration": 1763,
    "start_time": "2021-10-28T10:07:58.698Z"
   },
   {
    "duration": 1934,
    "start_time": "2021-10-28T10:08:00.464Z"
   },
   {
    "duration": 1108,
    "start_time": "2021-10-28T17:09:49.957Z"
   },
   {
    "duration": 110,
    "start_time": "2021-10-28T17:09:51.067Z"
   },
   {
    "duration": 21,
    "start_time": "2021-10-28T17:09:51.179Z"
   },
   {
    "duration": 105,
    "start_time": "2021-10-28T17:09:51.202Z"
   },
   {
    "duration": 42,
    "start_time": "2021-10-28T17:09:51.309Z"
   },
   {
    "duration": 50,
    "start_time": "2021-10-28T17:09:51.353Z"
   },
   {
    "duration": 4,
    "start_time": "2021-10-28T17:09:51.405Z"
   },
   {
    "duration": 13,
    "start_time": "2021-10-28T17:09:51.411Z"
   },
   {
    "duration": 619,
    "start_time": "2021-10-28T17:09:51.426Z"
   },
   {
    "duration": 7,
    "start_time": "2021-10-28T17:09:52.046Z"
   },
   {
    "duration": 16,
    "start_time": "2021-10-28T17:09:52.055Z"
   },
   {
    "duration": 48,
    "start_time": "2021-10-28T17:09:52.073Z"
   },
   {
    "duration": 53,
    "start_time": "2021-10-28T17:09:52.122Z"
   },
   {
    "duration": 5,
    "start_time": "2021-10-28T17:09:52.192Z"
   },
   {
    "duration": 36,
    "start_time": "2021-10-28T17:09:52.199Z"
   },
   {
    "duration": 22,
    "start_time": "2021-10-28T17:09:52.237Z"
   },
   {
    "duration": 149,
    "start_time": "2021-10-28T17:09:52.261Z"
   },
   {
    "duration": 1339,
    "start_time": "2021-10-28T17:09:52.412Z"
   },
   {
    "duration": 802,
    "start_time": "2021-10-28T17:09:53.752Z"
   },
   {
    "duration": 258,
    "start_time": "2021-10-28T17:09:54.555Z"
   },
   {
    "duration": 1223,
    "start_time": "2021-10-28T17:09:54.814Z"
   },
   {
    "duration": 254,
    "start_time": "2021-10-28T17:09:56.039Z"
   },
   {
    "duration": 4,
    "start_time": "2021-10-28T17:09:56.297Z"
   },
   {
    "duration": 284,
    "start_time": "2021-10-28T17:09:56.303Z"
   },
   {
    "duration": 7,
    "start_time": "2021-10-28T17:09:56.591Z"
   },
   {
    "duration": 1846,
    "start_time": "2021-10-28T17:09:56.600Z"
   },
   {
    "duration": 1909,
    "start_time": "2021-10-28T17:09:58.448Z"
   },
   {
    "duration": 1165,
    "start_time": "2021-10-31T08:15:50.660Z"
   },
   {
    "duration": 108,
    "start_time": "2021-10-31T08:15:51.827Z"
   },
   {
    "duration": 22,
    "start_time": "2021-10-31T08:15:51.937Z"
   },
   {
    "duration": 110,
    "start_time": "2021-10-31T08:15:51.961Z"
   },
   {
    "duration": 43,
    "start_time": "2021-10-31T08:15:52.073Z"
   },
   {
    "duration": 55,
    "start_time": "2021-10-31T08:15:52.118Z"
   },
   {
    "duration": 5,
    "start_time": "2021-10-31T08:15:52.175Z"
   },
   {
    "duration": 12,
    "start_time": "2021-10-31T08:15:52.182Z"
   },
   {
    "duration": 381,
    "start_time": "2021-10-31T08:18:30.132Z"
   },
   {
    "duration": 348,
    "start_time": "2021-10-31T08:18:39.637Z"
   },
   {
    "duration": 3,
    "start_time": "2021-10-31T08:18:53.696Z"
   },
   {
    "duration": 126,
    "start_time": "2021-10-31T08:18:53.701Z"
   },
   {
    "duration": 16,
    "start_time": "2021-10-31T08:18:53.829Z"
   },
   {
    "duration": 85,
    "start_time": "2021-10-31T08:18:53.848Z"
   },
   {
    "duration": 46,
    "start_time": "2021-10-31T08:18:53.945Z"
   },
   {
    "duration": 23,
    "start_time": "2021-10-31T08:18:53.993Z"
   },
   {
    "duration": 29,
    "start_time": "2021-10-31T08:18:54.018Z"
   },
   {
    "duration": 17,
    "start_time": "2021-10-31T08:18:54.049Z"
   },
   {
    "duration": 383,
    "start_time": "2021-10-31T08:18:59.360Z"
   },
   {
    "duration": 324,
    "start_time": "2021-10-31T08:19:18.340Z"
   },
   {
    "duration": 3,
    "start_time": "2021-10-31T08:21:32.433Z"
   },
   {
    "duration": 111,
    "start_time": "2021-10-31T08:21:32.438Z"
   },
   {
    "duration": 15,
    "start_time": "2021-10-31T08:21:32.552Z"
   },
   {
    "duration": 102,
    "start_time": "2021-10-31T08:21:32.569Z"
   },
   {
    "duration": 39,
    "start_time": "2021-10-31T08:21:32.672Z"
   },
   {
    "duration": 49,
    "start_time": "2021-10-31T08:21:32.713Z"
   },
   {
    "duration": 4,
    "start_time": "2021-10-31T08:21:32.764Z"
   },
   {
    "duration": 14,
    "start_time": "2021-10-31T08:21:32.770Z"
   },
   {
    "duration": 312,
    "start_time": "2021-10-31T08:21:37.288Z"
   },
   {
    "duration": 4,
    "start_time": "2021-10-31T08:22:48.342Z"
   },
   {
    "duration": 118,
    "start_time": "2021-10-31T08:22:48.350Z"
   },
   {
    "duration": 13,
    "start_time": "2021-10-31T08:22:48.469Z"
   },
   {
    "duration": 100,
    "start_time": "2021-10-31T08:22:48.484Z"
   },
   {
    "duration": 39,
    "start_time": "2021-10-31T08:22:48.586Z"
   },
   {
    "duration": 48,
    "start_time": "2021-10-31T08:22:48.627Z"
   },
   {
    "duration": 4,
    "start_time": "2021-10-31T08:22:48.676Z"
   },
   {
    "duration": 16,
    "start_time": "2021-10-31T08:22:48.681Z"
   },
   {
    "duration": 988,
    "start_time": "2021-10-31T08:22:51.325Z"
   },
   {
    "duration": 3,
    "start_time": "2021-10-31T08:23:12.010Z"
   },
   {
    "duration": 112,
    "start_time": "2021-10-31T08:23:12.015Z"
   },
   {
    "duration": 12,
    "start_time": "2021-10-31T08:23:12.128Z"
   },
   {
    "duration": 90,
    "start_time": "2021-10-31T08:23:12.142Z"
   },
   {
    "duration": 52,
    "start_time": "2021-10-31T08:23:12.233Z"
   },
   {
    "duration": 23,
    "start_time": "2021-10-31T08:23:12.286Z"
   },
   {
    "duration": 3,
    "start_time": "2021-10-31T08:23:12.311Z"
   },
   {
    "duration": 18,
    "start_time": "2021-10-31T08:23:12.345Z"
   },
   {
    "duration": 247,
    "start_time": "2021-10-31T08:23:14.322Z"
   },
   {
    "duration": 6,
    "start_time": "2021-10-31T08:23:34.705Z"
   },
   {
    "duration": 205,
    "start_time": "2021-10-31T08:23:53.185Z"
   },
   {
    "duration": 1543,
    "start_time": "2021-10-31T08:24:04.654Z"
   },
   {
    "duration": 2,
    "start_time": "2021-10-31T08:24:09.887Z"
   },
   {
    "duration": 113,
    "start_time": "2021-10-31T08:24:09.891Z"
   },
   {
    "duration": 12,
    "start_time": "2021-10-31T08:24:10.006Z"
   },
   {
    "duration": 109,
    "start_time": "2021-10-31T08:24:10.020Z"
   },
   {
    "duration": 58,
    "start_time": "2021-10-31T08:24:10.131Z"
   },
   {
    "duration": 23,
    "start_time": "2021-10-31T08:24:10.191Z"
   },
   {
    "duration": 29,
    "start_time": "2021-10-31T08:24:10.216Z"
   },
   {
    "duration": 16,
    "start_time": "2021-10-31T08:24:10.248Z"
   },
   {
    "duration": 8,
    "start_time": "2021-10-31T08:24:10.265Z"
   },
   {
    "duration": 1486,
    "start_time": "2021-10-31T08:24:13.546Z"
   },
   {
    "duration": 3,
    "start_time": "2021-10-31T08:24:35.740Z"
   },
   {
    "duration": 108,
    "start_time": "2021-10-31T08:24:35.745Z"
   },
   {
    "duration": 14,
    "start_time": "2021-10-31T08:24:35.855Z"
   },
   {
    "duration": 158,
    "start_time": "2021-10-31T08:24:35.870Z"
   },
   {
    "duration": 52,
    "start_time": "2021-10-31T08:24:36.030Z"
   },
   {
    "duration": 23,
    "start_time": "2021-10-31T08:24:36.083Z"
   },
   {
    "duration": 4,
    "start_time": "2021-10-31T08:24:36.107Z"
   },
   {
    "duration": 41,
    "start_time": "2021-10-31T08:24:36.112Z"
   },
   {
    "duration": 9,
    "start_time": "2021-10-31T08:24:36.156Z"
   },
   {
    "duration": 362,
    "start_time": "2021-10-31T08:24:47.232Z"
   },
   {
    "duration": 334,
    "start_time": "2021-10-31T08:25:03.231Z"
   },
   {
    "duration": 332,
    "start_time": "2021-10-31T08:25:35.452Z"
   },
   {
    "duration": 328,
    "start_time": "2021-10-31T08:25:45.189Z"
   },
   {
    "duration": 275,
    "start_time": "2021-10-31T08:27:06.572Z"
   },
   {
    "duration": 869,
    "start_time": "2021-10-31T08:27:32.285Z"
   },
   {
    "duration": 1703,
    "start_time": "2021-10-31T08:27:49.070Z"
   },
   {
    "duration": 267,
    "start_time": "2021-10-31T08:27:57.453Z"
   },
   {
    "duration": 811,
    "start_time": "2021-10-31T08:28:12.474Z"
   },
   {
    "duration": 3,
    "start_time": "2021-10-31T08:36:19.388Z"
   },
   {
    "duration": 115,
    "start_time": "2021-10-31T08:36:19.393Z"
   },
   {
    "duration": 13,
    "start_time": "2021-10-31T08:36:19.510Z"
   },
   {
    "duration": 107,
    "start_time": "2021-10-31T08:36:19.526Z"
   },
   {
    "duration": 47,
    "start_time": "2021-10-31T08:36:19.635Z"
   },
   {
    "duration": 23,
    "start_time": "2021-10-31T08:36:19.683Z"
   },
   {
    "duration": 15,
    "start_time": "2021-10-31T08:36:19.708Z"
   },
   {
    "duration": 27,
    "start_time": "2021-10-31T08:36:19.724Z"
   },
   {
    "duration": 8,
    "start_time": "2021-10-31T08:36:19.753Z"
   },
   {
    "duration": 293,
    "start_time": "2021-10-31T08:39:55.399Z"
   },
   {
    "duration": 42,
    "start_time": "2021-10-31T08:40:55.609Z"
   },
   {
    "duration": 1182,
    "start_time": "2021-10-31T08:43:48.734Z"
   },
   {
    "duration": 270,
    "start_time": "2021-10-31T08:45:10.890Z"
   },
   {
    "duration": 3,
    "start_time": "2021-10-31T08:46:02.185Z"
   },
   {
    "duration": 126,
    "start_time": "2021-10-31T08:46:02.192Z"
   },
   {
    "duration": 30,
    "start_time": "2021-10-31T08:46:02.319Z"
   },
   {
    "duration": 95,
    "start_time": "2021-10-31T08:46:02.351Z"
   },
   {
    "duration": 50,
    "start_time": "2021-10-31T08:46:02.448Z"
   },
   {
    "duration": 60,
    "start_time": "2021-10-31T08:46:02.500Z"
   },
   {
    "duration": 5,
    "start_time": "2021-10-31T08:46:02.561Z"
   },
   {
    "duration": 13,
    "start_time": "2021-10-31T08:46:02.567Z"
   },
   {
    "duration": 41,
    "start_time": "2021-10-31T08:46:02.582Z"
   },
   {
    "duration": 299,
    "start_time": "2021-10-31T08:46:02.625Z"
   },
   {
    "duration": 397,
    "start_time": "2021-10-31T08:46:02.926Z"
   },
   {
    "duration": 585,
    "start_time": "2021-10-31T08:46:03.325Z"
   },
   {
    "duration": 7,
    "start_time": "2021-10-31T08:46:03.911Z"
   },
   {
    "duration": 12,
    "start_time": "2021-10-31T08:46:03.920Z"
   },
   {
    "duration": 35,
    "start_time": "2021-10-31T08:46:03.945Z"
   },
   {
    "duration": 70,
    "start_time": "2021-10-31T08:46:03.982Z"
   },
   {
    "duration": 7,
    "start_time": "2021-10-31T08:46:04.054Z"
   },
   {
    "duration": 40,
    "start_time": "2021-10-31T08:46:04.063Z"
   },
   {
    "duration": 21,
    "start_time": "2021-10-31T08:46:04.105Z"
   },
   {
    "duration": 138,
    "start_time": "2021-10-31T08:46:04.144Z"
   },
   {
    "duration": 1272,
    "start_time": "2021-10-31T08:46:04.284Z"
   },
   {
    "duration": 1019,
    "start_time": "2021-10-31T08:46:05.558Z"
   },
   {
    "duration": 274,
    "start_time": "2021-10-31T08:46:06.579Z"
   },
   {
    "duration": 1046,
    "start_time": "2021-10-31T08:46:06.857Z"
   },
   {
    "duration": 232,
    "start_time": "2021-10-31T08:46:07.905Z"
   },
   {
    "duration": 9,
    "start_time": "2021-10-31T08:46:08.139Z"
   },
   {
    "duration": 245,
    "start_time": "2021-10-31T08:46:08.151Z"
   },
   {
    "duration": 9,
    "start_time": "2021-10-31T08:46:08.398Z"
   },
   {
    "duration": 1952,
    "start_time": "2021-10-31T08:46:08.409Z"
   },
   {
    "duration": 1768,
    "start_time": "2021-10-31T08:46:10.363Z"
   },
   {
    "duration": 266,
    "start_time": "2021-10-31T08:47:13.210Z"
   },
   {
    "duration": 14,
    "start_time": "2021-10-31T08:47:24.679Z"
   },
   {
    "duration": 2,
    "start_time": "2021-10-31T08:47:47.421Z"
   },
   {
    "duration": 131,
    "start_time": "2021-10-31T08:47:47.427Z"
   },
   {
    "duration": 13,
    "start_time": "2021-10-31T08:47:47.561Z"
   },
   {
    "duration": 102,
    "start_time": "2021-10-31T08:47:47.576Z"
   },
   {
    "duration": 38,
    "start_time": "2021-10-31T08:47:47.680Z"
   },
   {
    "duration": 49,
    "start_time": "2021-10-31T08:47:47.720Z"
   },
   {
    "duration": 5,
    "start_time": "2021-10-31T08:47:47.772Z"
   },
   {
    "duration": 14,
    "start_time": "2021-10-31T08:47:47.779Z"
   },
   {
    "duration": 6822,
    "start_time": "2021-10-31T08:48:22.838Z"
   },
   {
    "duration": 276,
    "start_time": "2021-10-31T08:48:35.977Z"
   },
   {
    "duration": 401,
    "start_time": "2021-10-31T08:48:38.621Z"
   },
   {
    "duration": 14,
    "start_time": "2021-10-31T08:48:48.759Z"
   },
   {
    "duration": 43,
    "start_time": "2021-10-31T08:49:38.935Z"
   },
   {
    "duration": 270,
    "start_time": "2021-10-31T09:17:04.390Z"
   },
   {
    "duration": 259,
    "start_time": "2021-10-31T09:17:23.680Z"
   },
   {
    "duration": 384,
    "start_time": "2021-10-31T09:22:38.376Z"
   },
   {
    "duration": 323,
    "start_time": "2021-10-31T09:23:09.178Z"
   },
   {
    "duration": 32,
    "start_time": "2021-10-31T09:23:43.004Z"
   },
   {
    "duration": 1152,
    "start_time": "2021-10-31T09:24:45.482Z"
   },
   {
    "duration": 8243,
    "start_time": "2021-10-31T09:25:12.439Z"
   },
   {
    "duration": 300,
    "start_time": "2021-10-31T09:27:35.908Z"
   },
   {
    "duration": 424,
    "start_time": "2021-10-31T09:27:59.516Z"
   },
   {
    "duration": 1831,
    "start_time": "2021-10-31T09:31:01.262Z"
   },
   {
    "duration": 640,
    "start_time": "2021-10-31T09:41:48.404Z"
   },
   {
    "duration": 483,
    "start_time": "2021-10-31T09:42:17.586Z"
   },
   {
    "duration": 473,
    "start_time": "2021-10-31T09:42:44.688Z"
   },
   {
    "duration": 1521,
    "start_time": "2021-10-31T09:52:57.841Z"
   },
   {
    "duration": 279,
    "start_time": "2021-10-31T10:00:16.365Z"
   },
   {
    "duration": 85,
    "start_time": "2021-10-31T10:00:41.315Z"
   },
   {
    "duration": 7644,
    "start_time": "2021-10-31T10:00:45.831Z"
   },
   {
    "duration": 110,
    "start_time": "2021-10-31T10:18:10.998Z"
   },
   {
    "duration": 1083,
    "start_time": "2021-10-31T10:18:17.497Z"
   },
   {
    "duration": 294,
    "start_time": "2021-10-31T10:18:52.955Z"
   },
   {
    "duration": 313,
    "start_time": "2021-10-31T10:19:04.008Z"
   },
   {
    "duration": 1144,
    "start_time": "2021-10-31T10:21:11.783Z"
   },
   {
    "duration": 1171,
    "start_time": "2021-10-31T10:26:36.433Z"
   },
   {
    "duration": 1237,
    "start_time": "2021-10-31T10:29:42.683Z"
   },
   {
    "duration": 1373,
    "start_time": "2021-10-31T10:31:31.408Z"
   },
   {
    "duration": 3,
    "start_time": "2021-10-31T10:31:58.884Z"
   },
   {
    "duration": 105,
    "start_time": "2021-10-31T10:31:58.889Z"
   },
   {
    "duration": 12,
    "start_time": "2021-10-31T10:31:58.996Z"
   },
   {
    "duration": 106,
    "start_time": "2021-10-31T10:31:59.010Z"
   },
   {
    "duration": 56,
    "start_time": "2021-10-31T10:31:59.118Z"
   },
   {
    "duration": 22,
    "start_time": "2021-10-31T10:31:59.176Z"
   },
   {
    "duration": 4,
    "start_time": "2021-10-31T10:31:59.200Z"
   },
   {
    "duration": 10,
    "start_time": "2021-10-31T10:31:59.205Z"
   },
   {
    "duration": 6790,
    "start_time": "2021-10-31T10:31:59.217Z"
   },
   {
    "duration": 1409,
    "start_time": "2021-10-31T10:32:06.097Z"
   },
   {
    "duration": 294,
    "start_time": "2021-10-31T10:35:17.556Z"
   },
   {
    "duration": 100,
    "start_time": "2021-10-31T10:40:04.230Z"
   },
   {
    "duration": 1241,
    "start_time": "2021-10-31T10:40:16.401Z"
   },
   {
    "duration": 2088,
    "start_time": "2021-10-31T10:54:13.547Z"
   },
   {
    "duration": 894,
    "start_time": "2021-10-31T10:57:17.585Z"
   },
   {
    "duration": 290,
    "start_time": "2021-10-31T10:57:22.447Z"
   }
  ],
  "kernelspec": {
   "display_name": "Python 3 (ipykernel)",
   "language": "python",
   "name": "python3"
  },
  "language_info": {
   "codemirror_mode": {
    "name": "ipython",
    "version": 3
   },
   "file_extension": ".py",
   "mimetype": "text/x-python",
   "name": "python",
   "nbconvert_exporter": "python",
   "pygments_lexer": "ipython3",
   "version": "3.9.14"
  },
  "toc": {
   "base_numbering": 1,
   "nav_menu": {},
   "number_sections": true,
   "sideBar": true,
   "skip_h1_title": true,
   "title_cell": "Table of Contents",
   "title_sidebar": "Contents",
   "toc_cell": false,
   "toc_position": {},
   "toc_section_display": true,
   "toc_window_display": false
  }
 },
 "nbformat": 4,
 "nbformat_minor": 2
}
